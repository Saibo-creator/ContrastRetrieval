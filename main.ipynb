{
 "cells": [
  {
   "cell_type": "code",
   "execution_count": 2,
   "metadata": {
    "ExecuteTime": {
     "end_time": "2020-12-03T12:17:43.887063Z",
     "start_time": "2020-12-03T12:17:43.358350Z"
    }
   },
   "outputs": [],
   "source": [
    "from data_loaders.AUS_dataset import AUSDataset, AUSPytorchDataset\n",
    "\n",
    "from transformers import AutoTokenizer, AutoModel\n",
    "import torch\n",
    "import torch.nn as nn\n",
    "from project_settings import EOS_TOK, EOC_TOK\n",
    "import pdb\n",
    "from tqdm import tqdm, trange\n",
    "import numpy as np\n",
    "from models.Model import MeanModel, TruncatModel, NNModel\n",
    "from project_settings import ExpConfig, DatasetConfig\n",
    "from utils import chunkify, encode_chunks, transform_chunk_to_dict"
   ]
  },
  {
   "cell_type": "markdown",
   "metadata": {},
   "source": [
    "## Metric"
   ]
  },
  {
   "cell_type": "code",
   "execution_count": 3,
   "metadata": {
    "ExecuteTime": {
     "end_time": "2020-12-03T12:17:43.899392Z",
     "start_time": "2020-12-03T12:17:43.897004Z"
    }
   },
   "outputs": [],
   "source": [
    "from metrics import micro_contrast,macro_contrast"
   ]
  },
  {
   "cell_type": "markdown",
   "metadata": {},
   "source": [
    "## misc"
   ]
  },
  {
   "cell_type": "code",
   "execution_count": 5,
   "metadata": {
    "ExecuteTime": {
     "end_time": "2020-12-03T12:13:29.024108Z",
     "start_time": "2020-12-03T12:13:29.019511Z"
    }
   },
   "outputs": [],
   "source": [
    "# def transform_chunk_to_dict(chunk):\n",
    "#     n,dim=chunk.size()\n",
    "#     chunk_dict={}\n",
    "#     chunk_dict[\"input_ids\"]=chunk[0]\n",
    "#     chunk_dict[\"token_type_ids\"]=chunk[1]\n",
    "#     chunk_dict[\"attention_mask\"]=chunk[2]\n",
    "#     return chunk_dict"
   ]
  },
  {
   "cell_type": "markdown",
   "metadata": {},
   "source": [
    "## Benchmark tranformer"
   ]
  },
  {
   "cell_type": "markdown",
   "metadata": {},
   "source": [
    "Here we test the transformer via a **retrieval task**. We want to pair case **description** with the right **catchphrases** for each case in our legal dataset.\n",
    "\n",
    "As seen preivously in the **dataset analysis**, the case description are in general very long, average length is **34k** chars,thus around **6k tokens**. However, transformer relying to squared attention only takes 512 tokens. So in this very naive baseline benchmark, we just truncate the sentence at **512th token** "
   ]
  },
  {
   "cell_type": "code",
   "execution_count": null,
   "metadata": {
    "ExecuteTime": {
     "start_time": "2020-12-03T12:13:30.236Z"
    }
   },
   "outputs": [
    {
     "name": "stderr",
     "output_type": "stream",
     "text": [
      "\r",
      "0it [00:00, ?it/s]"
     ]
    },
    {
     "name": "stdout",
     "output_type": "stream",
     "text": [
      "sentences_a length: 9849\n"
     ]
    },
    {
     "name": "stderr",
     "output_type": "stream",
     "text": [
      "\r",
      "1it [00:00,  2.46it/s]"
     ]
    },
    {
     "name": "stdout",
     "output_type": "stream",
     "text": [
      "Test micro contrast: -0.2915652096271515\n",
      "Test macro contrast: -0.2915654182434082\n",
      "sentences_a length: 43829\n"
     ]
    },
    {
     "name": "stderr",
     "output_type": "stream",
     "text": [
      "\r",
      "2it [00:01,  2.08it/s]"
     ]
    },
    {
     "name": "stdout",
     "output_type": "stream",
     "text": [
      "Test micro contrast: -0.15208914875984192\n",
      "Test macro contrast: -0.15208923816680908\n",
      "sentences_a length: 37594\n"
     ]
    },
    {
     "name": "stderr",
     "output_type": "stream",
     "text": [
      "\r",
      "3it [00:01,  1.99it/s]"
     ]
    },
    {
     "name": "stdout",
     "output_type": "stream",
     "text": [
      "Test micro contrast: -0.059666335582733154\n",
      "Test macro contrast: -0.07713142782449722\n",
      "sentences_a length: 16457\n"
     ]
    },
    {
     "name": "stderr",
     "output_type": "stream",
     "text": [
      "\r",
      "4it [00:02,  1.43it/s]"
     ]
    },
    {
     "name": "stdout",
     "output_type": "stream",
     "text": [
      "Test micro contrast: -0.06612031161785126\n",
      "Test macro contrast: -0.060889363288879395\n",
      "sentences_a length: 13591\n"
     ]
    },
    {
     "name": "stderr",
     "output_type": "stream",
     "text": [
      "\r",
      "5it [00:03,  1.58it/s]"
     ]
    },
    {
     "name": "stdout",
     "output_type": "stream",
     "text": [
      "Test micro contrast: -0.1408812701702118\n",
      "Test macro contrast: -0.049582671374082565\n",
      "sentences_a length: 5725\n"
     ]
    },
    {
     "name": "stderr",
     "output_type": "stream",
     "text": [
      "\r",
      "6it [00:04,  1.40it/s]"
     ]
    },
    {
     "name": "stdout",
     "output_type": "stream",
     "text": [
      "Test micro contrast: -0.16578318178653717\n",
      "Test macro contrast: -0.05182870104908943\n",
      "sentences_a length: 4359\n"
     ]
    },
    {
     "name": "stderr",
     "output_type": "stream",
     "text": [
      "\r",
      "7it [00:04,  1.66it/s]"
     ]
    },
    {
     "name": "stdout",
     "output_type": "stream",
     "text": [
      "Test micro contrast: -0.19738708436489105\n",
      "Test macro contrast: -0.07518605142831802\n",
      "sentences_a length: 28842\n"
     ]
    },
    {
     "name": "stderr",
     "output_type": "stream",
     "text": [
      "\r",
      "8it [00:04,  1.84it/s]"
     ]
    },
    {
     "name": "stdout",
     "output_type": "stream",
     "text": [
      "Test micro contrast: -0.25972646474838257\n",
      "Test macro contrast: -0.10576280951499939\n",
      "sentences_a length: 11473\n"
     ]
    },
    {
     "name": "stderr",
     "output_type": "stream",
     "text": [
      "\r",
      "9it [00:05,  1.96it/s]"
     ]
    },
    {
     "name": "stdout",
     "output_type": "stream",
     "text": [
      "Test micro contrast: -0.23750482499599457\n",
      "Test macro contrast: -0.08275498449802399\n",
      "sentences_a length: 8456\n"
     ]
    },
    {
     "name": "stderr",
     "output_type": "stream",
     "text": [
      "\r",
      "10it [00:05,  2.23it/s]"
     ]
    },
    {
     "name": "stdout",
     "output_type": "stream",
     "text": [
      "Test micro contrast: -0.19420306384563446\n",
      "Test macro contrast: -0.029058266431093216\n",
      "sentences_a length: 6620\n"
     ]
    },
    {
     "name": "stderr",
     "output_type": "stream",
     "text": [
      "\r",
      "11it [00:06,  2.21it/s]"
     ]
    },
    {
     "name": "stdout",
     "output_type": "stream",
     "text": [
      "Test micro contrast: -0.14246319234371185\n",
      "Test macro contrast: -0.01392724271863699\n",
      "sentences_a length: 31855\n"
     ]
    },
    {
     "name": "stderr",
     "output_type": "stream",
     "text": [
      "\r",
      "12it [00:06,  1.94it/s]"
     ]
    },
    {
     "name": "stdout",
     "output_type": "stream",
     "text": [
      "Test micro contrast: -0.14163948595523834\n",
      "Test macro contrast: 0.004203418735414743\n"
     ]
    },
    {
     "name": "stderr",
     "output_type": "stream",
     "text": [
      "\r",
      "13it [00:07,  2.04it/s]"
     ]
    },
    {
     "name": "stdout",
     "output_type": "stream",
     "text": [
      "sentences_a length: 36872\n",
      "Test micro contrast: -0.15020564198493958\n",
      "Test macro contrast: 0.004489348269999027\n"
     ]
    },
    {
     "name": "stderr",
     "output_type": "stream",
     "text": [
      "\r",
      "14it [00:07,  2.04it/s]"
     ]
    },
    {
     "name": "stdout",
     "output_type": "stream",
     "text": [
      "sentences_a length: 29055\n",
      "Test micro contrast: -0.15139184892177582\n",
      "Test macro contrast: -0.007746492046862841\n",
      "sentences_a length: 7935\n"
     ]
    },
    {
     "name": "stderr",
     "output_type": "stream",
     "text": [
      "\r",
      "15it [00:08,  1.84it/s]"
     ]
    },
    {
     "name": "stdout",
     "output_type": "stream",
     "text": [
      "Test micro contrast: -0.09898453205823898\n",
      "Test macro contrast: -0.008049090392887592\n",
      "sentences_a length: 76543\n"
     ]
    },
    {
     "name": "stderr",
     "output_type": "stream",
     "text": [
      "\r",
      "16it [00:09,  1.44it/s]"
     ]
    },
    {
     "name": "stdout",
     "output_type": "stream",
     "text": [
      "Test micro contrast: -0.08227216452360153\n",
      "Test macro contrast: -0.012295186519622803\n",
      "sentences_a length: 46535\n"
     ]
    },
    {
     "name": "stderr",
     "output_type": "stream",
     "text": [
      "\r",
      "17it [00:10,  1.48it/s]"
     ]
    },
    {
     "name": "stdout",
     "output_type": "stream",
     "text": [
      "Test micro contrast: -0.06599713116884232\n",
      "Test macro contrast: -0.013866831548511982\n",
      "sentences_a length: 3686\n"
     ]
    },
    {
     "name": "stderr",
     "output_type": "stream",
     "text": [
      "\r",
      "18it [00:10,  1.74it/s]"
     ]
    },
    {
     "name": "stdout",
     "output_type": "stream",
     "text": [
      "Test micro contrast: -0.022096101194620132\n",
      "Test macro contrast: -0.03038530796766281\n"
     ]
    },
    {
     "name": "stderr",
     "output_type": "stream",
     "text": [
      "\r",
      "19it [00:10,  1.81it/s]"
     ]
    },
    {
     "name": "stdout",
     "output_type": "stream",
     "text": [
      "sentences_a length: 42466\n",
      "Test micro contrast: -0.022785818204283714\n",
      "Test macro contrast: -0.030638758093118668\n"
     ]
    },
    {
     "name": "stderr",
     "output_type": "stream",
     "text": [
      "\r",
      "20it [00:11,  2.03it/s]"
     ]
    },
    {
     "name": "stdout",
     "output_type": "stream",
     "text": [
      "sentences_a length: 14931\n",
      "Test micro contrast: -0.047829221934080124\n",
      "Test macro contrast: -0.03186030313372612\n",
      "sentences_a length: 18023\n"
     ]
    },
    {
     "name": "stderr",
     "output_type": "stream",
     "text": [
      "\r",
      "21it [00:11,  2.03it/s]"
     ]
    },
    {
     "name": "stdout",
     "output_type": "stream",
     "text": [
      "Test micro contrast: -0.058846257627010345\n",
      "Test macro contrast: -0.035361915826797485\n",
      "sentences_a length: 14096\n"
     ]
    },
    {
     "name": "stderr",
     "output_type": "stream",
     "text": [
      "\r",
      "22it [00:12,  1.65it/s]"
     ]
    },
    {
     "name": "stdout",
     "output_type": "stream",
     "text": [
      "Test micro contrast: -0.05002466216683388\n",
      "Test macro contrast: -0.03876715525984764\n",
      "sentences_a length: 4481\n"
     ]
    },
    {
     "name": "stderr",
     "output_type": "stream",
     "text": [
      "\r",
      "23it [00:12,  1.92it/s]"
     ]
    },
    {
     "name": "stdout",
     "output_type": "stream",
     "text": [
      "Test micro contrast: -0.045403748750686646\n",
      "Test macro contrast: -0.03463570028543472\n",
      "sentences_a length: 12980\n"
     ]
    },
    {
     "name": "stderr",
     "output_type": "stream",
     "text": [
      "\r",
      "24it [00:13,  2.06it/s]"
     ]
    },
    {
     "name": "stdout",
     "output_type": "stream",
     "text": [
      "Test micro contrast: -0.009089861996471882\n",
      "Test macro contrast: -0.03550989553332329\n",
      "sentences_a length: 1951\n"
     ]
    },
    {
     "name": "stderr",
     "output_type": "stream",
     "text": [
      "\r",
      "25it [00:13,  2.10it/s]"
     ]
    },
    {
     "name": "stdout",
     "output_type": "stream",
     "text": [
      "Test micro contrast: -0.03269847482442856\n",
      "Test macro contrast: -0.041228197515010834\n",
      "sentences_a length: 6401\n"
     ]
    },
    {
     "name": "stderr",
     "output_type": "stream",
     "text": [
      "\r",
      "26it [00:14,  2.09it/s]"
     ]
    },
    {
     "name": "stdout",
     "output_type": "stream",
     "text": [
      "Test micro contrast: -0.03033062443137169\n",
      "Test macro contrast: -0.03752788156270981\n",
      "sentences_a length: 2845\n"
     ]
    },
    {
     "name": "stderr",
     "output_type": "stream",
     "text": [
      "\r",
      "27it [00:14,  2.48it/s]"
     ]
    },
    {
     "name": "stdout",
     "output_type": "stream",
     "text": [
      "Test micro contrast: -0.055818770080804825\n",
      "Test macro contrast: -0.04925359785556793\n",
      "sentences_a length: 30020\n"
     ]
    },
    {
     "name": "stderr",
     "output_type": "stream",
     "text": [
      "\r",
      "28it [00:15,  2.05it/s]"
     ]
    },
    {
     "name": "stdout",
     "output_type": "stream",
     "text": [
      "Test micro contrast: -0.052247993648052216\n",
      "Test macro contrast: -0.04458241909742355\n",
      "sentences_a length: 39861\n"
     ]
    },
    {
     "name": "stderr",
     "output_type": "stream",
     "text": [
      "\r",
      "29it [00:16,  1.51it/s]"
     ]
    },
    {
     "name": "stdout",
     "output_type": "stream",
     "text": [
      "Test micro contrast: -0.04358787089586258\n",
      "Test macro contrast: -0.04476936161518097\n",
      "sentences_a length: 9912\n"
     ]
    },
    {
     "name": "stderr",
     "output_type": "stream",
     "text": [
      "\r",
      "30it [00:16,  1.78it/s]"
     ]
    },
    {
     "name": "stdout",
     "output_type": "stream",
     "text": [
      "Test micro contrast: -0.02267518825829029\n",
      "Test macro contrast: -0.01812257058918476\n"
     ]
    },
    {
     "name": "stderr",
     "output_type": "stream",
     "text": [
      "\r",
      "31it [00:16,  1.92it/s]"
     ]
    },
    {
     "name": "stdout",
     "output_type": "stream",
     "text": [
      "sentences_a length: 5403\n",
      "Test micro contrast: -0.021871112287044525\n",
      "Test macro contrast: -0.026183927431702614\n",
      "sentences_a length: 25180\n"
     ]
    },
    {
     "name": "stderr",
     "output_type": "stream",
     "text": [
      "\r",
      "32it [00:17,  1.67it/s]"
     ]
    },
    {
     "name": "stdout",
     "output_type": "stream",
     "text": [
      "Test micro contrast: -0.04150398448109627\n",
      "Test macro contrast: -0.029904872179031372\n",
      "sentences_a length: 31675\n"
     ]
    },
    {
     "name": "stderr",
     "output_type": "stream",
     "text": [
      "\r",
      "33it [00:18,  1.37it/s]"
     ]
    },
    {
     "name": "stdout",
     "output_type": "stream",
     "text": [
      "Test micro contrast: -0.08122880756855011\n",
      "Test macro contrast: -0.03610634803771973\n",
      "sentences_a length: 28761\n"
     ]
    },
    {
     "name": "stderr",
     "output_type": "stream",
     "text": [
      "\r",
      "34it [00:19,  1.42it/s]"
     ]
    },
    {
     "name": "stdout",
     "output_type": "stream",
     "text": [
      "Test micro contrast: -0.08646271377801895\n",
      "Test macro contrast: -0.042667388916015625\n",
      "sentences_a length: 51217\n"
     ]
    },
    {
     "name": "stderr",
     "output_type": "stream",
     "text": [
      "\r",
      "35it [00:20,  1.23it/s]"
     ]
    },
    {
     "name": "stdout",
     "output_type": "stream",
     "text": [
      "Test micro contrast: -0.08477326482534409\n",
      "Test macro contrast: -0.04952338710427284\n"
     ]
    },
    {
     "name": "stderr",
     "output_type": "stream",
     "text": [
      "\r",
      "36it [00:21,  1.37it/s]"
     ]
    },
    {
     "name": "stdout",
     "output_type": "stream",
     "text": [
      "sentences_a length: 7098\n",
      "Test micro contrast: -0.09187286347150803\n",
      "Test macro contrast: -0.053943634033203125\n"
     ]
    },
    {
     "name": "stderr",
     "output_type": "stream",
     "text": [
      "\r",
      "37it [00:21,  1.51it/s]"
     ]
    },
    {
     "name": "stdout",
     "output_type": "stream",
     "text": [
      "sentences_a length: 8538\n",
      "Test micro contrast: -0.08995797485113144\n",
      "Test macro contrast: -0.054261624813079834\n"
     ]
    },
    {
     "name": "stderr",
     "output_type": "stream",
     "text": [
      "\r",
      "38it [00:21,  1.76it/s]"
     ]
    },
    {
     "name": "stdout",
     "output_type": "stream",
     "text": [
      "sentences_a length: 12820\n",
      "Test micro contrast: -0.08996535837650299\n",
      "Test macro contrast: -0.05359787121415138\n",
      "sentences_a length: 20795\n"
     ]
    },
    {
     "name": "stderr",
     "output_type": "stream",
     "text": [
      "\r",
      "39it [00:22,  1.60it/s]"
     ]
    },
    {
     "name": "stdout",
     "output_type": "stream",
     "text": [
      "Test micro contrast: -0.08718250691890717\n",
      "Test macro contrast: -0.05174751952290535\n"
     ]
    },
    {
     "name": "stderr",
     "output_type": "stream",
     "text": [
      "\r",
      "40it [00:23,  1.47it/s]"
     ]
    },
    {
     "name": "stdout",
     "output_type": "stream",
     "text": [
      "sentences_a length: 66738\n",
      "Test micro contrast: -0.0874921903014183\n",
      "Test macro contrast: -0.05294307321310043\n",
      "sentences_a length: 57633\n"
     ]
    },
    {
     "name": "stderr",
     "output_type": "stream",
     "text": [
      "\r",
      "41it [00:24,  1.26it/s]"
     ]
    },
    {
     "name": "stdout",
     "output_type": "stream",
     "text": [
      "Test micro contrast: -0.08664834499359131\n",
      "Test macro contrast: -0.05376070365309715\n",
      "sentences_a length: 24273\n"
     ]
    },
    {
     "name": "stderr",
     "output_type": "stream",
     "text": [
      "\r",
      "42it [00:25,  1.38it/s]"
     ]
    },
    {
     "name": "stdout",
     "output_type": "stream",
     "text": [
      "Test micro contrast: -0.08495472371578217\n",
      "Test macro contrast: -0.05285012722015381\n",
      "sentences_a length: 24988\n"
     ]
    },
    {
     "name": "stderr",
     "output_type": "stream",
     "text": [
      "\r",
      "43it [00:25,  1.64it/s]"
     ]
    },
    {
     "name": "stdout",
     "output_type": "stream",
     "text": [
      "Test micro contrast: -0.10063589364290237\n",
      "Test macro contrast: -0.05217268690466881\n",
      "sentences_a length: 39933\n"
     ]
    },
    {
     "name": "stderr",
     "output_type": "stream",
     "text": [
      "\r",
      "44it [00:26,  1.66it/s]"
     ]
    },
    {
     "name": "stdout",
     "output_type": "stream",
     "text": [
      "Test micro contrast: -0.09374707192182541\n",
      "Test macro contrast: -0.050816938281059265\n",
      "sentences_a length: 3738\n"
     ]
    },
    {
     "name": "stderr",
     "output_type": "stream",
     "text": [
      "\r",
      "45it [00:26,  1.92it/s]"
     ]
    },
    {
     "name": "stdout",
     "output_type": "stream",
     "text": [
      "Test micro contrast: -0.09634701162576675\n",
      "Test macro contrast: -0.05354951694607735\n",
      "sentences_a length: 18375\n"
     ]
    },
    {
     "name": "stderr",
     "output_type": "stream",
     "text": [
      "\r",
      "46it [00:26,  1.83it/s]"
     ]
    },
    {
     "name": "stdout",
     "output_type": "stream",
     "text": [
      "Test micro contrast: -0.10679062455892563\n",
      "Test macro contrast: -0.05282467231154442\n"
     ]
    },
    {
     "name": "stderr",
     "output_type": "stream",
     "text": [
      "\r",
      "47it [00:27,  1.86it/s]"
     ]
    },
    {
     "name": "stdout",
     "output_type": "stream",
     "text": [
      "sentences_a length: 9564\n",
      "Test micro contrast: -0.11388696730136871\n",
      "Test macro contrast: -0.061069224029779434\n",
      "sentences_a length: 4147\n"
     ]
    },
    {
     "name": "stderr",
     "output_type": "stream",
     "text": [
      "\r",
      "48it [00:28,  1.50it/s]"
     ]
    },
    {
     "name": "stdout",
     "output_type": "stream",
     "text": [
      "Test micro contrast: -0.1165132224559784\n",
      "Test macro contrast: -0.06158343330025673\n",
      "sentences_a length: 18508\n"
     ]
    },
    {
     "name": "stderr",
     "output_type": "stream",
     "text": [
      "\r",
      "49it [00:29,  1.49it/s]"
     ]
    },
    {
     "name": "stdout",
     "output_type": "stream",
     "text": [
      "Test micro contrast: -0.1248675286769867\n",
      "Test macro contrast: -0.0673394501209259\n",
      "sentences_a length: 1028\n"
     ]
    },
    {
     "name": "stderr",
     "output_type": "stream",
     "text": [
      "\r",
      "50it [00:29,  1.47it/s]"
     ]
    },
    {
     "name": "stdout",
     "output_type": "stream",
     "text": [
      "Test micro contrast: -0.08492667227983475\n",
      "Test macro contrast: -0.06336750090122223\n",
      "sentences_a length: 41055\n"
     ]
    },
    {
     "name": "stderr",
     "output_type": "stream",
     "text": [
      "\r",
      "51it [00:31,  1.15it/s]"
     ]
    },
    {
     "name": "stdout",
     "output_type": "stream",
     "text": [
      "Test micro contrast: -0.08275644481182098\n",
      "Test macro contrast: -0.06206556037068367\n",
      "sentences_a length: 48924\n"
     ]
    },
    {
     "name": "stderr",
     "output_type": "stream",
     "text": [
      "\r",
      "52it [00:31,  1.19it/s]"
     ]
    },
    {
     "name": "stdout",
     "output_type": "stream",
     "text": [
      "Test micro contrast: -0.07971576601266861\n",
      "Test macro contrast: -0.06414929032325745\n"
     ]
    },
    {
     "name": "stderr",
     "output_type": "stream",
     "text": [
      "\r",
      "53it [00:32,  1.41it/s]"
     ]
    },
    {
     "name": "stdout",
     "output_type": "stream",
     "text": [
      "sentences_a length: 29804\n",
      "Test micro contrast: -0.07617688924074173\n",
      "Test macro contrast: -0.06090410798788071\n",
      "sentences_a length: 34544\n"
     ]
    },
    {
     "name": "stderr",
     "output_type": "stream",
     "text": [
      "\r",
      "54it [00:32,  1.46it/s]"
     ]
    },
    {
     "name": "stdout",
     "output_type": "stream",
     "text": [
      "Test micro contrast: -0.07111556828022003\n",
      "Test macro contrast: -0.05955566465854645\n",
      "sentences_a length: 16492\n"
     ]
    },
    {
     "name": "stderr",
     "output_type": "stream",
     "text": [
      "\r",
      "55it [00:33,  1.30it/s]"
     ]
    },
    {
     "name": "stdout",
     "output_type": "stream",
     "text": [
      "Test micro contrast: -0.0747065320611\n",
      "Test macro contrast: -0.061950623989105225\n",
      "sentences_a length: 4961\n"
     ]
    },
    {
     "name": "stderr",
     "output_type": "stream",
     "text": [
      "\r",
      "56it [00:34,  1.50it/s]"
     ]
    },
    {
     "name": "stdout",
     "output_type": "stream",
     "text": [
      "Test micro contrast: -0.0666022077202797\n",
      "Test macro contrast: -0.06038342043757439\n",
      "sentences_a length: 9619\n"
     ]
    },
    {
     "name": "stderr",
     "output_type": "stream",
     "text": [
      "\r",
      "57it [00:34,  1.70it/s]"
     ]
    },
    {
     "name": "stdout",
     "output_type": "stream",
     "text": [
      "Test micro contrast: -0.09173166006803513\n",
      "Test macro contrast: -0.06360092014074326\n",
      "sentences_a length: 14358\n"
     ]
    },
    {
     "name": "stderr",
     "output_type": "stream",
     "text": [
      "\r",
      "58it [00:35,  1.89it/s]"
     ]
    },
    {
     "name": "stdout",
     "output_type": "stream",
     "text": [
      "Test micro contrast: -0.09134522080421448\n",
      "Test macro contrast: -0.06476467847824097\n",
      "sentences_a length: 7946\n"
     ]
    },
    {
     "name": "stderr",
     "output_type": "stream",
     "text": [
      "\r",
      "59it [00:35,  1.61it/s]"
     ]
    },
    {
     "name": "stdout",
     "output_type": "stream",
     "text": [
      "Test micro contrast: -0.09457195550203323\n",
      "Test macro contrast: -0.06705283373594284\n",
      "sentences_a length: 7102\n"
     ]
    },
    {
     "name": "stderr",
     "output_type": "stream",
     "text": [
      "\r",
      "60it [00:36,  1.77it/s]"
     ]
    },
    {
     "name": "stdout",
     "output_type": "stream",
     "text": [
      "Test micro contrast: -0.09365064650774002\n",
      "Test macro contrast: -0.06859808415174484\n",
      "sentences_a length: 7328\n"
     ]
    },
    {
     "name": "stderr",
     "output_type": "stream",
     "text": [
      "\r",
      "61it [00:36,  2.08it/s]"
     ]
    },
    {
     "name": "stdout",
     "output_type": "stream",
     "text": [
      "Test micro contrast: -0.0991426482796669\n",
      "Test macro contrast: -0.0725482702255249\n",
      "sentences_a length: 8596\n"
     ]
    },
    {
     "name": "stderr",
     "output_type": "stream",
     "text": [
      "\r",
      "62it [00:37,  2.25it/s]"
     ]
    },
    {
     "name": "stdout",
     "output_type": "stream",
     "text": [
      "Test micro contrast: -0.10159669816493988\n",
      "Test macro contrast: -0.07312946021556854\n",
      "sentences_a length: 6493\n"
     ]
    },
    {
     "name": "stderr",
     "output_type": "stream",
     "text": [
      "\r",
      "63it [00:38,  1.48it/s]"
     ]
    },
    {
     "name": "stdout",
     "output_type": "stream",
     "text": [
      "Test micro contrast: -0.10560236871242523\n",
      "Test macro contrast: -0.07332772761583328\n",
      "sentences_a length: 16077\n"
     ]
    },
    {
     "name": "stderr",
     "output_type": "stream",
     "text": [
      "\r",
      "64it [00:38,  1.63it/s]"
     ]
    },
    {
     "name": "stdout",
     "output_type": "stream",
     "text": [
      "Test micro contrast: -0.10659968107938766\n",
      "Test macro contrast: -0.07294259965419769\n",
      "sentences_a length: 14898\n"
     ]
    },
    {
     "name": "stderr",
     "output_type": "stream",
     "text": [
      "\r",
      "65it [00:39,  1.90it/s]"
     ]
    },
    {
     "name": "stdout",
     "output_type": "stream",
     "text": [
      "Test micro contrast: -0.10746711492538452\n",
      "Test macro contrast: -0.07432783395051956\n",
      "sentences_a length: 3798\n"
     ]
    },
    {
     "name": "stderr",
     "output_type": "stream",
     "text": [
      "\r",
      "66it [00:40,  1.40it/s]"
     ]
    },
    {
     "name": "stdout",
     "output_type": "stream",
     "text": [
      "Test micro contrast: -0.1094883382320404\n",
      "Test macro contrast: -0.07412353903055191\n",
      "sentences_a length: 11647\n"
     ]
    },
    {
     "name": "stderr",
     "output_type": "stream",
     "text": [
      "\r",
      "67it [00:40,  1.42it/s]"
     ]
    },
    {
     "name": "stdout",
     "output_type": "stream",
     "text": [
      "Test micro contrast: -0.08876711130142212\n",
      "Test macro contrast: -0.0775754526257515\n",
      "sentences_a length: 8726\n"
     ]
    },
    {
     "name": "stderr",
     "output_type": "stream",
     "text": [
      "\r",
      "68it [00:41,  1.44it/s]"
     ]
    },
    {
     "name": "stdout",
     "output_type": "stream",
     "text": [
      "Test micro contrast: -0.09003031253814697\n",
      "Test macro contrast: -0.0772327110171318\n",
      "sentences_a length: 52237\n"
     ]
    },
    {
     "name": "stderr",
     "output_type": "stream",
     "text": [
      "\r",
      "69it [00:42,  1.40it/s]"
     ]
    },
    {
     "name": "stdout",
     "output_type": "stream",
     "text": [
      "Test micro contrast: -0.0878654271364212\n",
      "Test macro contrast: -0.0777420774102211\n",
      "sentences_a length: 4497\n"
     ]
    },
    {
     "name": "stderr",
     "output_type": "stream",
     "text": [
      "\r",
      "70it [00:43,  1.23it/s]"
     ]
    },
    {
     "name": "stdout",
     "output_type": "stream",
     "text": [
      "Test micro contrast: -0.09790365397930145\n",
      "Test macro contrast: -0.0784536600112915\n",
      "sentences_a length: 10040\n"
     ]
    },
    {
     "name": "stderr",
     "output_type": "stream",
     "text": [
      "\r",
      "71it [00:44,  1.21it/s]"
     ]
    },
    {
     "name": "stdout",
     "output_type": "stream",
     "text": [
      "Test micro contrast: -0.09848601371049881\n",
      "Test macro contrast: -0.07802968472242355\n",
      "sentences_a length: 25666\n"
     ]
    },
    {
     "name": "stderr",
     "output_type": "stream",
     "text": [
      "\r",
      "72it [00:44,  1.23it/s]"
     ]
    },
    {
     "name": "stdout",
     "output_type": "stream",
     "text": [
      "Test micro contrast: -0.08629627525806427\n",
      "Test macro contrast: -0.07949912548065186\n",
      "sentences_a length: 9120\n"
     ]
    },
    {
     "name": "stderr",
     "output_type": "stream",
     "text": [
      "\r",
      "73it [00:45,  1.35it/s]"
     ]
    },
    {
     "name": "stdout",
     "output_type": "stream",
     "text": [
      "Test micro contrast: -0.07967273145914078\n",
      "Test macro contrast: -0.0787789449095726\n",
      "sentences_a length: 6645\n"
     ]
    },
    {
     "name": "stderr",
     "output_type": "stream",
     "text": [
      "\r",
      "74it [00:45,  1.55it/s]"
     ]
    },
    {
     "name": "stdout",
     "output_type": "stream",
     "text": [
      "Test micro contrast: -0.0798962339758873\n",
      "Test macro contrast: -0.07739415019750595\n",
      "sentences_a length: 16558\n"
     ]
    },
    {
     "name": "stderr",
     "output_type": "stream",
     "text": [
      "\r",
      "75it [00:46,  1.61it/s]"
     ]
    },
    {
     "name": "stdout",
     "output_type": "stream",
     "text": [
      "Test micro contrast: -0.08164047449827194\n",
      "Test macro contrast: -0.07552285492420197\n",
      "sentences_a length: 4290\n"
     ]
    },
    {
     "name": "stderr",
     "output_type": "stream",
     "text": [
      "\r",
      "76it [00:47,  1.66it/s]"
     ]
    },
    {
     "name": "stdout",
     "output_type": "stream",
     "text": [
      "Test micro contrast: -0.08630166202783585\n",
      "Test macro contrast: -0.07710706442594528\n",
      "sentences_a length: 24349\n"
     ]
    },
    {
     "name": "stderr",
     "output_type": "stream",
     "text": [
      "\r",
      "77it [00:47,  1.80it/s]"
     ]
    },
    {
     "name": "stdout",
     "output_type": "stream",
     "text": [
      "Test micro contrast: -0.08636971563100815\n",
      "Test macro contrast: -0.07813010364770889\n",
      "sentences_a length: 62731\n"
     ]
    },
    {
     "name": "stderr",
     "output_type": "stream",
     "text": [
      "\r",
      "78it [00:48,  1.56it/s]"
     ]
    },
    {
     "name": "stdout",
     "output_type": "stream",
     "text": [
      "Test micro contrast: -0.0817670226097107\n",
      "Test macro contrast: -0.07782872766256332\n",
      "sentences_a length: 34654\n"
     ]
    },
    {
     "name": "stderr",
     "output_type": "stream",
     "text": [
      "\r",
      "79it [00:48,  1.65it/s]"
     ]
    },
    {
     "name": "stdout",
     "output_type": "stream",
     "text": [
      "Test micro contrast: -0.10452708601951599\n",
      "Test macro contrast: -0.07818122208118439\n",
      "sentences_a length: 7999\n"
     ]
    },
    {
     "name": "stderr",
     "output_type": "stream",
     "text": [
      "\r",
      "80it [00:49,  1.81it/s]"
     ]
    },
    {
     "name": "stdout",
     "output_type": "stream",
     "text": [
      "Test micro contrast: -0.09899888932704926\n",
      "Test macro contrast: -0.07875292748212814\n"
     ]
    },
    {
     "name": "stderr",
     "output_type": "stream",
     "text": [
      "\r",
      "81it [00:49,  1.79it/s]"
     ]
    },
    {
     "name": "stdout",
     "output_type": "stream",
     "text": [
      "sentences_a length: 6986\n",
      "Test micro contrast: -0.10573559999465942\n",
      "Test macro contrast: -0.07637592405080795\n",
      "sentences_a length: 8008\n"
     ]
    },
    {
     "name": "stderr",
     "output_type": "stream",
     "text": [
      "\r",
      "82it [00:50,  2.08it/s]"
     ]
    },
    {
     "name": "stdout",
     "output_type": "stream",
     "text": [
      "Test micro contrast: -0.10559378564357758\n",
      "Test macro contrast: -0.07729228585958481\n",
      "sentences_a length: 29728\n"
     ]
    },
    {
     "name": "stderr",
     "output_type": "stream",
     "text": [
      "\r",
      "83it [00:50,  1.96it/s]"
     ]
    },
    {
     "name": "stdout",
     "output_type": "stream",
     "text": [
      "Test micro contrast: -0.09599396586418152\n",
      "Test macro contrast: -0.0702342763543129\n",
      "sentences_a length: 25881\n"
     ]
    },
    {
     "name": "stderr",
     "output_type": "stream",
     "text": [
      "\r",
      "84it [00:51,  1.56it/s]"
     ]
    },
    {
     "name": "stdout",
     "output_type": "stream",
     "text": [
      "Test micro contrast: -0.09613732248544693\n",
      "Test macro contrast: -0.07026087492704391\n",
      "sentences_a length: 20123\n"
     ]
    },
    {
     "name": "stderr",
     "output_type": "stream",
     "text": [
      "\r",
      "85it [00:52,  1.70it/s]"
     ]
    },
    {
     "name": "stdout",
     "output_type": "stream",
     "text": [
      "Test micro contrast: -0.09388694167137146\n",
      "Test macro contrast: -0.06981449574232101\n",
      "sentences_a length: 30282\n"
     ]
    },
    {
     "name": "stderr",
     "output_type": "stream",
     "text": [
      "\r",
      "86it [00:53,  1.44it/s]"
     ]
    },
    {
     "name": "stdout",
     "output_type": "stream",
     "text": [
      "Test micro contrast: -0.09265435487031937\n",
      "Test macro contrast: -0.07000884413719177\n",
      "sentences_a length: 49385\n"
     ]
    },
    {
     "name": "stderr",
     "output_type": "stream",
     "text": [
      "\r",
      "87it [00:54,  1.18it/s]"
     ]
    },
    {
     "name": "stdout",
     "output_type": "stream",
     "text": [
      "Test micro contrast: -0.09465117007493973\n",
      "Test macro contrast: -0.0717281773686409\n",
      "sentences_a length: 19927\n"
     ]
    },
    {
     "name": "stderr",
     "output_type": "stream",
     "text": [
      "\r",
      "88it [00:55,  1.20it/s]"
     ]
    },
    {
     "name": "stdout",
     "output_type": "stream",
     "text": [
      "Test micro contrast: -0.10307541489601135\n",
      "Test macro contrast: -0.07116243988275528\n",
      "sentences_a length: 7480\n"
     ]
    },
    {
     "name": "stderr",
     "output_type": "stream",
     "text": [
      "\r",
      "89it [00:55,  1.47it/s]"
     ]
    },
    {
     "name": "stdout",
     "output_type": "stream",
     "text": [
      "Test micro contrast: -0.10246115922927856\n",
      "Test macro contrast: -0.07229117304086685\n",
      "sentences_a length: 7512\n"
     ]
    },
    {
     "name": "stderr",
     "output_type": "stream",
     "text": [
      "\r",
      "90it [00:55,  1.60it/s]"
     ]
    },
    {
     "name": "stdout",
     "output_type": "stream",
     "text": [
      "Test micro contrast: -0.10554265975952148\n",
      "Test macro contrast: -0.07057129591703415\n",
      "sentences_a length: 10505\n"
     ]
    },
    {
     "name": "stderr",
     "output_type": "stream",
     "text": [
      "\r",
      "91it [00:56,  1.65it/s]"
     ]
    },
    {
     "name": "stdout",
     "output_type": "stream",
     "text": [
      "Test micro contrast: -0.10367537289857864\n",
      "Test macro contrast: -0.06860993802547455\n",
      "sentences_a length: 12361\n"
     ]
    },
    {
     "name": "stderr",
     "output_type": "stream",
     "text": [
      "\r",
      "92it [00:57,  1.76it/s]"
     ]
    },
    {
     "name": "stdout",
     "output_type": "stream",
     "text": [
      "Test micro contrast: -0.10332786291837692\n",
      "Test macro contrast: -0.06905641406774521\n",
      "sentences_a length: 13231\n"
     ]
    },
    {
     "name": "stderr",
     "output_type": "stream",
     "text": [
      "\r",
      "93it [00:57,  1.77it/s]"
     ]
    },
    {
     "name": "stdout",
     "output_type": "stream",
     "text": [
      "Test micro contrast: -0.11241645365953445\n",
      "Test macro contrast: -0.07102367281913757\n",
      "sentences_a length: 3300\n"
     ]
    },
    {
     "name": "stderr",
     "output_type": "stream",
     "text": [
      "\r",
      "94it [00:58,  1.83it/s]"
     ]
    },
    {
     "name": "stdout",
     "output_type": "stream",
     "text": [
      "Test micro contrast: -0.11087185144424438\n",
      "Test macro contrast: -0.07010876387357712\n",
      "sentences_a length: 22887\n"
     ]
    },
    {
     "name": "stderr",
     "output_type": "stream",
     "text": [
      "\r",
      "95it [00:58,  1.73it/s]"
     ]
    },
    {
     "name": "stdout",
     "output_type": "stream",
     "text": [
      "Test micro contrast: -0.10991932451725006\n",
      "Test macro contrast: -0.0702228918671608\n",
      "sentences_a length: 49918\n"
     ]
    },
    {
     "name": "stderr",
     "output_type": "stream",
     "text": [
      "\r",
      "96it [00:59,  1.58it/s]"
     ]
    },
    {
     "name": "stdout",
     "output_type": "stream",
     "text": [
      "Test micro contrast: -0.10895314067602158\n",
      "Test macro contrast: -0.06967020779848099\n",
      "sentences_a length: 18918\n"
     ]
    },
    {
     "name": "stderr",
     "output_type": "stream",
     "text": [
      "\r",
      "97it [01:00,  1.68it/s]"
     ]
    },
    {
     "name": "stdout",
     "output_type": "stream",
     "text": [
      "Test micro contrast: -0.10135995596647263\n",
      "Test macro contrast: -0.0675693079829216\n",
      "sentences_a length: 42223\n"
     ]
    },
    {
     "name": "stderr",
     "output_type": "stream",
     "text": [
      "\r",
      "98it [01:00,  1.58it/s]"
     ]
    },
    {
     "name": "stdout",
     "output_type": "stream",
     "text": [
      "Test micro contrast: -0.10721321403980255\n",
      "Test macro contrast: -0.06868034601211548\n",
      "sentences_a length: 8081\n"
     ]
    },
    {
     "name": "stderr",
     "output_type": "stream",
     "text": [
      "\r",
      "99it [01:00,  1.94it/s]"
     ]
    },
    {
     "name": "stdout",
     "output_type": "stream",
     "text": [
      "Test micro contrast: -0.10793555527925491\n",
      "Test macro contrast: -0.06909677386283875\n",
      "sentences_a length: 25109\n"
     ]
    },
    {
     "name": "stderr",
     "output_type": "stream",
     "text": [
      "\r",
      "100it [01:01,  2.04it/s]"
     ]
    },
    {
     "name": "stdout",
     "output_type": "stream",
     "text": [
      "Test micro contrast: -0.11433444917201996\n",
      "Test macro contrast: -0.06613782048225403\n",
      "sentences_a length: 6994\n"
     ]
    },
    {
     "name": "stderr",
     "output_type": "stream",
     "text": [
      "\r",
      "101it [01:01,  2.04it/s]"
     ]
    },
    {
     "name": "stdout",
     "output_type": "stream",
     "text": [
      "Test micro contrast: -0.11418984830379486\n",
      "Test macro contrast: -0.06548433750867844\n",
      "sentences_a length: 33942\n",
      "Test micro contrast: -0.11258488148450851\n"
     ]
    },
    {
     "name": "stderr",
     "output_type": "stream",
     "text": [
      "\r",
      "102it [01:02,  1.81it/s]"
     ]
    },
    {
     "name": "stdout",
     "output_type": "stream",
     "text": [
      "Test macro contrast: -0.06577669084072113\n"
     ]
    },
    {
     "name": "stderr",
     "output_type": "stream",
     "text": [
      "\r",
      "103it [01:03,  1.47it/s]"
     ]
    },
    {
     "name": "stdout",
     "output_type": "stream",
     "text": [
      "sentences_a length: 66030\n",
      "Test micro contrast: -0.11546555906534195\n",
      "Test macro contrast: -0.06676119565963745\n",
      "sentences_a length: 16272\n"
     ]
    },
    {
     "name": "stderr",
     "output_type": "stream",
     "text": [
      "\r",
      "104it [01:04,  1.44it/s]"
     ]
    },
    {
     "name": "stdout",
     "output_type": "stream",
     "text": [
      "Test micro contrast: -0.11555671691894531\n",
      "Test macro contrast: -0.06693897396326065\n",
      "sentences_a length: 13671\n"
     ]
    },
    {
     "name": "stderr",
     "output_type": "stream",
     "text": [
      "\r",
      "105it [01:04,  1.75it/s]"
     ]
    },
    {
     "name": "stdout",
     "output_type": "stream",
     "text": [
      "Test micro contrast: -0.1156507134437561\n",
      "Test macro contrast: -0.06681861728429794\n",
      "sentences_a length: 27637\n"
     ]
    },
    {
     "name": "stderr",
     "output_type": "stream",
     "text": [
      "\r",
      "106it [01:05,  1.50it/s]"
     ]
    },
    {
     "name": "stdout",
     "output_type": "stream",
     "text": [
      "Test micro contrast: -0.10236270725727081\n",
      "Test macro contrast: -0.06563343107700348\n",
      "sentences_a length: 9221\n"
     ]
    },
    {
     "name": "stderr",
     "output_type": "stream",
     "text": [
      "\r",
      "107it [01:06,  1.57it/s]"
     ]
    },
    {
     "name": "stdout",
     "output_type": "stream",
     "text": [
      "Test micro contrast: -0.10057570785284042\n",
      "Test macro contrast: -0.06504914164543152\n",
      "sentences_a length: 9681\n"
     ]
    },
    {
     "name": "stderr",
     "output_type": "stream",
     "text": [
      "\r",
      "108it [01:06,  1.79it/s]"
     ]
    },
    {
     "name": "stdout",
     "output_type": "stream",
     "text": [
      "Test micro contrast: -0.1070118099451065\n",
      "Test macro contrast: -0.0636371597647667\n",
      "sentences_a length: 14718\n"
     ]
    },
    {
     "name": "stderr",
     "output_type": "stream",
     "text": [
      "\r",
      "109it [01:07,  1.65it/s]"
     ]
    },
    {
     "name": "stdout",
     "output_type": "stream",
     "text": [
      "Test micro contrast: -0.12113679945468903\n",
      "Test macro contrast: -0.06538040935993195\n",
      "sentences_a length: 3324\n"
     ]
    },
    {
     "name": "stderr",
     "output_type": "stream",
     "text": [
      "\r",
      "110it [01:07,  1.57it/s]"
     ]
    },
    {
     "name": "stdout",
     "output_type": "stream",
     "text": [
      "Test micro contrast: -0.1104222759604454\n",
      "Test macro contrast: -0.0662970319390297\n",
      "sentences_a length: 4165\n"
     ]
    },
    {
     "name": "stderr",
     "output_type": "stream",
     "text": [
      "\r",
      "111it [01:08,  1.75it/s]"
     ]
    },
    {
     "name": "stdout",
     "output_type": "stream",
     "text": [
      "Test micro contrast: -0.10872430354356766\n",
      "Test macro contrast: -0.06502936035394669\n",
      "sentences_a length: 25851\n"
     ]
    },
    {
     "name": "stderr",
     "output_type": "stream",
     "text": [
      "\r",
      "112it [01:09,  1.50it/s]"
     ]
    },
    {
     "name": "stdout",
     "output_type": "stream",
     "text": [
      "Test micro contrast: -0.11066184937953949\n",
      "Test macro contrast: -0.06639426201581955\n",
      "sentences_a length: 48551\n"
     ]
    },
    {
     "name": "stderr",
     "output_type": "stream",
     "text": [
      "\r",
      "113it [01:10,  1.35it/s]"
     ]
    },
    {
     "name": "stdout",
     "output_type": "stream",
     "text": [
      "Test micro contrast: -0.11855035275220871\n",
      "Test macro contrast: -0.06969314068555832\n",
      "sentences_a length: 27856\n"
     ]
    },
    {
     "name": "stderr",
     "output_type": "stream",
     "text": [
      "\r",
      "114it [01:10,  1.49it/s]"
     ]
    },
    {
     "name": "stdout",
     "output_type": "stream",
     "text": [
      "Test micro contrast: -0.11644253879785538\n",
      "Test macro contrast: -0.06597577780485153\n",
      "sentences_a length: 5203\n"
     ]
    },
    {
     "name": "stderr",
     "output_type": "stream",
     "text": [
      "\r",
      "115it [01:11,  1.49it/s]"
     ]
    },
    {
     "name": "stdout",
     "output_type": "stream",
     "text": [
      "Test micro contrast: -0.115366131067276\n",
      "Test macro contrast: -0.06409580260515213\n",
      "sentences_a length: 55284\n"
     ]
    },
    {
     "name": "stderr",
     "output_type": "stream",
     "text": [
      "\r",
      "116it [01:12,  1.23it/s]"
     ]
    },
    {
     "name": "stdout",
     "output_type": "stream",
     "text": [
      "Test micro contrast: -0.10960303246974945\n",
      "Test macro contrast: -0.06438794732093811\n",
      "sentences_a length: 16712\n"
     ]
    },
    {
     "name": "stderr",
     "output_type": "stream",
     "text": [
      "\r",
      "117it [01:13,  1.24it/s]"
     ]
    },
    {
     "name": "stdout",
     "output_type": "stream",
     "text": [
      "Test micro contrast: -0.1114208772778511\n",
      "Test macro contrast: -0.06588244438171387\n",
      "sentences_a length: 19849\n"
     ]
    },
    {
     "name": "stderr",
     "output_type": "stream",
     "text": [
      "\r",
      "118it [01:13,  1.41it/s]"
     ]
    },
    {
     "name": "stdout",
     "output_type": "stream",
     "text": [
      "Test micro contrast: -0.11318126320838928\n",
      "Test macro contrast: -0.0671706274151802\n",
      "sentences_a length: 3843\n"
     ]
    },
    {
     "name": "stderr",
     "output_type": "stream",
     "text": [
      "\r",
      "119it [01:14,  1.54it/s]"
     ]
    },
    {
     "name": "stdout",
     "output_type": "stream",
     "text": [
      "Test micro contrast: -0.11695852130651474\n",
      "Test macro contrast: -0.06766831874847412\n",
      "sentences_a length: 8219\n"
     ]
    },
    {
     "name": "stderr",
     "output_type": "stream",
     "text": [
      "\r",
      "120it [01:15,  1.31it/s]"
     ]
    },
    {
     "name": "stdout",
     "output_type": "stream",
     "text": [
      "Test micro contrast: -0.1165732815861702\n",
      "Test macro contrast: -0.06776262074708939\n",
      "sentences_a length: 33805\n"
     ]
    },
    {
     "name": "stderr",
     "output_type": "stream",
     "text": [
      "\r",
      "121it [01:15,  1.36it/s]"
     ]
    },
    {
     "name": "stdout",
     "output_type": "stream",
     "text": [
      "Test micro contrast: -0.11959771811962128\n",
      "Test macro contrast: -0.07036682963371277\n",
      "sentences_a length: 8955\n"
     ]
    },
    {
     "name": "stderr",
     "output_type": "stream",
     "text": [
      "\r",
      "122it [01:16,  1.54it/s]"
     ]
    },
    {
     "name": "stdout",
     "output_type": "stream",
     "text": [
      "Test micro contrast: -0.12051709741353989\n",
      "Test macro contrast: -0.0734056904911995\n",
      "sentences_a length: 26265\n"
     ]
    },
    {
     "name": "stderr",
     "output_type": "stream",
     "text": [
      "\r",
      "123it [01:17,  1.44it/s]"
     ]
    },
    {
     "name": "stdout",
     "output_type": "stream",
     "text": [
      "Test micro contrast: -0.11895917356014252\n",
      "Test macro contrast: -0.0724334716796875\n",
      "sentences_a length: 17262\n"
     ]
    },
    {
     "name": "stderr",
     "output_type": "stream",
     "text": [
      "\r",
      "124it [01:17,  1.60it/s]"
     ]
    },
    {
     "name": "stdout",
     "output_type": "stream",
     "text": [
      "Test micro contrast: -0.12142619490623474\n",
      "Test macro contrast: -0.07470331341028214\n",
      "sentences_a length: 28095\n"
     ]
    },
    {
     "name": "stderr",
     "output_type": "stream",
     "text": [
      "\r",
      "125it [01:18,  1.52it/s]"
     ]
    },
    {
     "name": "stdout",
     "output_type": "stream",
     "text": [
      "Test micro contrast: -0.1220051720738411\n",
      "Test macro contrast: -0.07596590369939804\n",
      "sentences_a length: 5138\n"
     ]
    },
    {
     "name": "stderr",
     "output_type": "stream",
     "text": [
      "\r",
      "126it [01:19,  1.49it/s]"
     ]
    },
    {
     "name": "stdout",
     "output_type": "stream",
     "text": [
      "Test micro contrast: -0.1215498223900795\n",
      "Test macro contrast: -0.07652760297060013\n",
      "sentences_a length: 33780\n"
     ]
    },
    {
     "name": "stderr",
     "output_type": "stream",
     "text": [
      "\r",
      "127it [01:25,  2.36s/it]"
     ]
    },
    {
     "name": "stdout",
     "output_type": "stream",
     "text": [
      "Test micro contrast: -0.121297188103199\n",
      "Test macro contrast: -0.07638566941022873\n",
      "sentences_a length: 34246\n"
     ]
    },
    {
     "name": "stderr",
     "output_type": "stream",
     "text": [
      "\r",
      "128it [01:26,  1.89s/it]"
     ]
    },
    {
     "name": "stdout",
     "output_type": "stream",
     "text": [
      "Test micro contrast: -0.11722979694604874\n",
      "Test macro contrast: -0.07640977203845978\n",
      "sentences_a length: 6879\n"
     ]
    },
    {
     "name": "stderr",
     "output_type": "stream",
     "text": [
      "\r",
      "129it [01:26,  1.41s/it]"
     ]
    },
    {
     "name": "stdout",
     "output_type": "stream",
     "text": [
      "Test micro contrast: -0.11741777509450912\n",
      "Test macro contrast: -0.07423307001590729\n",
      "sentences_a length: 8301\n"
     ]
    },
    {
     "name": "stderr",
     "output_type": "stream",
     "text": [
      "\r",
      "130it [01:26,  1.10s/it]"
     ]
    },
    {
     "name": "stdout",
     "output_type": "stream",
     "text": [
      "Test micro contrast: -0.11407721042633057\n",
      "Test macro contrast: -0.0764470249414444\n",
      "sentences_a length: 18782\n"
     ]
    },
    {
     "name": "stderr",
     "output_type": "stream",
     "text": [
      "\r",
      "131it [01:27,  1.08it/s]"
     ]
    },
    {
     "name": "stdout",
     "output_type": "stream",
     "text": [
      "Test micro contrast: -0.11593083292245865\n",
      "Test macro contrast: -0.07909170538187027\n",
      "sentences_a length: 38665\n"
     ]
    },
    {
     "name": "stderr",
     "output_type": "stream",
     "text": [
      "\r",
      "132it [01:28,  1.06s/it]"
     ]
    },
    {
     "name": "stdout",
     "output_type": "stream",
     "text": [
      "Test micro contrast: -0.11300309002399445\n",
      "Test macro contrast: -0.07897688448429108\n",
      "sentences_a length: 11450\n"
     ]
    },
    {
     "name": "stderr",
     "output_type": "stream",
     "text": [
      "\r",
      "133it [01:29,  1.13it/s]"
     ]
    },
    {
     "name": "stdout",
     "output_type": "stream",
     "text": [
      "Test micro contrast: -0.11153977364301682\n",
      "Test macro contrast: -0.08068326860666275\n",
      "sentences_a length: 49874\n"
     ]
    },
    {
     "name": "stderr",
     "output_type": "stream",
     "text": [
      "\r",
      "134it [01:30,  1.08it/s]"
     ]
    },
    {
     "name": "stdout",
     "output_type": "stream",
     "text": [
      "Test micro contrast: -0.1119474545121193\n",
      "Test macro contrast: -0.0821710005402565\n"
     ]
    },
    {
     "name": "stderr",
     "output_type": "stream",
     "text": [
      "\r",
      "135it [01:30,  1.32it/s]"
     ]
    },
    {
     "name": "stdout",
     "output_type": "stream",
     "text": [
      "sentences_a length: 30596\n",
      "Test micro contrast: -0.11274603754281998\n",
      "Test macro contrast: -0.08319015055894852\n",
      "sentences_a length: 15751\n"
     ]
    },
    {
     "name": "stderr",
     "output_type": "stream",
     "text": [
      "\r",
      "136it [01:31,  1.46it/s]"
     ]
    },
    {
     "name": "stdout",
     "output_type": "stream",
     "text": [
      "Test micro contrast: -0.1141093373298645\n",
      "Test macro contrast: -0.08347848802804947\n",
      "sentences_a length: 43072\n"
     ]
    },
    {
     "name": "stderr",
     "output_type": "stream",
     "text": [
      "\r",
      "137it [01:31,  1.33it/s]"
     ]
    },
    {
     "name": "stdout",
     "output_type": "stream",
     "text": [
      "Test micro contrast: -0.11311952024698257\n",
      "Test macro contrast: -0.08271225541830063\n",
      "sentences_a length: 22614\n"
     ]
    },
    {
     "name": "stderr",
     "output_type": "stream",
     "text": [
      "\r",
      "138it [01:33,  1.10it/s]"
     ]
    },
    {
     "name": "stdout",
     "output_type": "stream",
     "text": [
      "Test micro contrast: -0.11347213387489319\n",
      "Test macro contrast: -0.08248186856508255\n",
      "sentences_a length: 16158\n"
     ]
    },
    {
     "name": "stderr",
     "output_type": "stream",
     "text": [
      "\r",
      "139it [01:33,  1.21it/s]"
     ]
    },
    {
     "name": "stdout",
     "output_type": "stream",
     "text": [
      "Test micro contrast: -0.11296045035123825\n",
      "Test macro contrast: -0.08183258026838303\n",
      "sentences_a length: 14286\n"
     ]
    },
    {
     "name": "stderr",
     "output_type": "stream",
     "text": [
      "\r",
      "140it [01:34,  1.45it/s]"
     ]
    },
    {
     "name": "stdout",
     "output_type": "stream",
     "text": [
      "Test micro contrast: -0.11331024020910263\n",
      "Test macro contrast: -0.08150547742843628\n",
      "sentences_a length: 16360\n"
     ]
    },
    {
     "name": "stderr",
     "output_type": "stream",
     "text": [
      "\r",
      "141it [01:35,  1.39it/s]"
     ]
    },
    {
     "name": "stdout",
     "output_type": "stream",
     "text": [
      "Test micro contrast: -0.11585424840450287\n",
      "Test macro contrast: -0.07819641381502151\n",
      "sentences_a length: 6635\n"
     ]
    },
    {
     "name": "stderr",
     "output_type": "stream",
     "text": [
      "\r",
      "142it [01:35,  1.71it/s]"
     ]
    },
    {
     "name": "stdout",
     "output_type": "stream",
     "text": [
      "Test micro contrast: -0.11586862057447433\n",
      "Test macro contrast: -0.07847598195075989\n",
      "sentences_a length: 13230\n"
     ]
    },
    {
     "name": "stderr",
     "output_type": "stream",
     "text": [
      "\r",
      "143it [01:36,  1.54it/s]"
     ]
    },
    {
     "name": "stdout",
     "output_type": "stream",
     "text": [
      "Test micro contrast: -0.12027681618928909\n",
      "Test macro contrast: -0.08314567059278488\n"
     ]
    },
    {
     "name": "stderr",
     "output_type": "stream",
     "text": [
      "\r",
      "144it [01:36,  1.61it/s]"
     ]
    },
    {
     "name": "stdout",
     "output_type": "stream",
     "text": [
      "sentences_a length: 14046\n",
      "Test micro contrast: -0.11964760720729828\n",
      "Test macro contrast: -0.08277431130409241\n",
      "sentences_a length: 38394\n"
     ]
    },
    {
     "name": "stderr",
     "output_type": "stream",
     "text": [
      "\r",
      "145it [01:37,  1.53it/s]"
     ]
    },
    {
     "name": "stdout",
     "output_type": "stream",
     "text": [
      "Test micro contrast: -0.11898774653673172\n",
      "Test macro contrast: -0.08201815187931061\n",
      "sentences_a length: 4135\n"
     ]
    },
    {
     "name": "stderr",
     "output_type": "stream",
     "text": [
      "\r",
      "146it [01:38,  1.35it/s]"
     ]
    },
    {
     "name": "stdout",
     "output_type": "stream",
     "text": [
      "Test micro contrast: -0.11029914766550064\n",
      "Test macro contrast: -0.0804554894566536\n",
      "sentences_a length: 6101\n"
     ]
    },
    {
     "name": "stderr",
     "output_type": "stream",
     "text": [
      "\r",
      "147it [01:38,  1.48it/s]"
     ]
    },
    {
     "name": "stdout",
     "output_type": "stream",
     "text": [
      "Test micro contrast: -0.10852514952421188\n",
      "Test macro contrast: -0.08059290051460266\n"
     ]
    },
    {
     "name": "stderr",
     "output_type": "stream",
     "text": [
      "\r",
      "148it [01:39,  1.70it/s]"
     ]
    },
    {
     "name": "stdout",
     "output_type": "stream",
     "text": [
      "sentences_a length: 32584\n",
      "Test micro contrast: -0.1125762015581131\n",
      "Test macro contrast: -0.08167403191328049\n",
      "sentences_a length: 72910\n"
     ]
    },
    {
     "name": "stderr",
     "output_type": "stream",
     "text": [
      "\r",
      "149it [01:40,  1.38it/s]"
     ]
    },
    {
     "name": "stdout",
     "output_type": "stream",
     "text": [
      "Test micro contrast: -0.11333458125591278\n",
      "Test macro contrast: -0.08246587216854095\n",
      "sentences_a length: 14555\n"
     ]
    }
   ],
   "source": [
    "# cuda\n",
    "device = torch.device(\"cuda\" if torch.cuda.is_available() else \"cpu\")\n",
    "n_gpu = torch.cuda.device_count()\n",
    "\n",
    "ds = AUSDataset()\n",
    "exp_config = ExpConfig(\"MeanModel\")\n",
    "train_dataloader = ds.get_data_loader(split='train', batch_size=2, shuffle=True)\n",
    "val_dataloader = ds.get_data_loader(split='val', batch_size=2, shuffle=True)\n",
    "test_dataloader = ds.get_data_loader(split='test', batch_size=2, shuffle=True)\n",
    "\n",
    "tokenizer = AutoTokenizer.from_pretrained(exp_config.uri)\n",
    "encoder = AutoModel.from_pretrained(exp_config.uri) \n",
    "test_micro_contrast = 0  # running loss\n",
    "test_macro_contrast = 0\n",
    "nb_test_steps = 0\n",
    "\n",
    "\n",
    "for step, batch in tqdm(enumerate(test_dataloader)):\n",
    "    # Add batch to GPU\n",
    "    \"batch = tuple(t.to(device) for t in batch)\"\n",
    "    # Unpack the inputs from our dataloader\n",
    "    sentences, catchphrases = batch  # len(sentences)=2, len(catchphrases)=2\n",
    "    # Clear out the gradients (by default they accumulate)\n",
    "\n",
    "    sentences_a, catchphrase_a = sentences[0], catchphrases[0]\n",
    "    sentences_b, catchphrase_b = sentences[1], catchphrases[1]\n",
    "    batch_catchphrase_a = catchphrase_a.split(EOC_TOK)\n",
    "    batch_catchphrase_b = catchphrase_b.split(EOC_TOK)\n",
    "\n",
    "    encoded_batch_catchphrase_a = tokenizer(batch_catchphrase_a, truncation=True, return_tensors=\"pt\",\n",
    "                                            padding='max_length', max_length=512)\n",
    "    encoded_batch_catchphrase_b = tokenizer(batch_catchphrase_b, truncation=True, return_tensors=\"pt\",\n",
    "                                            padding='max_length', max_length=512)\n",
    "\n",
    "    encoded_sentence_a = tokenizer(sentences_a, truncation=True, return_tensors=\"pt\", padding='max_length',\n",
    "                                   max_length=512)\n",
    "    encoded_sentence_b = tokenizer(sentences_b, truncation=True, return_tensors=\"pt\", padding='max_length',\n",
    "                                   max_length=512)\n",
    "    print(\"sentences_a length:\", len(sentences_a))\n",
    "    _, batch_catchphrase_embedding_a = encoder(**encoded_batch_catchphrase_a)  # [7, 768]\n",
    "    _, batch_catchphrase_embedding_b = encoder(**encoded_batch_catchphrase_b)  # [13,768]\n",
    "\n",
    "    _, sentence_embedding_a = encoder(**encoded_sentence_a)  # [1, 768]\n",
    "    _, sentence_embedding_b = encoder(**encoded_sentence_b)  # [1, 768]\n",
    "\n",
    "    left_left = torch.cdist(sentence_embedding_a, batch_catchphrase_embedding_a, p=2.0)  # [1, 768]*[7, 768]=[1, 7]\n",
    "    left_right = torch.cdist(sentence_embedding_a, batch_catchphrase_embedding_b,\n",
    "                             p=2.0)  # [1, 768]*[13, 768]=[1, 13]\n",
    "\n",
    "    right_right = torch.cdist(sentence_embedding_b, batch_catchphrase_embedding_b,\n",
    "                              p=2.0)  # [1, 768]*[13, 768]=[1, 13]\n",
    "    right_left = torch.cdist(sentence_embedding_b, batch_catchphrase_embedding_a, p=2.0)  # [1, 768]*[7, 768]=[1, 7]\n",
    "\n",
    "    nb_test_steps += 1\n",
    "    test_macro_contrast += macro_contrast(left_left, left_right, right_right, right_left)\n",
    "    test_micro_contrast += micro_contrast(left_left, left_right, right_right, right_left)\n",
    "\n",
    "    print(\"Test micro contrast: {}\".format(test_micro_contrast / nb_test_steps))\n",
    "    print(\"Test macro contrast: {}\".format(test_macro_contrast / nb_test_steps))"
   ]
  },
  {
   "cell_type": "code",
   "execution_count": null,
   "metadata": {},
   "outputs": [],
   "source": []
  },
  {
   "cell_type": "code",
   "execution_count": 3,
   "metadata": {
    "ExecuteTime": {
     "end_time": "2020-12-03T12:12:59.429447Z",
     "start_time": "2020-12-03T12:11:05.367061Z"
    }
   },
   "outputs": [
    {
     "name": "stderr",
     "output_type": "stream",
     "text": [
      "\r",
      "Epoch:   0%|          | 0/10 [00:00<?, ?it/s]"
     ]
    },
    {
     "name": "stdout",
     "output_type": "stream",
     "text": [
      "<generator object Module.parameters at 0x11ead27d0>\n",
      "embeddings.word_embeddings.weight torch.Size([30522, 128])\n",
      "embeddings.position_embeddings.weight torch.Size([512, 128])\n",
      "embeddings.token_type_embeddings.weight torch.Size([2, 128])\n",
      "embeddings.LayerNorm.weight torch.Size([128])\n",
      "embeddings.LayerNorm.bias torch.Size([128])\n",
      "encoder.layer.0.attention.self.query.weight torch.Size([128, 128])\n",
      "encoder.layer.0.attention.self.query.bias torch.Size([128])\n",
      "encoder.layer.0.attention.self.key.weight torch.Size([128, 128])\n",
      "encoder.layer.0.attention.self.key.bias torch.Size([128])\n",
      "encoder.layer.0.attention.self.value.weight torch.Size([128, 128])\n",
      "encoder.layer.0.attention.self.value.bias torch.Size([128])\n",
      "encoder.layer.0.attention.output.dense.weight torch.Size([128, 128])\n",
      "encoder.layer.0.attention.output.dense.bias torch.Size([128])\n",
      "encoder.layer.0.attention.output.LayerNorm.weight torch.Size([128])\n",
      "encoder.layer.0.attention.output.LayerNorm.bias torch.Size([128])\n",
      "encoder.layer.0.intermediate.dense.weight torch.Size([512, 128])\n",
      "encoder.layer.0.intermediate.dense.bias torch.Size([512])\n",
      "encoder.layer.0.output.dense.weight torch.Size([128, 512])\n",
      "encoder.layer.0.output.dense.bias torch.Size([128])\n",
      "encoder.layer.0.output.LayerNorm.weight torch.Size([128])\n",
      "encoder.layer.0.output.LayerNorm.bias torch.Size([128])\n",
      "encoder.layer.1.attention.self.query.weight torch.Size([128, 128])\n",
      "encoder.layer.1.attention.self.query.bias torch.Size([128])\n",
      "encoder.layer.1.attention.self.key.weight torch.Size([128, 128])\n",
      "encoder.layer.1.attention.self.key.bias torch.Size([128])\n",
      "encoder.layer.1.attention.self.value.weight torch.Size([128, 128])\n",
      "encoder.layer.1.attention.self.value.bias torch.Size([128])\n",
      "encoder.layer.1.attention.output.dense.weight torch.Size([128, 128])\n",
      "encoder.layer.1.attention.output.dense.bias torch.Size([128])\n",
      "encoder.layer.1.attention.output.LayerNorm.weight torch.Size([128])\n",
      "encoder.layer.1.attention.output.LayerNorm.bias torch.Size([128])\n",
      "encoder.layer.1.intermediate.dense.weight torch.Size([512, 128])\n",
      "encoder.layer.1.intermediate.dense.bias torch.Size([512])\n",
      "encoder.layer.1.output.dense.weight torch.Size([128, 512])\n",
      "encoder.layer.1.output.dense.bias torch.Size([128])\n",
      "encoder.layer.1.output.LayerNorm.weight torch.Size([128])\n",
      "encoder.layer.1.output.LayerNorm.bias torch.Size([128])\n",
      "pooler.dense.weight torch.Size([128, 128])\n",
      "pooler.dense.bias torch.Size([128])\n",
      "start training\n"
     ]
    },
    {
     "name": "stderr",
     "output_type": "stream",
     "text": [
      "\n",
      "0it [00:00, ?it/s]\u001b[A\n",
      "\n",
      "100%|██████████| 3/3 [00:00<00:00, 419.23it/s]\n",
      "\n",
      "1it [00:01,  1.93s/it]\u001b[A"
     ]
    },
    {
     "name": "stdout",
     "output_type": "stream",
     "text": [
      "Train loss: 0.9539670348167419\n"
     ]
    },
    {
     "name": "stderr",
     "output_type": "stream",
     "text": [
      "\n",
      "\n",
      "100%|██████████| 3/3 [00:00<00:00, 1381.22it/s]\n",
      "\n",
      "2it [00:03,  1.84s/it]\u001b[A"
     ]
    },
    {
     "name": "stdout",
     "output_type": "stream",
     "text": [
      "Train loss: 0.9075373709201813\n"
     ]
    },
    {
     "name": "stderr",
     "output_type": "stream",
     "text": [
      "\n",
      "\n",
      "100%|██████████| 8/8 [00:00<00:00, 977.12it/s]\n",
      "\n",
      "3it [00:05,  1.80s/it]\u001b[A"
     ]
    },
    {
     "name": "stdout",
     "output_type": "stream",
     "text": [
      "Train loss: 1.1290541291236877\n"
     ]
    },
    {
     "name": "stderr",
     "output_type": "stream",
     "text": [
      "\n",
      "\n",
      "100%|██████████| 9/9 [00:00<00:00, 738.07it/s]\n",
      "\n",
      "4it [00:07,  1.83s/it]\u001b[A"
     ]
    },
    {
     "name": "stdout",
     "output_type": "stream",
     "text": [
      "Train loss: 1.256189987063408\n"
     ]
    },
    {
     "name": "stderr",
     "output_type": "stream",
     "text": [
      "\n",
      "\n",
      "100%|██████████| 8/8 [00:00<00:00, 1122.63it/s]\n",
      "\n",
      "5it [00:08,  1.79s/it]\u001b[A"
     ]
    },
    {
     "name": "stdout",
     "output_type": "stream",
     "text": [
      "Train loss: 1.1780067563056946\n"
     ]
    },
    {
     "name": "stderr",
     "output_type": "stream",
     "text": [
      "\n",
      "\n",
      "100%|██████████| 4/4 [00:00<00:00, 618.06it/s]\n",
      "\n",
      "6it [00:10,  1.75s/it]\u001b[A"
     ]
    },
    {
     "name": "stdout",
     "output_type": "stream",
     "text": [
      "Train loss: 1.146119753519694\n"
     ]
    },
    {
     "name": "stderr",
     "output_type": "stream",
     "text": [
      "\n",
      "\n",
      "100%|██████████| 6/6 [00:00<00:00, 2272.72it/s]\n",
      "\n",
      "7it [00:12,  1.72s/it]\u001b[A"
     ]
    },
    {
     "name": "stdout",
     "output_type": "stream",
     "text": [
      "Train loss: 1.1346594946725028\n"
     ]
    },
    {
     "name": "stderr",
     "output_type": "stream",
     "text": [
      "\n",
      "\n",
      "100%|██████████| 9/9 [00:00<00:00, 334.79it/s]\n",
      "\n",
      "8it [00:14,  1.87s/it]\u001b[A"
     ]
    },
    {
     "name": "stdout",
     "output_type": "stream",
     "text": [
      "Train loss: 1.124840572476387\n"
     ]
    },
    {
     "name": "stderr",
     "output_type": "stream",
     "text": [
      "\n",
      "\n",
      "100%|██████████| 16/16 [00:00<00:00, 1346.57it/s]\n",
      "\n",
      "9it [00:16,  2.01s/it]\u001b[A"
     ]
    },
    {
     "name": "stdout",
     "output_type": "stream",
     "text": [
      "Train loss: 1.1646321217219036\n"
     ]
    },
    {
     "name": "stderr",
     "output_type": "stream",
     "text": [
      "\n",
      "\n",
      "100%|██████████| 9/9 [00:00<00:00, 1404.55it/s]\n",
      "\n",
      "10it [00:18,  1.95s/it]\u001b[A"
     ]
    },
    {
     "name": "stdout",
     "output_type": "stream",
     "text": [
      "Train loss: 1.1421508550643922\n"
     ]
    },
    {
     "name": "stderr",
     "output_type": "stream",
     "text": [
      "\n",
      "\n",
      "100%|██████████| 2/2 [00:00<00:00, 943.81it/s]\n",
      "\n",
      "11it [00:20,  1.86s/it]\u001b[A"
     ]
    },
    {
     "name": "stdout",
     "output_type": "stream",
     "text": [
      "Train loss: 1.128929316997528\n"
     ]
    },
    {
     "name": "stderr",
     "output_type": "stream",
     "text": [
      "\n",
      "\n",
      "100%|██████████| 4/4 [00:00<00:00, 673.86it/s]\n",
      "\n",
      "12it [00:21,  1.83s/it]\u001b[A"
     ]
    },
    {
     "name": "stdout",
     "output_type": "stream",
     "text": [
      "Train loss: 1.1101349145174026\n"
     ]
    },
    {
     "name": "stderr",
     "output_type": "stream",
     "text": [
      "\n",
      "\n",
      "100%|██████████| 8/8 [00:00<00:00, 793.08it/s]\n",
      "\n",
      "13it [00:23,  1.82s/it]\u001b[A"
     ]
    },
    {
     "name": "stdout",
     "output_type": "stream",
     "text": [
      "Train loss: 1.097806637103741\n"
     ]
    },
    {
     "name": "stderr",
     "output_type": "stream",
     "text": [
      "\n",
      "\n",
      "100%|██████████| 7/7 [00:00<00:00, 805.07it/s]\n",
      "\n",
      "14it [00:25,  1.80s/it]\u001b[A"
     ]
    },
    {
     "name": "stdout",
     "output_type": "stream",
     "text": [
      "Train loss: 1.0909655775342668\n"
     ]
    },
    {
     "name": "stderr",
     "output_type": "stream",
     "text": [
      "\n",
      "\n",
      "100%|██████████| 5/5 [00:00<00:00, 283.03it/s]\n",
      "\n",
      "15it [00:27,  1.84s/it]\u001b[A"
     ]
    },
    {
     "name": "stdout",
     "output_type": "stream",
     "text": [
      "Train loss: 1.0879690329233804\n"
     ]
    },
    {
     "name": "stderr",
     "output_type": "stream",
     "text": [
      "\n",
      "\n",
      "100%|██████████| 3/3 [00:00<00:00, 1232.53it/s]\n",
      "\n",
      "16it [00:29,  1.77s/it]\u001b[A"
     ]
    },
    {
     "name": "stdout",
     "output_type": "stream",
     "text": [
      "Train loss: 1.0805836729705334\n"
     ]
    },
    {
     "name": "stderr",
     "output_type": "stream",
     "text": [
      "\n",
      "\n",
      "100%|██████████| 5/5 [00:00<00:00, 2139.51it/s]\n",
      "\n",
      "17it [00:30,  1.74s/it]\u001b[A"
     ]
    },
    {
     "name": "stdout",
     "output_type": "stream",
     "text": [
      "Train loss: 1.0767362994306229\n"
     ]
    },
    {
     "name": "stderr",
     "output_type": "stream",
     "text": [
      "\n",
      "\n",
      "100%|██████████| 10/10 [00:00<00:00, 882.70it/s]\n",
      "\n",
      "18it [00:32,  1.73s/it]\u001b[A"
     ]
    },
    {
     "name": "stdout",
     "output_type": "stream",
     "text": [
      "Train loss: 1.072382089164522\n"
     ]
    },
    {
     "name": "stderr",
     "output_type": "stream",
     "text": [
      "\n",
      "\n",
      "100%|██████████| 7/7 [00:00<00:00, 1602.89it/s]\n",
      "\n",
      "19it [00:34,  1.73s/it]\u001b[A"
     ]
    },
    {
     "name": "stdout",
     "output_type": "stream",
     "text": [
      "Train loss: 1.0712848493927403\n"
     ]
    },
    {
     "name": "stderr",
     "output_type": "stream",
     "text": [
      "\n",
      "\n",
      "100%|██████████| 5/5 [00:00<00:00, 743.28it/s]\n",
      "\n",
      "20it [00:35,  1.73s/it]\u001b[A"
     ]
    },
    {
     "name": "stdout",
     "output_type": "stream",
     "text": [
      "Train loss: 1.0669104963541032\n"
     ]
    },
    {
     "name": "stderr",
     "output_type": "stream",
     "text": [
      "\n",
      "\n",
      "100%|██████████| 7/7 [00:00<00:00, 1335.58it/s]\n",
      "\n",
      "21it [00:37,  1.73s/it]\u001b[A"
     ]
    },
    {
     "name": "stdout",
     "output_type": "stream",
     "text": [
      "Train loss: 1.0615287905647641\n"
     ]
    },
    {
     "name": "stderr",
     "output_type": "stream",
     "text": [
      "\n",
      "\n",
      "100%|██████████| 5/5 [00:00<00:00, 1008.49it/s]\n",
      "\n",
      "22it [00:39,  1.81s/it]\u001b[A"
     ]
    },
    {
     "name": "stdout",
     "output_type": "stream",
     "text": [
      "Train loss: 1.0627357092770664\n"
     ]
    },
    {
     "name": "stderr",
     "output_type": "stream",
     "text": [
      "\n",
      "\n",
      "100%|██████████| 5/5 [00:00<00:00, 814.30it/s]\n",
      "\n",
      "23it [00:41,  1.79s/it]\u001b[A"
     ]
    },
    {
     "name": "stdout",
     "output_type": "stream",
     "text": [
      "Train loss: 1.0599717601485874\n"
     ]
    },
    {
     "name": "stderr",
     "output_type": "stream",
     "text": [
      "\n",
      "\n",
      "100%|██████████| 7/7 [00:00<00:00, 1444.46it/s]\n",
      "\n",
      "24it [00:43,  1.81s/it]\u001b[A"
     ]
    },
    {
     "name": "stdout",
     "output_type": "stream",
     "text": [
      "Train loss: 1.058027721941471\n"
     ]
    },
    {
     "name": "stderr",
     "output_type": "stream",
     "text": [
      "\n",
      "\n",
      "100%|██████████| 7/7 [00:00<00:00, 802.85it/s]\n",
      "\n",
      "25it [00:45,  1.93s/it]\u001b[A"
     ]
    },
    {
     "name": "stdout",
     "output_type": "stream",
     "text": [
      "Train loss: 1.0584177803993224\n"
     ]
    },
    {
     "name": "stderr",
     "output_type": "stream",
     "text": [
      "\n",
      "\n",
      "100%|██████████| 5/5 [00:00<00:00, 748.64it/s]\n",
      "\n",
      "26it [00:47,  1.89s/it]\u001b[A"
     ]
    },
    {
     "name": "stdout",
     "output_type": "stream",
     "text": [
      "Train loss: 1.0560370293947368\n"
     ]
    },
    {
     "name": "stderr",
     "output_type": "stream",
     "text": [
      "\n",
      "\n",
      "100%|██████████| 7/7 [00:00<00:00, 489.82it/s]\n",
      "\n",
      "27it [00:49,  1.86s/it]\u001b[A"
     ]
    },
    {
     "name": "stdout",
     "output_type": "stream",
     "text": [
      "Train loss: 1.054437679273111\n"
     ]
    },
    {
     "name": "stderr",
     "output_type": "stream",
     "text": [
      "\n",
      "\n",
      "100%|██████████| 16/16 [00:00<00:00, 930.66it/s]\n",
      "\n",
      "28it [00:50,  1.87s/it]\u001b[A"
     ]
    },
    {
     "name": "stdout",
     "output_type": "stream",
     "text": [
      "Train loss: 1.0534850720848357\n"
     ]
    },
    {
     "name": "stderr",
     "output_type": "stream",
     "text": [
      "\n",
      "\n",
      "100%|██████████| 8/8 [00:00<00:00, 1014.74it/s]\n",
      "\n",
      "29it [00:52,  1.86s/it]\u001b[A"
     ]
    },
    {
     "name": "stdout",
     "output_type": "stream",
     "text": [
      "Train loss: 1.051804947442022\n"
     ]
    },
    {
     "name": "stderr",
     "output_type": "stream",
     "text": [
      "\n",
      "\n",
      "100%|██████████| 4/4 [00:00<00:00, 349.07it/s]\n",
      "\n",
      "30it [00:55,  2.01s/it]\u001b[A"
     ]
    },
    {
     "name": "stdout",
     "output_type": "stream",
     "text": [
      "Train loss: 1.0502635776996612\n"
     ]
    },
    {
     "name": "stderr",
     "output_type": "stream",
     "text": [
      "\n",
      "\n",
      "100%|██████████| 6/6 [00:00<00:00, 599.34it/s]\n",
      "\n",
      "31it [00:56,  1.94s/it]\u001b[A"
     ]
    },
    {
     "name": "stdout",
     "output_type": "stream",
     "text": [
      "Train loss: 1.0492189911104017\n"
     ]
    },
    {
     "name": "stderr",
     "output_type": "stream",
     "text": [
      "\n",
      "\n",
      "100%|██████████| 3/3 [00:00<00:00, 946.44it/s]\n",
      "\n",
      "32it [00:58,  1.93s/it]\u001b[A"
     ]
    },
    {
     "name": "stdout",
     "output_type": "stream",
     "text": [
      "Train loss: 1.0475201085209846\n"
     ]
    },
    {
     "name": "stderr",
     "output_type": "stream",
     "text": [
      "\n",
      "\n",
      "100%|██████████| 5/5 [00:00<00:00, 394.51it/s]\n",
      "\n",
      "33it [01:00,  1.91s/it]\u001b[A"
     ]
    },
    {
     "name": "stdout",
     "output_type": "stream",
     "text": [
      "Train loss: 1.0464765339186697\n"
     ]
    },
    {
     "name": "stderr",
     "output_type": "stream",
     "text": [
      "\n",
      "\n",
      "100%|██████████| 14/14 [00:00<00:00, 1013.10it/s]\n",
      "\n",
      "34it [01:02,  1.96s/it]\u001b[A"
     ]
    },
    {
     "name": "stdout",
     "output_type": "stream",
     "text": [
      "Train loss: 1.0449990279534285\n"
     ]
    },
    {
     "name": "stderr",
     "output_type": "stream",
     "text": [
      "\n",
      "\n",
      "100%|██████████| 2/2 [00:00<00:00, 1473.75it/s]\n",
      "\n",
      "35it [01:04,  1.85s/it]\u001b[A"
     ]
    },
    {
     "name": "stdout",
     "output_type": "stream",
     "text": [
      "Train loss: 1.0440946340560913\n"
     ]
    },
    {
     "name": "stderr",
     "output_type": "stream",
     "text": [
      "\n",
      "\n",
      "100%|██████████| 7/7 [00:00<00:00, 799.94it/s]\n",
      "\n",
      "36it [01:06,  1.84s/it]\u001b[A"
     ]
    },
    {
     "name": "stdout",
     "output_type": "stream",
     "text": [
      "Train loss: 1.0426333546638489\n"
     ]
    },
    {
     "name": "stderr",
     "output_type": "stream",
     "text": [
      "\n",
      "\n",
      "100%|██████████| 6/6 [00:00<00:00, 500.50it/s]\n",
      "\n",
      "37it [01:07,  1.83s/it]\u001b[A"
     ]
    },
    {
     "name": "stdout",
     "output_type": "stream",
     "text": [
      "Train loss: 1.041484790879327\n"
     ]
    },
    {
     "name": "stderr",
     "output_type": "stream",
     "text": [
      "\n",
      "\n",
      "100%|██████████| 11/11 [00:00<00:00, 1343.47it/s]\n",
      "\n",
      "38it [01:10,  1.91s/it]\u001b[A"
     ]
    },
    {
     "name": "stdout",
     "output_type": "stream",
     "text": [
      "Train loss: 1.0403339894194352\n"
     ]
    },
    {
     "name": "stderr",
     "output_type": "stream",
     "text": [
      "\n",
      "\n",
      "100%|██████████| 9/9 [00:00<00:00, 813.76it/s]\n",
      "\n",
      "39it [01:11,  1.88s/it]\u001b[A"
     ]
    },
    {
     "name": "stdout",
     "output_type": "stream",
     "text": [
      "Train loss: 1.039344127361591\n"
     ]
    },
    {
     "name": "stderr",
     "output_type": "stream",
     "text": [
      "\n",
      "\n",
      "100%|██████████| 4/4 [00:00<00:00, 317.14it/s]\n",
      "\n",
      "40it [01:13,  1.91s/it]\u001b[A"
     ]
    },
    {
     "name": "stdout",
     "output_type": "stream",
     "text": [
      "Train loss: 1.0383957266807555\n"
     ]
    },
    {
     "name": "stderr",
     "output_type": "stream",
     "text": [
      "\n",
      "\n",
      "100%|██████████| 9/9 [00:00<00:00, 562.78it/s]\n",
      "\n",
      "41it [01:16,  2.01s/it]\u001b[A"
     ]
    },
    {
     "name": "stdout",
     "output_type": "stream",
     "text": [
      "Train loss: 1.0373242730047645\n"
     ]
    },
    {
     "name": "stderr",
     "output_type": "stream",
     "text": [
      "\n",
      "\n",
      "100%|██████████| 3/3 [00:00<00:00, 448.24it/s]\n",
      "\n",
      "42it [01:18,  1.99s/it]\u001b[A"
     ]
    },
    {
     "name": "stdout",
     "output_type": "stream",
     "text": [
      "Train loss: 1.0365815545831407\n"
     ]
    },
    {
     "name": "stderr",
     "output_type": "stream",
     "text": [
      "\n",
      "\n",
      "100%|██████████| 3/3 [00:00<00:00, 830.12it/s]\n",
      "\n",
      "43it [01:20,  2.01s/it]\u001b[A"
     ]
    },
    {
     "name": "stdout",
     "output_type": "stream",
     "text": [
      "Train loss: 1.034249911474627\n"
     ]
    },
    {
     "name": "stderr",
     "output_type": "stream",
     "text": [
      "\n",
      "\n",
      "100%|██████████| 6/6 [00:00<00:00, 768.94it/s]\n",
      "\n",
      "44it [01:21,  1.90s/it]\u001b[A"
     ]
    },
    {
     "name": "stdout",
     "output_type": "stream",
     "text": [
      "Train loss: 1.033472474325787\n"
     ]
    },
    {
     "name": "stderr",
     "output_type": "stream",
     "text": [
      "\n",
      "\n",
      "100%|██████████| 6/6 [00:00<00:00, 468.64it/s]\n",
      "\n",
      "45it [01:23,  1.95s/it]\u001b[A"
     ]
    },
    {
     "name": "stdout",
     "output_type": "stream",
     "text": [
      "Train loss: 1.0330443369017708\n"
     ]
    },
    {
     "name": "stderr",
     "output_type": "stream",
     "text": [
      "\n",
      "\n",
      "100%|██████████| 8/8 [00:00<00:00, 481.72it/s]\n",
      "\n",
      "46it [01:25,  2.03s/it]\u001b[A"
     ]
    },
    {
     "name": "stdout",
     "output_type": "stream",
     "text": [
      "Train loss: 1.032287006792815\n"
     ]
    },
    {
     "name": "stderr",
     "output_type": "stream",
     "text": [
      "\n",
      "\n",
      "100%|██████████| 6/6 [00:00<00:00, 672.92it/s]\n",
      "\n",
      "47it [01:27,  1.97s/it]\u001b[A"
     ]
    },
    {
     "name": "stdout",
     "output_type": "stream",
     "text": [
      "Train loss: 1.0307795823888575\n"
     ]
    },
    {
     "name": "stderr",
     "output_type": "stream",
     "text": [
      "\n",
      "\n",
      "100%|██████████| 6/6 [00:00<00:00, 982.92it/s]\n",
      "\n",
      "48it [01:29,  1.95s/it]\u001b[A"
     ]
    },
    {
     "name": "stdout",
     "output_type": "stream",
     "text": [
      "Train loss: 1.0300911230345566\n"
     ]
    },
    {
     "name": "stderr",
     "output_type": "stream",
     "text": [
      "\n",
      "\n",
      "100%|██████████| 12/12 [00:00<00:00, 507.64it/s]\n",
      "\n",
      "49it [01:31,  1.98s/it]\u001b[A"
     ]
    },
    {
     "name": "stdout",
     "output_type": "stream",
     "text": [
      "Train loss: 1.0303238861414852\n"
     ]
    },
    {
     "name": "stderr",
     "output_type": "stream",
     "text": [
      "\n",
      "\n",
      "100%|██████████| 19/19 [00:00<00:00, 627.47it/s]\n",
      "\n",
      "50it [01:33,  2.03s/it]\u001b[A"
     ]
    },
    {
     "name": "stdout",
     "output_type": "stream",
     "text": [
      "Train loss: 1.028086905479431\n"
     ]
    },
    {
     "name": "stderr",
     "output_type": "stream",
     "text": [
      "\n",
      "\n",
      "100%|██████████| 2/2 [00:00<00:00, 534.92it/s]\n",
      "\n",
      "51it [01:35,  1.92s/it]\u001b[A"
     ]
    },
    {
     "name": "stdout",
     "output_type": "stream",
     "text": [
      "Train loss: 1.0282884368709488\n"
     ]
    },
    {
     "name": "stderr",
     "output_type": "stream",
     "text": [
      "\n",
      "\n",
      "100%|██████████| 6/6 [00:00<00:00, 715.73it/s]\n",
      "\n",
      "52it [01:37,  1.89s/it]\u001b[A"
     ]
    },
    {
     "name": "stdout",
     "output_type": "stream",
     "text": [
      "Train loss: 1.0263760766157737\n"
     ]
    },
    {
     "name": "stderr",
     "output_type": "stream",
     "text": [
      "\n",
      "\n",
      "100%|██████████| 6/6 [00:00<00:00, 1386.01it/s]\n",
      "\n",
      "53it [01:39,  1.82s/it]\u001b[A"
     ]
    },
    {
     "name": "stdout",
     "output_type": "stream",
     "text": [
      "Train loss: 1.0253380267125256\n"
     ]
    },
    {
     "name": "stderr",
     "output_type": "stream",
     "text": [
      "\n",
      "\n",
      "100%|██████████| 3/3 [00:00<00:00, 887.56it/s]\n",
      "\n",
      "54it [01:40,  1.76s/it]\u001b[A"
     ]
    },
    {
     "name": "stdout",
     "output_type": "stream",
     "text": [
      "Train loss: 1.0249824877138491\n"
     ]
    },
    {
     "name": "stderr",
     "output_type": "stream",
     "text": [
      "\n",
      "\n",
      "100%|██████████| 4/4 [00:00<00:00, 658.14it/s]\n",
      "\n",
      "55it [01:42,  1.74s/it]\u001b[A"
     ]
    },
    {
     "name": "stdout",
     "output_type": "stream",
     "text": [
      "Train loss: 1.0258116006851197\n"
     ]
    },
    {
     "name": "stderr",
     "output_type": "stream",
     "text": [
      "\n",
      "\n",
      "100%|██████████| 7/7 [00:00<00:00, 849.49it/s]\n",
      "\n",
      "56it [01:44,  1.78s/it]\u001b[A"
     ]
    },
    {
     "name": "stdout",
     "output_type": "stream",
     "text": [
      "Train loss: 1.022093957023961\n"
     ]
    },
    {
     "name": "stderr",
     "output_type": "stream",
     "text": [
      "\n",
      "\n",
      "100%|██████████| 3/3 [00:00<00:00, 645.44it/s]\n",
      "\n",
      "57it [01:46,  1.87s/it]\u001b[A"
     ]
    },
    {
     "name": "stdout",
     "output_type": "stream",
     "text": [
      "Train loss: 1.0187447740320574\n"
     ]
    },
    {
     "name": "stderr",
     "output_type": "stream",
     "text": [
      "\n",
      "\n",
      "100%|██████████| 4/4 [00:00<00:00, 401.45it/s]\n",
      "\n",
      "58it [01:48,  1.98s/it]\u001b[A"
     ]
    },
    {
     "name": "stdout",
     "output_type": "stream",
     "text": [
      "Train loss: 1.0190570786081512\n"
     ]
    },
    {
     "name": "stderr",
     "output_type": "stream",
     "text": [
      "\n",
      "\n",
      "100%|██████████| 8/8 [00:00<00:00, 1134.25it/s]\n",
      "58it [01:50,  1.91s/it]\n",
      "Epoch:   0%|          | 0/10 [01:50<?, ?it/s]\n"
     ]
    },
    {
     "ename": "KeyboardInterrupt",
     "evalue": "",
     "output_type": "error",
     "traceback": [
      "\u001b[0;31m---------------------------------------------------------------------------\u001b[0m",
      "\u001b[0;31mKeyboardInterrupt\u001b[0m                         Traceback (most recent call last)",
      "\u001b[0;32m<ipython-input-3-5637403e16f2>\u001b[0m in \u001b[0;36m<module>\u001b[0;34m\u001b[0m\n\u001b[1;32m    101\u001b[0m                 \u001b[0mbatch_train_loss_set\u001b[0m\u001b[0;34m.\u001b[0m\u001b[0mappend\u001b[0m\u001b[0;34m(\u001b[0m\u001b[0mloss\u001b[0m\u001b[0;34m.\u001b[0m\u001b[0munsqueeze\u001b[0m\u001b[0;34m(\u001b[0m\u001b[0;36m0\u001b[0m\u001b[0;34m)\u001b[0m\u001b[0;34m)\u001b[0m\u001b[0;34m\u001b[0m\u001b[0;34m\u001b[0m\u001b[0m\n\u001b[1;32m    102\u001b[0m         \u001b[0mbatch_loss\u001b[0m\u001b[0;34m=\u001b[0m\u001b[0mtorch\u001b[0m\u001b[0;34m.\u001b[0m\u001b[0mmean\u001b[0m\u001b[0;34m(\u001b[0m\u001b[0mtorch\u001b[0m\u001b[0;34m.\u001b[0m\u001b[0mcat\u001b[0m\u001b[0;34m(\u001b[0m\u001b[0mbatch_train_loss_set\u001b[0m\u001b[0;34m)\u001b[0m\u001b[0;34m)\u001b[0m\u001b[0;34m\u001b[0m\u001b[0;34m\u001b[0m\u001b[0m\n\u001b[0;32m--> 103\u001b[0;31m         \u001b[0mbatch_loss\u001b[0m\u001b[0;34m.\u001b[0m\u001b[0mbackward\u001b[0m\u001b[0;34m(\u001b[0m\u001b[0;34m)\u001b[0m\u001b[0;34m\u001b[0m\u001b[0;34m\u001b[0m\u001b[0m\n\u001b[0m\u001b[1;32m    104\u001b[0m         \u001b[0moptimizer\u001b[0m\u001b[0;34m.\u001b[0m\u001b[0mstep\u001b[0m\u001b[0;34m(\u001b[0m\u001b[0;34m)\u001b[0m\u001b[0;34m\u001b[0m\u001b[0;34m\u001b[0m\u001b[0m\n\u001b[1;32m    105\u001b[0m         \u001b[0;31m# Update tracking variables\u001b[0m\u001b[0;34m\u001b[0m\u001b[0;34m\u001b[0m\u001b[0;34m\u001b[0m\u001b[0m\n",
      "\u001b[0;32m/opt/anaconda3/envs/contrastRetrieval/lib/python3.7/site-packages/torch/tensor.py\u001b[0m in \u001b[0;36mbackward\u001b[0;34m(self, gradient, retain_graph, create_graph)\u001b[0m\n\u001b[1;32m    183\u001b[0m                 \u001b[0mproducts\u001b[0m\u001b[0;34m.\u001b[0m \u001b[0mDefaults\u001b[0m \u001b[0mto\u001b[0m\u001b[0;31m \u001b[0m\u001b[0;31m`\u001b[0m\u001b[0;31m`\u001b[0m\u001b[0;32mFalse\u001b[0m\u001b[0;31m`\u001b[0m\u001b[0;31m`\u001b[0m\u001b[0;34m.\u001b[0m\u001b[0;34m\u001b[0m\u001b[0;34m\u001b[0m\u001b[0m\n\u001b[1;32m    184\u001b[0m         \"\"\"\n\u001b[0;32m--> 185\u001b[0;31m         \u001b[0mtorch\u001b[0m\u001b[0;34m.\u001b[0m\u001b[0mautograd\u001b[0m\u001b[0;34m.\u001b[0m\u001b[0mbackward\u001b[0m\u001b[0;34m(\u001b[0m\u001b[0mself\u001b[0m\u001b[0;34m,\u001b[0m \u001b[0mgradient\u001b[0m\u001b[0;34m,\u001b[0m \u001b[0mretain_graph\u001b[0m\u001b[0;34m,\u001b[0m \u001b[0mcreate_graph\u001b[0m\u001b[0;34m)\u001b[0m\u001b[0;34m\u001b[0m\u001b[0;34m\u001b[0m\u001b[0m\n\u001b[0m\u001b[1;32m    186\u001b[0m \u001b[0;34m\u001b[0m\u001b[0m\n\u001b[1;32m    187\u001b[0m     \u001b[0;32mdef\u001b[0m \u001b[0mregister_hook\u001b[0m\u001b[0;34m(\u001b[0m\u001b[0mself\u001b[0m\u001b[0;34m,\u001b[0m \u001b[0mhook\u001b[0m\u001b[0;34m)\u001b[0m\u001b[0;34m:\u001b[0m\u001b[0;34m\u001b[0m\u001b[0;34m\u001b[0m\u001b[0m\n",
      "\u001b[0;32m/opt/anaconda3/envs/contrastRetrieval/lib/python3.7/site-packages/torch/autograd/__init__.py\u001b[0m in \u001b[0;36mbackward\u001b[0;34m(tensors, grad_tensors, retain_graph, create_graph, grad_variables)\u001b[0m\n\u001b[1;32m    125\u001b[0m     Variable._execution_engine.run_backward(\n\u001b[1;32m    126\u001b[0m         \u001b[0mtensors\u001b[0m\u001b[0;34m,\u001b[0m \u001b[0mgrad_tensors\u001b[0m\u001b[0;34m,\u001b[0m \u001b[0mretain_graph\u001b[0m\u001b[0;34m,\u001b[0m \u001b[0mcreate_graph\u001b[0m\u001b[0;34m,\u001b[0m\u001b[0;34m\u001b[0m\u001b[0;34m\u001b[0m\u001b[0m\n\u001b[0;32m--> 127\u001b[0;31m         allow_unreachable=True)  # allow_unreachable flag\n\u001b[0m\u001b[1;32m    128\u001b[0m \u001b[0;34m\u001b[0m\u001b[0m\n\u001b[1;32m    129\u001b[0m \u001b[0;34m\u001b[0m\u001b[0m\n",
      "\u001b[0;31mKeyboardInterrupt\u001b[0m: "
     ]
    }
   ],
   "source": [
    "\n",
    "\n",
    "# def train_contrast_retrieval(data_config, exp_config):\n",
    "\n",
    "\n",
    "# cuda\n",
    "device = torch.device(\"cuda\" if torch.cuda.is_available() else \"cpu\")\n",
    "n_gpu = torch.cuda.device_count()\n",
    "\n",
    "ds = AUSDataset()\n",
    "train_dataloader = ds.get_data_loader(split='train', batch_size=2, shuffle=True)\n",
    "val_dataloader = ds.get_data_loader(split='val', batch_size=2, shuffle=True)\n",
    "test_dataloader = ds.get_data_loader(split='test', batch_size=2, shuffle=True)\n",
    "\n",
    "tokenizer = AutoTokenizer.from_pretrained(exp_config.uri)\n",
    "encoder = AutoModel.from_pretrained(exp_config.uri)\n",
    "\n",
    "model = NNModel(exp_config)\n",
    "\n",
    "optimizer = torch.optim.Adam(encoder.parameters(), lr=0.001)\n",
    "# print(encoder.parameters())\n",
    "\n",
    "# for name, param in encoder.named_parameters():\n",
    "#     print(name, param.size())\n",
    "# Store our loss and accuracy for plotting\n",
    "train_loss_set = []\n",
    "\n",
    "# Number of training epochs (authors recommend between 2 and 4)\n",
    "epochs = exp_config.epochs\n",
    "\n",
    "# trange is a tqdm wrapper around the normal python range\n",
    "for epoch__ in trange(epochs, desc=\"Epoch\"):\n",
    "\n",
    "    print(\"start training\")\n",
    "\n",
    "    # Set our model to training mode (as opposed to evaluation mode)\n",
    "    encoder.train()\n",
    "\n",
    "    # Tracking variables\n",
    "    tr_loss = 0  # running loss\n",
    "    nb_tr_steps = 0\n",
    "\n",
    "    # Train the data for one epoch\n",
    "    for step, batch in tqdm(enumerate(train_dataloader)):\n",
    "        optimizer.zero_grad()\n",
    "        # Unpack the inputs from our dataloader\n",
    "        sentences, catchphrases = batch  # len(sentences)=2, len(catchphrases)=2\n",
    "        # Clear out the gradients (by default they accumulate)\n",
    "\n",
    "        sentences_a, catchphrase_a = sentences[0], catchphrases[0]\n",
    "        sentences_b, catchphrase_b = sentences[1], catchphrases[1]\n",
    "\n",
    "        batch_catchphrase_a = catchphrase_a.split(EOC_TOK)\n",
    "        batch_catchphrase_b = catchphrase_b.split(EOC_TOK)\n",
    "\n",
    "        encoded_batch_catchphrase_a = tokenizer(batch_catchphrase_a, truncation=True, return_tensors=\"pt\",\n",
    "                                                padding='max_length', max_length=128)\n",
    "        encoded_batch_catchphrase_b = tokenizer(batch_catchphrase_b, truncation=True, return_tensors=\"pt\",\n",
    "                                                padding='max_length', max_length=128)\n",
    "\n",
    "        sentence_indices_a = tokenizer(sentences_a, truncation=True, return_tensors=\"pt\", padding='max_length',\n",
    "                                       max_length=512*12)\n",
    "        sentence_indices_b = tokenizer(sentences_b, truncation=True, return_tensors=\"pt\", padding='max_length',\n",
    "                                       max_length=512*12)\n",
    "\n",
    "        _, batch_catchphrase_embedding_a = encoder(**encoded_batch_catchphrase_a)  # [7, 768]\n",
    "        _, batch_catchphrase_embedding_b = encoder(**encoded_batch_catchphrase_b)  # [13,768]\n",
    "\n",
    "        \n",
    "        chunk_indices_a=chunkify(sentence_indices_a)\n",
    "        \n",
    "        chunk_indices_b=chunkify(sentence_indices_b)\n",
    "         \n",
    "\n",
    "        chunk_embeddings_a=encode_chunks(chunk_indices_a,encoder)\n",
    "        chunk_embeddings_b=encode_chunks(chunk_indices_b,encoder)\n",
    "    \n",
    "        \n",
    "        #################### Aggregation ######################\n",
    "        sentence_embedding_a=torch.mean(chunk_embeddings_a,dim=0)\n",
    "        sentence_embedding_b=torch.mean(chunk_embeddings_b,dim=0)\n",
    "        \n",
    "\n",
    "        triplet_loss = nn.TripletMarginLoss(margin=1.0, p=2)\n",
    "\n",
    "        anchor_a = sentence_embedding_a.unsqueeze(0)\n",
    "        anchor_b = sentence_embedding_b.unsqueeze(0)\n",
    "        batch_train_loss_set=[]\n",
    "        for catchphrase_embedding_a in tqdm(batch_catchphrase_embedding_a):\n",
    "            for catchphrase_embedding_b in batch_catchphrase_embedding_b:\n",
    "                positive = catchphrase_embedding_a.unsqueeze(0)\n",
    "                negative = catchphrase_embedding_b.unsqueeze(0)\n",
    "                loss = triplet_loss(anchor_a, positive, negative)\n",
    "                batch_train_loss_set.append(loss.unsqueeze(0))\n",
    "                loss = triplet_loss(anchor_b, negative, positive)\n",
    "                batch_train_loss_set.append(loss.unsqueeze(0))\n",
    "        batch_loss=torch.mean(torch.cat(batch_train_loss_set))\n",
    "        batch_loss.backward()\n",
    "        optimizer.step()\n",
    "        # Update tracking variables\n",
    "        tr_loss += batch_loss.item()\n",
    "        nb_tr_steps += 1\n",
    "\n",
    "        print(\"Train loss: {}\".format(tr_loss/nb_tr_steps))\n",
    "\n",
    "\n",
    "\n"
   ]
  },
  {
   "cell_type": "code",
   "execution_count": 2,
   "metadata": {
    "ExecuteTime": {
     "end_time": "2020-12-03T12:10:59.656587Z",
     "start_time": "2020-12-03T12:10:59.542292Z"
    }
   },
   "outputs": [
    {
     "ename": "NameError",
     "evalue": "name 'train_contrast_retrieval' is not defined",
     "output_type": "error",
     "traceback": [
      "\u001b[0;31m---------------------------------------------------------------------------\u001b[0m",
      "\u001b[0;31mNameError\u001b[0m                                 Traceback (most recent call last)",
      "\u001b[0;32m<ipython-input-2-93c22f244bf9>\u001b[0m in \u001b[0;36m<module>\u001b[0;34m\u001b[0m\n\u001b[1;32m     10\u001b[0m     \u001b[0mdata_config\u001b[0m \u001b[0;34m=\u001b[0m \u001b[0mDatasetConfig\u001b[0m\u001b[0;34m(\u001b[0m\u001b[0;34m\"AUS\"\u001b[0m\u001b[0;34m)\u001b[0m\u001b[0;34m\u001b[0m\u001b[0;34m\u001b[0m\u001b[0m\n\u001b[1;32m     11\u001b[0m     \u001b[0mexp_config\u001b[0m \u001b[0;34m=\u001b[0m \u001b[0mExpConfig\u001b[0m\u001b[0;34m(\u001b[0m\u001b[0;34m\"MeanModel\"\u001b[0m\u001b[0;34m)\u001b[0m\u001b[0;34m\u001b[0m\u001b[0;34m\u001b[0m\u001b[0m\n\u001b[0;32m---> 12\u001b[0;31m     \u001b[0mtrain_contrast_retrieval\u001b[0m\u001b[0;34m(\u001b[0m\u001b[0mdata_config\u001b[0m\u001b[0;34m,\u001b[0m \u001b[0mexp_config\u001b[0m\u001b[0;34m)\u001b[0m\u001b[0;34m\u001b[0m\u001b[0;34m\u001b[0m\u001b[0m\n\u001b[0m",
      "\u001b[0;31mNameError\u001b[0m: name 'train_contrast_retrieval' is not defined"
     ]
    }
   ],
   "source": [
    "if __name__ == '__main__':\n",
    "    ds = AUSDataset()\n",
    "\n",
    "    # ds.save_processed_splits()\n",
    "\n",
    "    test_dataloader = ds.get_data_loader(split='test', batch_size=2, shuffle=True)\n",
    "    # print(test_dl.batch_size)\n",
    "    # for i in test_dl:\n",
    "    #     print(len(i[0]),len(i[1]))\n",
    "    data_config = DatasetConfig(\"AUS\")\n",
    "    exp_config = ExpConfig(\"MeanModel\")\n",
    "    train_contrast_retrieval(data_config, exp_config)"
   ]
  },
  {
   "cell_type": "code",
   "execution_count": null,
   "metadata": {},
   "outputs": [],
   "source": []
  }
 ],
 "metadata": {
  "kernelspec": {
   "display_name": "Python 3",
   "language": "python",
   "name": "python3"
  },
  "language_info": {
   "codemirror_mode": {
    "name": "ipython",
    "version": 3
   },
   "file_extension": ".py",
   "mimetype": "text/x-python",
   "name": "python",
   "nbconvert_exporter": "python",
   "pygments_lexer": "ipython3",
   "version": "3.7.9"
  }
 },
 "nbformat": 4,
 "nbformat_minor": 4
}
