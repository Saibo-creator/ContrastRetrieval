{
 "cells": [
  {
   "cell_type": "code",
   "execution_count": 59,
   "metadata": {
    "ExecuteTime": {
     "end_time": "2020-12-02T14:47:19.729743Z",
     "start_time": "2020-12-02T14:47:19.724271Z"
    }
   },
   "outputs": [],
   "source": [
    "# import xmltodict\n",
    "# import xml.etree.ElementTree as ET\n",
    "from project_settings import ExpConfig, DatasetConfig\n",
    "from utils import copy_file,save_file,load_file,list_all_files\n",
    "import re\n",
    "import os\n",
    "import numpy as np\n",
    "import seaborn as sns\n",
    "import pandas as pd"
   ]
  },
  {
   "cell_type": "code",
   "execution_count": 5,
   "metadata": {
    "ExecuteTime": {
     "end_time": "2020-12-02T14:28:05.936957Z",
     "start_time": "2020-12-02T14:28:05.934687Z"
    }
   },
   "outputs": [],
   "source": [
    "datasetConfig=DatasetConfig(\"AUS\")"
   ]
  },
  {
   "cell_type": "code",
   "execution_count": 6,
   "metadata": {
    "ExecuteTime": {
     "end_time": "2020-12-02T14:28:06.267876Z",
     "start_time": "2020-12-02T14:28:06.265123Z"
    }
   },
   "outputs": [],
   "source": [
    "dir_path=datasetConfig.raw_path\n",
    "# output_fn=\"datasets/summarization/summ.tsv\""
   ]
  },
  {
   "cell_type": "code",
   "execution_count": 12,
   "metadata": {
    "ExecuteTime": {
     "end_time": "2020-12-02T14:29:31.304257Z",
     "start_time": "2020-12-02T14:29:31.302140Z"
    }
   },
   "outputs": [],
   "source": [
    "sentence_pattern='<sentence id=\"s[0-9]*\">(.*)</sentence>'\n",
    "catchphrase_pattern='<catchphrase \"id=c[0-9]*\">(.*)</catchphrase>'"
   ]
  },
  {
   "cell_type": "code",
   "execution_count": null,
   "metadata": {},
   "outputs": [],
   "source": []
  },
  {
   "cell_type": "code",
   "execution_count": 7,
   "metadata": {
    "ExecuteTime": {
     "end_time": "2020-12-02T14:28:07.374165Z",
     "start_time": "2020-12-02T14:28:07.353242Z"
    }
   },
   "outputs": [],
   "source": [
    "\n",
    "fpaths=list_all_files(dir_path)\n",
    "\n",
    "# output_tsv(output_fn,fpaths,sentence_pattern,catchphrase_pattern)"
   ]
  },
  {
   "cell_type": "code",
   "execution_count": 8,
   "metadata": {
    "ExecuteTime": {
     "end_time": "2020-12-02T14:28:07.856156Z",
     "start_time": "2020-12-02T14:28:07.834254Z"
    }
   },
   "outputs": [
    {
     "data": {
      "text/plain": [
       "['datasets/AUS_dataset/raw/corpus/fulltext/08_1056.xml',\n",
       " 'datasets/AUS_dataset/raw/corpus/fulltext/09_930.xml',\n",
       " 'datasets/AUS_dataset/raw/corpus/fulltext/06_1301.xml',\n",
       " 'datasets/AUS_dataset/raw/corpus/fulltext/09_1042.xml',\n",
       " 'datasets/AUS_dataset/raw/corpus/fulltext/08_1730.xml',\n",
       " 'datasets/AUS_dataset/raw/corpus/fulltext/09_1056.xml',\n",
       " 'datasets/AUS_dataset/raw/corpus/fulltext/06_1473.xml',\n",
       " 'datasets/AUS_dataset/raw/corpus/fulltext/09_924.xml',\n",
       " 'datasets/AUS_dataset/raw/corpus/fulltext/06_355.xml',\n",
       " 'datasets/AUS_dataset/raw/corpus/fulltext/07_1329.xml',\n",
       " 'datasets/AUS_dataset/raw/corpus/fulltext/06_433.xml',\n",
       " 'datasets/AUS_dataset/raw/corpus/fulltext/06_427.xml',\n",
       " 'datasets/AUS_dataset/raw/corpus/fulltext/07_634.xml',\n",
       " 'datasets/AUS_dataset/raw/corpus/fulltext/06_341.xml',\n",
       " 'datasets/AUS_dataset/raw/corpus/fulltext/06_1329.xml',\n",
       " 'datasets/AUS_dataset/raw/corpus/fulltext/09_37.xml',\n",
       " 'datasets/AUS_dataset/raw/corpus/fulltext/09_1081.xml',\n",
       " 'datasets/AUS_dataset/raw/corpus/fulltext/08_1081.xml',\n",
       " 'datasets/AUS_dataset/raw/corpus/fulltext/07_26.xml',\n",
       " 'datasets/AUS_dataset/raw/corpus/fulltext/06_396.xml',\n",
       " 'datasets/AUS_dataset/raw/corpus/fulltext/08_504.xml',\n",
       " 'datasets/AUS_dataset/raw/corpus/fulltext/09_717.xml',\n",
       " 'datasets/AUS_dataset/raw/corpus/fulltext/06_1498.xml',\n",
       " 'datasets/AUS_dataset/raw/corpus/fulltext/08_1903.xml',\n",
       " 'datasets/AUS_dataset/raw/corpus/fulltext/08_510.xml',\n",
       " 'datasets/AUS_dataset/raw/corpus/fulltext/07_1498.xml',\n",
       " 'datasets/AUS_dataset/raw/corpus/fulltext/07_32.xml',\n",
       " 'datasets/AUS_dataset/raw/corpus/fulltext/06_382.xml',\n",
       " 'datasets/AUS_dataset/raw/corpus/fulltext/08_1532.xml',\n",
       " 'datasets/AUS_dataset/raw/corpus/fulltext/09_1240.xml',\n",
       " 'datasets/AUS_dataset/raw/corpus/fulltext/09_1526.xml',\n",
       " 'datasets/AUS_dataset/raw/corpus/fulltext/09_1532.xml',\n",
       " 'datasets/AUS_dataset/raw/corpus/fulltext/06_1117.xml',\n",
       " 'datasets/AUS_dataset/raw/corpus/fulltext/08_935.xml',\n",
       " 'datasets/AUS_dataset/raw/corpus/fulltext/06_1671.xml',\n",
       " 'datasets/AUS_dataset/raw/corpus/fulltext/09_298.xml',\n",
       " 'datasets/AUS_dataset/raw/corpus/fulltext/09_1254.xml',\n",
       " 'datasets/AUS_dataset/raw/corpus/fulltext/06_619.xml',\n",
       " 'datasets/AUS_dataset/raw/corpus/fulltext/08_1526.xml',\n",
       " 'datasets/AUS_dataset/raw/corpus/fulltext/08_1268.xml',\n",
       " 'datasets/AUS_dataset/raw/corpus/fulltext/06_157.xml',\n",
       " 'datasets/AUS_dataset/raw/corpus/fulltext/07_1895.xml',\n",
       " 'datasets/AUS_dataset/raw/corpus/fulltext/07_1659.xml',\n",
       " 'datasets/AUS_dataset/raw/corpus/fulltext/06_143.xml',\n",
       " 'datasets/AUS_dataset/raw/corpus/fulltext/07_436.xml',\n",
       " 'datasets/AUS_dataset/raw/corpus/fulltext/09_1268.xml',\n",
       " 'datasets/AUS_dataset/raw/corpus/fulltext/09_1283.xml',\n",
       " 'datasets/AUS_dataset/raw/corpus/fulltext/06_816.xml',\n",
       " 'datasets/AUS_dataset/raw/corpus/fulltext/08_1297.xml',\n",
       " 'datasets/AUS_dataset/raw/corpus/fulltext/09_529.xml',\n",
       " 'datasets/AUS_dataset/raw/corpus/fulltext/08_1283.xml',\n",
       " 'datasets/AUS_dataset/raw/corpus/fulltext/06_802.xml',\n",
       " 'datasets/AUS_dataset/raw/corpus/fulltext/06_1842.xml',\n",
       " 'datasets/AUS_dataset/raw/corpus/fulltext/09_515.xml',\n",
       " 'datasets/AUS_dataset/raw/corpus/fulltext/08_706.xml',\n",
       " 'datasets/AUS_dataset/raw/corpus/fulltext/06_180.xml',\n",
       " 'datasets/AUS_dataset/raw/corpus/fulltext/07_393.xml',\n",
       " 'datasets/AUS_dataset/raw/corpus/fulltext/08_712.xml',\n",
       " 'datasets/AUS_dataset/raw/corpus/fulltext/09_267.xml',\n",
       " 'datasets/AUS_dataset/raw/corpus/fulltext/07_1063.xml',\n",
       " 'datasets/AUS_dataset/raw/corpus/fulltext/06_779.xml',\n",
       " 'datasets/AUS_dataset/raw/corpus/fulltext/09_1334.xml',\n",
       " 'datasets/AUS_dataset/raw/corpus/fulltext/06_1711.xml',\n",
       " 'datasets/AUS_dataset/raw/corpus/fulltext/08_855.xml',\n",
       " 'datasets/AUS_dataset/raw/corpus/fulltext/06_1077.xml',\n",
       " 'datasets/AUS_dataset/raw/corpus/fulltext/08_1320.xml',\n",
       " 'datasets/AUS_dataset/raw/corpus/fulltext/07_1705.xml',\n",
       " 'datasets/AUS_dataset/raw/corpus/fulltext/08_88.xml',\n",
       " 'datasets/AUS_dataset/raw/corpus/fulltext/08_1334.xml',\n",
       " 'datasets/AUS_dataset/raw/corpus/fulltext/08_841.xml',\n",
       " 'datasets/AUS_dataset/raw/corpus/fulltext/09_1446.xml',\n",
       " 'datasets/AUS_dataset/raw/corpus/fulltext/09_1320.xml',\n",
       " 'datasets/AUS_dataset/raw/corpus/fulltext/06_1705.xml',\n",
       " 'datasets/AUS_dataset/raw/corpus/fulltext/08_1452.xml',\n",
       " 'datasets/AUS_dataset/raw/corpus/fulltext/09_7.xml',\n",
       " 'datasets/AUS_dataset/raw/corpus/fulltext/09_1308.xml',\n",
       " 'datasets/AUS_dataset/raw/corpus/fulltext/06_745.xml',\n",
       " 'datasets/AUS_dataset/raw/corpus/fulltext/07_224.xml',\n",
       " 'datasets/AUS_dataset/raw/corpus/fulltext/07_542.xml',\n",
       " 'datasets/AUS_dataset/raw/corpus/fulltext/08_1485.xml',\n",
       " 'datasets/AUS_dataset/raw/corpus/fulltext/07_8.xml',\n",
       " 'datasets/AUS_dataset/raw/corpus/fulltext/08_896.xml',\n",
       " 'datasets/AUS_dataset/raw/corpus/fulltext/09_449.xml',\n",
       " 'datasets/AUS_dataset/raw/corpus/fulltext/09_1485.xml',\n",
       " 'datasets/AUS_dataset/raw/corpus/fulltext/06_66.xml',\n",
       " 'datasets/AUS_dataset/raw/corpus/fulltext/08_1491.xml',\n",
       " 'datasets/AUS_dataset/raw/corpus/fulltext/06_786.xml',\n",
       " 'datasets/AUS_dataset/raw/corpus/fulltext/07_595.xml',\n",
       " 'datasets/AUS_dataset/raw/corpus/fulltext/09_307.xml',\n",
       " 'datasets/AUS_dataset/raw/corpus/fulltext/06_1088.xml',\n",
       " 'datasets/AUS_dataset/raw/corpus/fulltext/08_63.xml',\n",
       " 'datasets/AUS_dataset/raw/corpus/fulltext/07_1922.xml',\n",
       " 'datasets/AUS_dataset/raw/corpus/fulltext/07_1936.xml',\n",
       " 'datasets/AUS_dataset/raw/corpus/fulltext/09_475.xml',\n",
       " 'datasets/AUS_dataset/raw/corpus/fulltext/09_313.xml',\n",
       " 'datasets/AUS_dataset/raw/corpus/fulltext/08_100.xml',\n",
       " 'datasets/AUS_dataset/raw/corpus/fulltext/06_792.xml',\n",
       " 'datasets/AUS_dataset/raw/corpus/fulltext/07_581.xml',\n",
       " 'datasets/AUS_dataset/raw/corpus/fulltext/07_1088.xml',\n",
       " 'datasets/AUS_dataset/raw/corpus/fulltext/07_1507.xml',\n",
       " 'datasets/AUS_dataset/raw/corpus/fulltext/06_1275.xml',\n",
       " 'datasets/AUS_dataset/raw/corpus/fulltext/09_844.xml',\n",
       " 'datasets/AUS_dataset/raw/corpus/fulltext/09_1136.xml',\n",
       " 'datasets/AUS_dataset/raw/corpus/fulltext/07_768.xml',\n",
       " 'datasets/AUS_dataset/raw/corpus/fulltext/06_1507.xml',\n",
       " 'datasets/AUS_dataset/raw/corpus/fulltext/09_1122.xml',\n",
       " 'datasets/AUS_dataset/raw/corpus/fulltext/06_1261.xml',\n",
       " 'datasets/AUS_dataset/raw/corpus/fulltext/06_209.xml',\n",
       " 'datasets/AUS_dataset/raw/corpus/fulltext/06_1249.xml',\n",
       " 'datasets/AUS_dataset/raw/corpus/fulltext/09_878.xml',\n",
       " 'datasets/AUS_dataset/raw/corpus/fulltext/06_221.xml',\n",
       " 'datasets/AUS_dataset/raw/corpus/fulltext/08_1678.xml',\n",
       " 'datasets/AUS_dataset/raw/corpus/fulltext/07_1249.xml',\n",
       " 'datasets/AUS_dataset/raw/corpus/fulltext/07_2026.xml',\n",
       " 'datasets/AUS_dataset/raw/corpus/fulltext/07_973.xml',\n",
       " 'datasets/AUS_dataset/raw/corpus/fulltext/09_139.xml',\n",
       " 'datasets/AUS_dataset/raw/corpus/fulltext/07_967.xml',\n",
       " 'datasets/AUS_dataset/raw/corpus/fulltext/08_458.xml',\n",
       " 'datasets/AUS_dataset/raw/corpus/fulltext/08_470.xml',\n",
       " 'datasets/AUS_dataset/raw/corpus/fulltext/08_316.xml',\n",
       " 'datasets/AUS_dataset/raw/corpus/fulltext/07_797.xml',\n",
       " 'datasets/AUS_dataset/raw/corpus/fulltext/06_584.xml',\n",
       " 'datasets/AUS_dataset/raw/corpus/fulltext/08_1877.xml',\n",
       " 'datasets/AUS_dataset/raw/corpus/fulltext/06_590.xml',\n",
       " 'datasets/AUS_dataset/raw/corpus/fulltext/09_677.xml',\n",
       " 'datasets/AUS_dataset/raw/corpus/fulltext/08_464.xml',\n",
       " 'datasets/AUS_dataset/raw/corpus/fulltext/08_303.xml',\n",
       " 'datasets/AUS_dataset/raw/corpus/fulltext/06_591.xml',\n",
       " 'datasets/AUS_dataset/raw/corpus/fulltext/08_465.xml',\n",
       " 'datasets/AUS_dataset/raw/corpus/fulltext/09_676.xml',\n",
       " 'datasets/AUS_dataset/raw/corpus/fulltext/08_471.xml',\n",
       " 'datasets/AUS_dataset/raw/corpus/fulltext/09_662.xml',\n",
       " 'datasets/AUS_dataset/raw/corpus/fulltext/08_1862.xml',\n",
       " 'datasets/AUS_dataset/raw/corpus/fulltext/08_317.xml',\n",
       " 'datasets/AUS_dataset/raw/corpus/fulltext/07_966.xml',\n",
       " 'datasets/AUS_dataset/raw/corpus/fulltext/08_459.xml',\n",
       " 'datasets/AUS_dataset/raw/corpus/fulltext/09_892.xml',\n",
       " 'datasets/AUS_dataset/raw/corpus/fulltext/09_886.xml',\n",
       " 'datasets/AUS_dataset/raw/corpus/fulltext/08_1686.xml',\n",
       " 'datasets/AUS_dataset/raw/corpus/fulltext/07_972.xml',\n",
       " 'datasets/AUS_dataset/raw/corpus/fulltext/06_552.xml',\n",
       " 'datasets/AUS_dataset/raw/corpus/fulltext/06_220.xml',\n",
       " 'datasets/AUS_dataset/raw/corpus/fulltext/07_2033.xml',\n",
       " 'datasets/AUS_dataset/raw/corpus/fulltext/08_1679.xml',\n",
       " 'datasets/AUS_dataset/raw/corpus/fulltext/06_546.xml',\n",
       " 'datasets/AUS_dataset/raw/corpus/fulltext/09_1123.xml',\n",
       " 'datasets/AUS_dataset/raw/corpus/fulltext/06_1506.xml',\n",
       " 'datasets/AUS_dataset/raw/corpus/fulltext/07_1274.xml',\n",
       " 'datasets/AUS_dataset/raw/corpus/fulltext/06_208.xml',\n",
       " 'datasets/AUS_dataset/raw/corpus/fulltext/07_1512.xml',\n",
       " 'datasets/AUS_dataset/raw/corpus/fulltext/09_851.xml',\n",
       " 'datasets/AUS_dataset/raw/corpus/fulltext/06_1260.xml',\n",
       " 'datasets/AUS_dataset/raw/corpus/fulltext/09_689.xml',\n",
       " 'datasets/AUS_dataset/raw/corpus/fulltext/06_1274.xml',\n",
       " 'datasets/AUS_dataset/raw/corpus/fulltext/09_845.xml',\n",
       " 'datasets/AUS_dataset/raw/corpus/fulltext/07_1506.xml',\n",
       " 'datasets/AUS_dataset/raw/corpus/fulltext/07_769.xml',\n",
       " 'datasets/AUS_dataset/raw/corpus/fulltext/09_474.xml',\n",
       " 'datasets/AUS_dataset/raw/corpus/fulltext/08_667.xml',\n",
       " 'datasets/AUS_dataset/raw/corpus/fulltext/07_1937.xml',\n",
       " 'datasets/AUS_dataset/raw/corpus/fulltext/08_76.xml',\n",
       " 'datasets/AUS_dataset/raw/corpus/fulltext/06_793.xml',\n",
       " 'datasets/AUS_dataset/raw/corpus/fulltext/08_101.xml',\n",
       " 'datasets/AUS_dataset/raw/corpus/fulltext/09_312.xml',\n",
       " 'datasets/AUS_dataset/raw/corpus/fulltext/09_306.xml',\n",
       " 'datasets/AUS_dataset/raw/corpus/fulltext/07_1923.xml',\n",
       " 'datasets/AUS_dataset/raw/corpus/fulltext/08_62.xml',\n",
       " 'datasets/AUS_dataset/raw/corpus/fulltext/06_1089.xml',\n",
       " 'datasets/AUS_dataset/raw/corpus/fulltext/06_67.xml',\n",
       " 'datasets/AUS_dataset/raw/corpus/fulltext/09_448.xml',\n",
       " 'datasets/AUS_dataset/raw/corpus/fulltext/08_1490.xml',\n",
       " 'datasets/AUS_dataset/raw/corpus/fulltext/07_9.xml',\n",
       " 'datasets/AUS_dataset/raw/corpus/fulltext/06_963.xml',\n",
       " 'datasets/AUS_dataset/raw/corpus/fulltext/08_1484.xml',\n",
       " 'datasets/AUS_dataset/raw/corpus/fulltext/08_897.xml',\n",
       " 'datasets/AUS_dataset/raw/corpus/fulltext/06_98.xml',\n",
       " 'datasets/AUS_dataset/raw/corpus/fulltext/07_225.xml',\n",
       " 'datasets/AUS_dataset/raw/corpus/fulltext/07_557.xml',\n",
       " 'datasets/AUS_dataset/raw/corpus/fulltext/09_1309.xml',\n",
       " 'datasets/AUS_dataset/raw/corpus/fulltext/08_868.xml',\n",
       " 'datasets/AUS_dataset/raw/corpus/fulltext/08_840.xml',\n",
       " 'datasets/AUS_dataset/raw/corpus/fulltext/07_1710.xml',\n",
       " 'datasets/AUS_dataset/raw/corpus/fulltext/08_1335.xml',\n",
       " 'datasets/AUS_dataset/raw/corpus/fulltext/09_6.xml',\n",
       " 'datasets/AUS_dataset/raw/corpus/fulltext/08_1453.xml',\n",
       " 'datasets/AUS_dataset/raw/corpus/fulltext/07_1076.xml',\n",
       " 'datasets/AUS_dataset/raw/corpus/fulltext/06_1710.xml',\n",
       " 'datasets/AUS_dataset/raw/corpus/fulltext/08_1447.xml',\n",
       " 'datasets/AUS_dataset/raw/corpus/fulltext/07_1062.xml',\n",
       " 'datasets/AUS_dataset/raw/corpus/fulltext/08_1321.xml',\n",
       " 'datasets/AUS_dataset/raw/corpus/fulltext/07_392.xml',\n",
       " 'datasets/AUS_dataset/raw/corpus/fulltext/09_266.xml',\n",
       " 'datasets/AUS_dataset/raw/corpus/fulltext/07_386.xml',\n",
       " 'datasets/AUS_dataset/raw/corpus/fulltext/07_1857.xml',\n",
       " 'datasets/AUS_dataset/raw/corpus/fulltext/06_195.xml',\n",
       " 'datasets/AUS_dataset/raw/corpus/fulltext/08_707.xml',\n",
       " 'datasets/AUS_dataset/raw/corpus/fulltext/09_514.xml',\n",
       " 'datasets/AUS_dataset/raw/corpus/fulltext/09_528.xml',\n",
       " 'datasets/AUS_dataset/raw/corpus/fulltext/07_1658.xml',\n",
       " 'datasets/AUS_dataset/raw/corpus/fulltext/08_908.xml',\n",
       " 'datasets/AUS_dataset/raw/corpus/fulltext/06_624.xml',\n",
       " 'datasets/AUS_dataset/raw/corpus/fulltext/06_630.xml',\n",
       " 'datasets/AUS_dataset/raw/corpus/fulltext/07_423.xml',\n",
       " 'datasets/AUS_dataset/raw/corpus/fulltext/08_934.xml',\n",
       " 'datasets/AUS_dataset/raw/corpus/fulltext/06_1116.xml',\n",
       " 'datasets/AUS_dataset/raw/corpus/fulltext/09_1533.xml',\n",
       " 'datasets/AUS_dataset/raw/corpus/fulltext/07_1664.xml',\n",
       " 'datasets/AUS_dataset/raw/corpus/fulltext/08_1527.xml',\n",
       " 'datasets/AUS_dataset/raw/corpus/fulltext/06_618.xml',\n",
       " 'datasets/AUS_dataset/raw/corpus/fulltext/09_1255.xml',\n",
       " 'datasets/AUS_dataset/raw/corpus/fulltext/09_299.xml',\n",
       " 'datasets/AUS_dataset/raw/corpus/fulltext/06_1670.xml',\n",
       " 'datasets/AUS_dataset/raw/corpus/fulltext/09_1241.xml',\n",
       " 'datasets/AUS_dataset/raw/corpus/fulltext/08_920.xml',\n",
       " 'datasets/AUS_dataset/raw/corpus/fulltext/06_1102.xml',\n",
       " 'datasets/AUS_dataset/raw/corpus/fulltext/08_1902.xml',\n",
       " 'datasets/AUS_dataset/raw/corpus/fulltext/06_383.xml',\n",
       " 'datasets/AUS_dataset/raw/corpus/fulltext/07_190.xml',\n",
       " 'datasets/AUS_dataset/raw/corpus/fulltext/07_33.xml',\n",
       " 'datasets/AUS_dataset/raw/corpus/fulltext/09_702.xml',\n",
       " 'datasets/AUS_dataset/raw/corpus/fulltext/06_397.xml',\n",
       " 'datasets/AUS_dataset/raw/corpus/fulltext/07_27.xml',\n",
       " 'datasets/AUS_dataset/raw/corpus/fulltext/08_1916.xml',\n",
       " 'datasets/AUS_dataset/raw/corpus/fulltext/09_1094.xml',\n",
       " 'datasets/AUS_dataset/raw/corpus/fulltext/08_1080.xml',\n",
       " 'datasets/AUS_dataset/raw/corpus/fulltext/09_22.xml',\n",
       " 'datasets/AUS_dataset/raw/corpus/fulltext/09_36.xml',\n",
       " 'datasets/AUS_dataset/raw/corpus/fulltext/07_806.xml',\n",
       " 'datasets/AUS_dataset/raw/corpus/fulltext/07_635.xml',\n",
       " 'datasets/AUS_dataset/raw/corpus/fulltext/06_426.xml',\n",
       " 'datasets/AUS_dataset/raw/corpus/fulltext/06_1328.xml',\n",
       " 'datasets/AUS_dataset/raw/corpus/fulltext/06_354.xml',\n",
       " 'datasets/AUS_dataset/raw/corpus/fulltext/06_432.xml',\n",
       " 'datasets/AUS_dataset/raw/corpus/fulltext/07_1328.xml',\n",
       " 'datasets/AUS_dataset/raw/corpus/fulltext/06_1472.xml',\n",
       " 'datasets/AUS_dataset/raw/corpus/fulltext/09_1057.xml',\n",
       " 'datasets/AUS_dataset/raw/corpus/fulltext/07_609.xml',\n",
       " 'datasets/AUS_dataset/raw/corpus/fulltext/08_1725.xml',\n",
       " 'datasets/AUS_dataset/raw/corpus/fulltext/07_1300.xml',\n",
       " 'datasets/AUS_dataset/raw/corpus/fulltext/08_1043.xml',\n",
       " 'datasets/AUS_dataset/raw/corpus/fulltext/06_1314.xml',\n",
       " 'datasets/AUS_dataset/raw/corpus/fulltext/09_931.xml',\n",
       " 'datasets/AUS_dataset/raw/corpus/fulltext/08_1057.xml',\n",
       " 'datasets/AUS_dataset/raw/corpus/fulltext/08_1731.xml',\n",
       " 'datasets/AUS_dataset/raw/corpus/fulltext/09_1043.xml',\n",
       " 'datasets/AUS_dataset/raw/corpus/fulltext/08_1041.xml',\n",
       " 'datasets/AUS_dataset/raw/corpus/fulltext/06_1470.xml',\n",
       " 'datasets/AUS_dataset/raw/corpus/fulltext/07_1316.xml',\n",
       " 'datasets/AUS_dataset/raw/corpus/fulltext/08_1733.xml',\n",
       " 'datasets/AUS_dataset/raw/corpus/fulltext/07_179.xml',\n",
       " 'datasets/AUS_dataset/raw/corpus/fulltext/06_1302.xml',\n",
       " 'datasets/AUS_dataset/raw/corpus/fulltext/09_933.xml',\n",
       " 'datasets/AUS_dataset/raw/corpus/fulltext/07_151.xml',\n",
       " 'datasets/AUS_dataset/raw/corpus/fulltext/06_342.xml',\n",
       " 'datasets/AUS_dataset/raw/corpus/fulltext/09_1069.xml',\n",
       " 'datasets/AUS_dataset/raw/corpus/fulltext/06_430.xml',\n",
       " 'datasets/AUS_dataset/raw/corpus/fulltext/06_1458.xml',\n",
       " 'datasets/AUS_dataset/raw/corpus/fulltext/06_356.xml',\n",
       " 'datasets/AUS_dataset/raw/corpus/fulltext/09_20.xml',\n",
       " 'datasets/AUS_dataset/raw/corpus/fulltext/09_1096.xml',\n",
       " 'datasets/AUS_dataset/raw/corpus/fulltext/08_249.xml',\n",
       " 'datasets/AUS_dataset/raw/corpus/fulltext/09_728.xml',\n",
       " 'datasets/AUS_dataset/raw/corpus/fulltext/09_34.xml',\n",
       " 'datasets/AUS_dataset/raw/corpus/fulltext/07_19.xml',\n",
       " 'datasets/AUS_dataset/raw/corpus/fulltext/08_513.xml',\n",
       " 'datasets/AUS_dataset/raw/corpus/fulltext/09_700.xml',\n",
       " 'datasets/AUS_dataset/raw/corpus/fulltext/07_192.xml',\n",
       " 'datasets/AUS_dataset/raw/corpus/fulltext/08_1900.xml',\n",
       " 'datasets/AUS_dataset/raw/corpus/fulltext/08_1914.xml',\n",
       " 'datasets/AUS_dataset/raw/corpus/fulltext/07_25.xml',\n",
       " 'datasets/AUS_dataset/raw/corpus/fulltext/06_395.xml',\n",
       " 'datasets/AUS_dataset/raw/corpus/fulltext/08_507.xml',\n",
       " 'datasets/AUS_dataset/raw/corpus/fulltext/09_714.xml',\n",
       " 'datasets/AUS_dataset/raw/corpus/fulltext/06_1672.xml',\n",
       " 'datasets/AUS_dataset/raw/corpus/fulltext/08_1525.xml',\n",
       " 'datasets/AUS_dataset/raw/corpus/fulltext/07_1100.xml',\n",
       " 'datasets/AUS_dataset/raw/corpus/fulltext/09_1531.xml',\n",
       " 'datasets/AUS_dataset/raw/corpus/fulltext/06_1114.xml',\n",
       " 'datasets/AUS_dataset/raw/corpus/fulltext/09_1525.xml',\n",
       " 'datasets/AUS_dataset/raw/corpus/fulltext/08_922.xml',\n",
       " 'datasets/AUS_dataset/raw/corpus/fulltext/08_1257.xml',\n",
       " 'datasets/AUS_dataset/raw/corpus/fulltext/08_1531.xml',\n",
       " 'datasets/AUS_dataset/raw/corpus/fulltext/09_1243.xml',\n",
       " 'datasets/AUS_dataset/raw/corpus/fulltext/07_435.xml',\n",
       " 'datasets/AUS_dataset/raw/corpus/fulltext/06_626.xml',\n",
       " 'datasets/AUS_dataset/raw/corpus/fulltext/08_1519.xml',\n",
       " 'datasets/AUS_dataset/raw/corpus/fulltext/06_140.xml',\n",
       " 'datasets/AUS_dataset/raw/corpus/fulltext/07_353.xml',\n",
       " 'datasets/AUS_dataset/raw/corpus/fulltext/06_632.xml',\n",
       " 'datasets/AUS_dataset/raw/corpus/fulltext/09_1294.xml',\n",
       " 'datasets/AUS_dataset/raw/corpus/fulltext/09_258.xml',\n",
       " 'datasets/AUS_dataset/raw/corpus/fulltext/08_1280.xml',\n",
       " 'datasets/AUS_dataset/raw/corpus/fulltext/07_1869.xml',\n",
       " 'datasets/AUS_dataset/raw/corpus/fulltext/08_739.xml',\n",
       " 'datasets/AUS_dataset/raw/corpus/fulltext/09_1280.xml',\n",
       " 'datasets/AUS_dataset/raw/corpus/fulltext/06_815.xml',\n",
       " 'datasets/AUS_dataset/raw/corpus/fulltext/09_264.xml',\n",
       " 'datasets/AUS_dataset/raw/corpus/fulltext/07_1699.xml',\n",
       " 'datasets/AUS_dataset/raw/corpus/fulltext/09_502.xml',\n",
       " 'datasets/AUS_dataset/raw/corpus/fulltext/08_711.xml',\n",
       " 'datasets/AUS_dataset/raw/corpus/fulltext/09_516.xml',\n",
       " 'datasets/AUS_dataset/raw/corpus/fulltext/09_270.xml',\n",
       " 'datasets/AUS_dataset/raw/corpus/fulltext/06_1699.xml',\n",
       " 'datasets/AUS_dataset/raw/corpus/fulltext/06_1706.xml',\n",
       " 'datasets/AUS_dataset/raw/corpus/fulltext/08_1451.xml',\n",
       " 'datasets/AUS_dataset/raw/corpus/fulltext/09_1445.xml',\n",
       " 'datasets/AUS_dataset/raw/corpus/fulltext/09_489.xml',\n",
       " 'datasets/AUS_dataset/raw/corpus/fulltext/06_1074.xml',\n",
       " 'datasets/AUS_dataset/raw/corpus/fulltext/07_569.xml',\n",
       " 'datasets/AUS_dataset/raw/corpus/fulltext/06_1712.xml',\n",
       " 'datasets/AUS_dataset/raw/corpus/fulltext/07_1048.xml',\n",
       " 'datasets/AUS_dataset/raw/corpus/fulltext/06_752.xml',\n",
       " 'datasets/AUS_dataset/raw/corpus/fulltext/09_1479.xml',\n",
       " 'datasets/AUS_dataset/raw/corpus/fulltext/07_233.xml',\n",
       " 'datasets/AUS_dataset/raw/corpus/fulltext/06_1048.xml',\n",
       " 'datasets/AUS_dataset/raw/corpus/fulltext/08_1479.xml',\n",
       " 'datasets/AUS_dataset/raw/corpus/fulltext/08_1492.xml',\n",
       " 'datasets/AUS_dataset/raw/corpus/fulltext/08_659.xml',\n",
       " 'datasets/AUS_dataset/raw/corpus/fulltext/09_1486.xml',\n",
       " 'datasets/AUS_dataset/raw/corpus/fulltext/08_48.xml',\n",
       " 'datasets/AUS_dataset/raw/corpus/fulltext/06_71.xml',\n",
       " 'datasets/AUS_dataset/raw/corpus/fulltext/09_1492.xml',\n",
       " 'datasets/AUS_dataset/raw/corpus/fulltext/08_895.xml',\n",
       " 'datasets/AUS_dataset/raw/corpus/fulltext/09_338.xml',\n",
       " 'datasets/AUS_dataset/raw/corpus/fulltext/08_1486.xml',\n",
       " 'datasets/AUS_dataset/raw/corpus/fulltext/06_961.xml',\n",
       " 'datasets/AUS_dataset/raw/corpus/fulltext/07_582.xml',\n",
       " 'datasets/AUS_dataset/raw/corpus/fulltext/06_949.xml',\n",
       " 'datasets/AUS_dataset/raw/corpus/fulltext/06_59.xml',\n",
       " 'datasets/AUS_dataset/raw/corpus/fulltext/08_74.xml',\n",
       " 'datasets/AUS_dataset/raw/corpus/fulltext/09_476.xml',\n",
       " 'datasets/AUS_dataset/raw/corpus/fulltext/09_462.xml',\n",
       " 'datasets/AUS_dataset/raw/corpus/fulltext/08_60.xml',\n",
       " 'datasets/AUS_dataset/raw/corpus/fulltext/07_1921.xml',\n",
       " 'datasets/AUS_dataset/raw/corpus/fulltext/07_596.xml',\n",
       " 'datasets/AUS_dataset/raw/corpus/fulltext/09_304.xml',\n",
       " 'datasets/AUS_dataset/raw/corpus/fulltext/08_498.xml',\n",
       " 'datasets/AUS_dataset/raw/corpus/fulltext/09_853.xml',\n",
       " 'datasets/AUS_dataset/raw/corpus/fulltext/07_2019.xml',\n",
       " 'datasets/AUS_dataset/raw/corpus/fulltext/08_1135.xml',\n",
       " 'datasets/AUS_dataset/raw/corpus/fulltext/08_1653.xml',\n",
       " 'datasets/AUS_dataset/raw/corpus/fulltext/06_1504.xml',\n",
       " 'datasets/AUS_dataset/raw/corpus/fulltext/09_1121.xml',\n",
       " 'datasets/AUS_dataset/raw/corpus/fulltext/06_1510.xml',\n",
       " 'datasets/AUS_dataset/raw/corpus/fulltext/09_1135.xml',\n",
       " 'datasets/AUS_dataset/raw/corpus/fulltext/07_1504.xml',\n",
       " 'datasets/AUS_dataset/raw/corpus/fulltext/09_847.xml',\n",
       " 'datasets/AUS_dataset/raw/corpus/fulltext/08_1109.xml',\n",
       " 'datasets/AUS_dataset/raw/corpus/fulltext/06_1538.xml',\n",
       " 'datasets/AUS_dataset/raw/corpus/fulltext/07_1538.xml',\n",
       " 'datasets/AUS_dataset/raw/corpus/fulltext/06_222.xml',\n",
       " 'datasets/AUS_dataset/raw/corpus/fulltext/09_890.xml',\n",
       " 'datasets/AUS_dataset/raw/corpus/fulltext/07_964.xml',\n",
       " 'datasets/AUS_dataset/raw/corpus/fulltext/08_1848.xml',\n",
       " 'datasets/AUS_dataset/raw/corpus/fulltext/08_467.xml',\n",
       " 'datasets/AUS_dataset/raw/corpus/fulltext/08_1874.xml',\n",
       " 'datasets/AUS_dataset/raw/corpus/fulltext/08_1860.xml',\n",
       " 'datasets/AUS_dataset/raw/corpus/fulltext/07_794.xml',\n",
       " 'datasets/AUS_dataset/raw/corpus/fulltext/06_587.xml',\n",
       " 'datasets/AUS_dataset/raw/corpus/fulltext/06_1289.xml',\n",
       " 'datasets/AUS_dataset/raw/corpus/fulltext/09_660.xml',\n",
       " 'datasets/AUS_dataset/raw/corpus/fulltext/08_473.xml',\n",
       " 'datasets/AUS_dataset/raw/corpus/fulltext/08_314.xml',\n",
       " 'datasets/AUS_dataset/raw/corpus/fulltext/08_472.xml',\n",
       " 'datasets/AUS_dataset/raw/corpus/fulltext/09_661.xml',\n",
       " 'datasets/AUS_dataset/raw/corpus/fulltext/06_1288.xml',\n",
       " 'datasets/AUS_dataset/raw/corpus/fulltext/08_466.xml',\n",
       " 'datasets/AUS_dataset/raw/corpus/fulltext/09_675.xml',\n",
       " 'datasets/AUS_dataset/raw/corpus/fulltext/09_113.xml',\n",
       " 'datasets/AUS_dataset/raw/corpus/fulltext/08_300.xml',\n",
       " 'datasets/AUS_dataset/raw/corpus/fulltext/06_592.xml',\n",
       " 'datasets/AUS_dataset/raw/corpus/fulltext/07_781.xml',\n",
       " 'datasets/AUS_dataset/raw/corpus/fulltext/07_1288.xml',\n",
       " 'datasets/AUS_dataset/raw/corpus/fulltext/07_959.xml',\n",
       " 'datasets/AUS_dataset/raw/corpus/fulltext/08_1685.xml',\n",
       " 'datasets/AUS_dataset/raw/corpus/fulltext/09_885.xml',\n",
       " 'datasets/AUS_dataset/raw/corpus/fulltext/09_891.xml',\n",
       " 'datasets/AUS_dataset/raw/corpus/fulltext/08_1691.xml',\n",
       " 'datasets/AUS_dataset/raw/corpus/fulltext/08_1849.xml',\n",
       " 'datasets/AUS_dataset/raw/corpus/fulltext/07_965.xml',\n",
       " 'datasets/AUS_dataset/raw/corpus/fulltext/09_1108.xml',\n",
       " 'datasets/AUS_dataset/raw/corpus/fulltext/07_1539.xml',\n",
       " 'datasets/AUS_dataset/raw/corpus/fulltext/07_2024.xml',\n",
       " 'datasets/AUS_dataset/raw/corpus/fulltext/06_551.xml',\n",
       " 'datasets/AUS_dataset/raw/corpus/fulltext/07_742.xml',\n",
       " 'datasets/AUS_dataset/raw/corpus/fulltext/09_1134.xml',\n",
       " 'datasets/AUS_dataset/raw/corpus/fulltext/09_846.xml',\n",
       " 'datasets/AUS_dataset/raw/corpus/fulltext/07_1505.xml',\n",
       " 'datasets/AUS_dataset/raw/corpus/fulltext/06_1263.xml',\n",
       " 'datasets/AUS_dataset/raw/corpus/fulltext/09_852.xml',\n",
       " 'datasets/AUS_dataset/raw/corpus/fulltext/08_499.xml',\n",
       " 'datasets/AUS_dataset/raw/corpus/fulltext/06_1505.xml',\n",
       " 'datasets/AUS_dataset/raw/corpus/fulltext/08_1652.xml',\n",
       " 'datasets/AUS_dataset/raw/corpus/fulltext/08_61.xml',\n",
       " 'datasets/AUS_dataset/raw/corpus/fulltext/08_670.xml',\n",
       " 'datasets/AUS_dataset/raw/corpus/fulltext/08_116.xml',\n",
       " 'datasets/AUS_dataset/raw/corpus/fulltext/09_305.xml',\n",
       " 'datasets/AUS_dataset/raw/corpus/fulltext/07_597.xml',\n",
       " 'datasets/AUS_dataset/raw/corpus/fulltext/06_784.xml',\n",
       " 'datasets/AUS_dataset/raw/corpus/fulltext/06_948.xml',\n",
       " 'datasets/AUS_dataset/raw/corpus/fulltext/07_583.xml',\n",
       " 'datasets/AUS_dataset/raw/corpus/fulltext/06_790.xml',\n",
       " 'datasets/AUS_dataset/raw/corpus/fulltext/09_477.xml',\n",
       " 'datasets/AUS_dataset/raw/corpus/fulltext/08_75.xml',\n",
       " 'datasets/AUS_dataset/raw/corpus/fulltext/06_58.xml',\n",
       " 'datasets/AUS_dataset/raw/corpus/fulltext/09_1493.xml',\n",
       " 'datasets/AUS_dataset/raw/corpus/fulltext/06_70.xml',\n",
       " 'datasets/AUS_dataset/raw/corpus/fulltext/08_1487.xml',\n",
       " 'datasets/AUS_dataset/raw/corpus/fulltext/09_339.xml',\n",
       " 'datasets/AUS_dataset/raw/corpus/fulltext/08_1493.xml',\n",
       " 'datasets/AUS_dataset/raw/corpus/fulltext/08_49.xml',\n",
       " 'datasets/AUS_dataset/raw/corpus/fulltext/09_1487.xml',\n",
       " 'datasets/AUS_dataset/raw/corpus/fulltext/06_1049.xml',\n",
       " 'datasets/AUS_dataset/raw/corpus/fulltext/07_226.xml',\n",
       " 'datasets/AUS_dataset/raw/corpus/fulltext/07_1707.xml',\n",
       " 'datasets/AUS_dataset/raw/corpus/fulltext/06_1075.xml',\n",
       " 'datasets/AUS_dataset/raw/corpus/fulltext/08_857.xml',\n",
       " 'datasets/AUS_dataset/raw/corpus/fulltext/07_1061.xml',\n",
       " 'datasets/AUS_dataset/raw/corpus/fulltext/07_1075.xml',\n",
       " 'datasets/AUS_dataset/raw/corpus/fulltext/06_1707.xml',\n",
       " 'datasets/AUS_dataset/raw/corpus/fulltext/07_1713.xml',\n",
       " 'datasets/AUS_dataset/raw/corpus/fulltext/08_1336.xml',\n",
       " 'datasets/AUS_dataset/raw/corpus/fulltext/07_385.xml',\n",
       " 'datasets/AUS_dataset/raw/corpus/fulltext/06_196.xml',\n",
       " 'datasets/AUS_dataset/raw/corpus/fulltext/09_517.xml',\n",
       " 'datasets/AUS_dataset/raw/corpus/fulltext/06_1698.xml',\n",
       " 'datasets/AUS_dataset/raw/corpus/fulltext/09_271.xml',\n",
       " 'datasets/AUS_dataset/raw/corpus/fulltext/06_828.xml',\n",
       " 'datasets/AUS_dataset/raw/corpus/fulltext/07_391.xml',\n",
       " 'datasets/AUS_dataset/raw/corpus/fulltext/08_738.xml',\n",
       " 'datasets/AUS_dataset/raw/corpus/fulltext/07_1868.xml',\n",
       " 'datasets/AUS_dataset/raw/corpus/fulltext/08_1295.xml',\n",
       " 'datasets/AUS_dataset/raw/corpus/fulltext/06_814.xml',\n",
       " 'datasets/AUS_dataset/raw/corpus/fulltext/09_1281.xml',\n",
       " 'datasets/AUS_dataset/raw/corpus/fulltext/09_1518.xml',\n",
       " 'datasets/AUS_dataset/raw/corpus/fulltext/07_346.xml',\n",
       " 'datasets/AUS_dataset/raw/corpus/fulltext/07_1897.xml',\n",
       " 'datasets/AUS_dataset/raw/corpus/fulltext/07_1129.xml',\n",
       " 'datasets/AUS_dataset/raw/corpus/fulltext/06_633.xml',\n",
       " 'datasets/AUS_dataset/raw/corpus/fulltext/06_627.xml',\n",
       " 'datasets/AUS_dataset/raw/corpus/fulltext/06_1129.xml',\n",
       " 'datasets/AUS_dataset/raw/corpus/fulltext/08_1256.xml',\n",
       " 'datasets/AUS_dataset/raw/corpus/fulltext/07_1673.xml',\n",
       " 'datasets/AUS_dataset/raw/corpus/fulltext/08_923.xml',\n",
       " 'datasets/AUS_dataset/raw/corpus/fulltext/06_1101.xml',\n",
       " 'datasets/AUS_dataset/raw/corpus/fulltext/09_1242.xml',\n",
       " 'datasets/AUS_dataset/raw/corpus/fulltext/06_1667.xml',\n",
       " 'datasets/AUS_dataset/raw/corpus/fulltext/08_1530.xml',\n",
       " 'datasets/AUS_dataset/raw/corpus/fulltext/08_1524.xml',\n",
       " 'datasets/AUS_dataset/raw/corpus/fulltext/06_1115.xml',\n",
       " 'datasets/AUS_dataset/raw/corpus/fulltext/09_1530.xml',\n",
       " 'datasets/AUS_dataset/raw/corpus/fulltext/07_1667.xml',\n",
       " 'datasets/AUS_dataset/raw/corpus/fulltext/08_1915.xml',\n",
       " 'datasets/AUS_dataset/raw/corpus/fulltext/09_715.xml',\n",
       " 'datasets/AUS_dataset/raw/corpus/fulltext/06_394.xml',\n",
       " 'datasets/AUS_dataset/raw/corpus/fulltext/07_30.xml',\n",
       " 'datasets/AUS_dataset/raw/corpus/fulltext/07_193.xml',\n",
       " 'datasets/AUS_dataset/raw/corpus/fulltext/09_701.xml',\n",
       " 'datasets/AUS_dataset/raw/corpus/fulltext/08_274.xml',\n",
       " 'datasets/AUS_dataset/raw/corpus/fulltext/08_1929.xml',\n",
       " 'datasets/AUS_dataset/raw/corpus/fulltext/07_18.xml',\n",
       " 'datasets/AUS_dataset/raw/corpus/fulltext/07_811.xml',\n",
       " 'datasets/AUS_dataset/raw/corpus/fulltext/08_248.xml',\n",
       " 'datasets/AUS_dataset/raw/corpus/fulltext/09_1097.xml',\n",
       " 'datasets/AUS_dataset/raw/corpus/fulltext/06_1459.xml',\n",
       " 'datasets/AUS_dataset/raw/corpus/fulltext/07_622.xml',\n",
       " 'datasets/AUS_dataset/raw/corpus/fulltext/06_431.xml',\n",
       " 'datasets/AUS_dataset/raw/corpus/fulltext/08_1068.xml',\n",
       " 'datasets/AUS_dataset/raw/corpus/fulltext/07_144.xml',\n",
       " 'datasets/AUS_dataset/raw/corpus/fulltext/06_343.xml',\n",
       " 'datasets/AUS_dataset/raw/corpus/fulltext/07_636.xml',\n",
       " 'datasets/AUS_dataset/raw/corpus/fulltext/06_425.xml',\n",
       " 'datasets/AUS_dataset/raw/corpus/fulltext/09_1040.xml',\n",
       " 'datasets/AUS_dataset/raw/corpus/fulltext/06_1303.xml',\n",
       " 'datasets/AUS_dataset/raw/corpus/fulltext/09_932.xml',\n",
       " 'datasets/AUS_dataset/raw/corpus/fulltext/07_178.xml',\n",
       " 'datasets/AUS_dataset/raw/corpus/fulltext/07_1465.xml',\n",
       " 'datasets/AUS_dataset/raw/corpus/fulltext/08_1040.xml',\n",
       " 'datasets/AUS_dataset/raw/corpus/fulltext/06_1317.xml',\n",
       " 'datasets/AUS_dataset/raw/corpus/fulltext/09_1054.xml',\n",
       " 'datasets/AUS_dataset/raw/corpus/fulltext/06_419.xml',\n",
       " 'datasets/AUS_dataset/raw/corpus/fulltext/06_1449.xml',\n",
       " 'datasets/AUS_dataset/raw/corpus/fulltext/07_632.xml',\n",
       " 'datasets/AUS_dataset/raw/corpus/fulltext/06_421.xml',\n",
       " 'datasets/AUS_dataset/raw/corpus/fulltext/08_1078.xml',\n",
       " 'datasets/AUS_dataset/raw/corpus/fulltext/07_1449.xml',\n",
       " 'datasets/AUS_dataset/raw/corpus/fulltext/07_626.xml',\n",
       " 'datasets/AUS_dataset/raw/corpus/fulltext/06_435.xml',\n",
       " 'datasets/AUS_dataset/raw/corpus/fulltext/09_1078.xml',\n",
       " 'datasets/AUS_dataset/raw/corpus/fulltext/09_1050.xml',\n",
       " 'datasets/AUS_dataset/raw/corpus/fulltext/06_1475.xml',\n",
       " 'datasets/AUS_dataset/raw/corpus/fulltext/09_922.xml',\n",
       " 'datasets/AUS_dataset/raw/corpus/fulltext/07_1461.xml',\n",
       " 'datasets/AUS_dataset/raw/corpus/fulltext/09_936.xml',\n",
       " 'datasets/AUS_dataset/raw/corpus/fulltext/06_1307.xml',\n",
       " 'datasets/AUS_dataset/raw/corpus/fulltext/08_1736.xml',\n",
       " 'datasets/AUS_dataset/raw/corpus/fulltext/08_516.xml',\n",
       " 'datasets/AUS_dataset/raw/corpus/fulltext/09_19.xml',\n",
       " 'datasets/AUS_dataset/raw/corpus/fulltext/06_384.xml',\n",
       " 'datasets/AUS_dataset/raw/corpus/fulltext/07_197.xml',\n",
       " 'datasets/AUS_dataset/raw/corpus/fulltext/07_34.xml',\n",
       " 'datasets/AUS_dataset/raw/corpus/fulltext/07_183.xml',\n",
       " 'datasets/AUS_dataset/raw/corpus/fulltext/07_20.xml',\n",
       " 'datasets/AUS_dataset/raw/corpus/fulltext/09_711.xml',\n",
       " 'datasets/AUS_dataset/raw/corpus/fulltext/08_502.xml',\n",
       " 'datasets/AUS_dataset/raw/corpus/fulltext/08_1911.xml',\n",
       " 'datasets/AUS_dataset/raw/corpus/fulltext/07_815.xml',\n",
       " 'datasets/AUS_dataset/raw/corpus/fulltext/08_1939.xml',\n",
       " 'datasets/AUS_dataset/raw/corpus/fulltext/09_25.xml',\n",
       " 'datasets/AUS_dataset/raw/corpus/fulltext/09_1087.xml',\n",
       " 'datasets/AUS_dataset/raw/corpus/fulltext/09_1508.xml',\n",
       " 'datasets/AUS_dataset/raw/corpus/fulltext/06_623.xml',\n",
       " 'datasets/AUS_dataset/raw/corpus/fulltext/07_1139.xml',\n",
       " 'datasets/AUS_dataset/raw/corpus/fulltext/06_637.xml',\n",
       " 'datasets/AUS_dataset/raw/corpus/fulltext/07_424.xml',\n",
       " 'datasets/AUS_dataset/raw/corpus/fulltext/07_1893.xml',\n",
       " 'datasets/AUS_dataset/raw/corpus/fulltext/06_151.xml',\n",
       " 'datasets/AUS_dataset/raw/corpus/fulltext/07_1663.xml',\n",
       " 'datasets/AUS_dataset/raw/corpus/fulltext/08_1534.xml',\n",
       " 'datasets/AUS_dataset/raw/corpus/fulltext/06_1663.xml',\n",
       " 'datasets/AUS_dataset/raw/corpus/fulltext/08_927.xml',\n",
       " 'datasets/AUS_dataset/raw/corpus/fulltext/07_395.xml',\n",
       " 'datasets/AUS_dataset/raw/corpus/fulltext/07_1844.xml',\n",
       " 'datasets/AUS_dataset/raw/corpus/fulltext/08_714.xml',\n",
       " 'datasets/AUS_dataset/raw/corpus/fulltext/09_507.xml',\n",
       " 'datasets/AUS_dataset/raw/corpus/fulltext/09_261.xml',\n",
       " 'datasets/AUS_dataset/raw/corpus/fulltext/06_1688.xml',\n",
       " 'datasets/AUS_dataset/raw/corpus/fulltext/06_838.xml',\n",
       " 'datasets/AUS_dataset/raw/corpus/fulltext/09_513.xml',\n",
       " 'datasets/AUS_dataset/raw/corpus/fulltext/06_192.xml',\n",
       " 'datasets/AUS_dataset/raw/corpus/fulltext/08_1285.xml',\n",
       " 'datasets/AUS_dataset/raw/corpus/fulltext/09_1285.xml',\n",
       " 'datasets/AUS_dataset/raw/corpus/fulltext/09_249.xml',\n",
       " 'datasets/AUS_dataset/raw/corpus/fulltext/06_810.xml',\n",
       " 'datasets/AUS_dataset/raw/corpus/fulltext/07_222.xml',\n",
       " 'datasets/AUS_dataset/raw/corpus/fulltext/07_544.xml',\n",
       " 'datasets/AUS_dataset/raw/corpus/fulltext/06_757.xml',\n",
       " 'datasets/AUS_dataset/raw/corpus/fulltext/07_1059.xml',\n",
       " 'datasets/AUS_dataset/raw/corpus/fulltext/07_550.xml',\n",
       " 'datasets/AUS_dataset/raw/corpus/fulltext/06_743.xml',\n",
       " 'datasets/AUS_dataset/raw/corpus/fulltext/07_236.xml',\n",
       " 'datasets/AUS_dataset/raw/corpus/fulltext/08_1332.xml',\n",
       " 'datasets/AUS_dataset/raw/corpus/fulltext/07_1717.xml',\n",
       " 'datasets/AUS_dataset/raw/corpus/fulltext/06_1703.xml',\n",
       " 'datasets/AUS_dataset/raw/corpus/fulltext/09_1.xml',\n",
       " 'datasets/AUS_dataset/raw/corpus/fulltext/07_578.xml',\n",
       " 'datasets/AUS_dataset/raw/corpus/fulltext/08_1454.xml',\n",
       " 'datasets/AUS_dataset/raw/corpus/fulltext/06_1071.xml',\n",
       " 'datasets/AUS_dataset/raw/corpus/fulltext/09_498.xml',\n",
       " 'datasets/AUS_dataset/raw/corpus/fulltext/07_1703.xml',\n",
       " 'datasets/AUS_dataset/raw/corpus/fulltext/08_71.xml',\n",
       " 'datasets/AUS_dataset/raw/corpus/fulltext/09_315.xml',\n",
       " 'datasets/AUS_dataset/raw/corpus/fulltext/07_587.xml',\n",
       " 'datasets/AUS_dataset/raw/corpus/fulltext/07_593.xml',\n",
       " 'datasets/AUS_dataset/raw/corpus/fulltext/06_780.xml',\n",
       " 'datasets/AUS_dataset/raw/corpus/fulltext/06_958.xml',\n",
       " 'datasets/AUS_dataset/raw/corpus/fulltext/09_467.xml',\n",
       " 'datasets/AUS_dataset/raw/corpus/fulltext/08_65.xml',\n",
       " 'datasets/AUS_dataset/raw/corpus/fulltext/09_1483.xml',\n",
       " 'datasets/AUS_dataset/raw/corpus/fulltext/06_60.xml',\n",
       " 'datasets/AUS_dataset/raw/corpus/fulltext/08_1497.xml',\n",
       " 'datasets/AUS_dataset/raw/corpus/fulltext/06_964.xml',\n",
       " 'datasets/AUS_dataset/raw/corpus/fulltext/06_74.xml',\n",
       " 'datasets/AUS_dataset/raw/corpus/fulltext/07_1918.xml',\n",
       " 'datasets/AUS_dataset/raw/corpus/fulltext/08_59.xml',\n",
       " 'datasets/AUS_dataset/raw/corpus/fulltext/09_1497.xml',\n",
       " 'datasets/AUS_dataset/raw/corpus/fulltext/09_1118.xml',\n",
       " 'datasets/AUS_dataset/raw/corpus/fulltext/06_555.xml',\n",
       " 'datasets/AUS_dataset/raw/corpus/fulltext/07_2020.xml',\n",
       " 'datasets/AUS_dataset/raw/corpus/fulltext/07_2034.xml',\n",
       " 'datasets/AUS_dataset/raw/corpus/fulltext/07_752.xml',\n",
       " 'datasets/AUS_dataset/raw/corpus/fulltext/06_1529.xml',\n",
       " 'datasets/AUS_dataset/raw/corpus/fulltext/08_1656.xml',\n",
       " 'datasets/AUS_dataset/raw/corpus/fulltext/07_1273.xml',\n",
       " 'datasets/AUS_dataset/raw/corpus/fulltext/06_2008.xml',\n",
       " 'datasets/AUS_dataset/raw/corpus/fulltext/09_1124.xml',\n",
       " 'datasets/AUS_dataset/raw/corpus/fulltext/09_856.xml',\n",
       " 'datasets/AUS_dataset/raw/corpus/fulltext/06_1267.xml',\n",
       " 'datasets/AUS_dataset/raw/corpus/fulltext/07_1515.xml',\n",
       " 'datasets/AUS_dataset/raw/corpus/fulltext/08_489.xml',\n",
       " 'datasets/AUS_dataset/raw/corpus/fulltext/07_2008.xml',\n",
       " 'datasets/AUS_dataset/raw/corpus/fulltext/09_842.xml',\n",
       " 'datasets/AUS_dataset/raw/corpus/fulltext/09_1130.xml',\n",
       " 'datasets/AUS_dataset/raw/corpus/fulltext/08_1871.xml',\n",
       " 'datasets/AUS_dataset/raw/corpus/fulltext/09_117.xml',\n",
       " 'datasets/AUS_dataset/raw/corpus/fulltext/08_304.xml',\n",
       " 'datasets/AUS_dataset/raw/corpus/fulltext/06_1298.xml',\n",
       " 'datasets/AUS_dataset/raw/corpus/fulltext/08_476.xml',\n",
       " 'datasets/AUS_dataset/raw/corpus/fulltext/08_1865.xml',\n",
       " 'datasets/AUS_dataset/raw/corpus/fulltext/06_582.xml',\n",
       " 'datasets/AUS_dataset/raw/corpus/fulltext/07_961.xml',\n",
       " 'datasets/AUS_dataset/raw/corpus/fulltext/09_881.xml',\n",
       " 'datasets/AUS_dataset/raw/corpus/fulltext/08_1859.xml',\n",
       " 'datasets/AUS_dataset/raw/corpus/fulltext/07_975.xml',\n",
       " 'datasets/AUS_dataset/raw/corpus/fulltext/08_1681.xml',\n",
       " 'datasets/AUS_dataset/raw/corpus/fulltext/09_658.xml',\n",
       " 'datasets/AUS_dataset/raw/corpus/fulltext/09_880.xml',\n",
       " 'datasets/AUS_dataset/raw/corpus/fulltext/07_974.xml',\n",
       " 'datasets/AUS_dataset/raw/corpus/fulltext/08_1858.xml',\n",
       " 'datasets/AUS_dataset/raw/corpus/fulltext/07_960.xml',\n",
       " 'datasets/AUS_dataset/raw/corpus/fulltext/09_894.xml',\n",
       " 'datasets/AUS_dataset/raw/corpus/fulltext/08_1864.xml',\n",
       " 'datasets/AUS_dataset/raw/corpus/fulltext/08_311.xml',\n",
       " 'datasets/AUS_dataset/raw/corpus/fulltext/08_1870.xml',\n",
       " 'datasets/AUS_dataset/raw/corpus/fulltext/09_670.xml',\n",
       " 'datasets/AUS_dataset/raw/corpus/fulltext/06_1299.xml',\n",
       " 'datasets/AUS_dataset/raw/corpus/fulltext/09_843.xml',\n",
       " 'datasets/AUS_dataset/raw/corpus/fulltext/07_2009.xml',\n",
       " 'datasets/AUS_dataset/raw/corpus/fulltext/08_1125.xml',\n",
       " 'datasets/AUS_dataset/raw/corpus/fulltext/07_1500.xml',\n",
       " 'datasets/AUS_dataset/raw/corpus/fulltext/09_1131.xml',\n",
       " 'datasets/AUS_dataset/raw/corpus/fulltext/06_1514.xml',\n",
       " 'datasets/AUS_dataset/raw/corpus/fulltext/06_1500.xml',\n",
       " 'datasets/AUS_dataset/raw/corpus/fulltext/06_2009.xml',\n",
       " 'datasets/AUS_dataset/raw/corpus/fulltext/08_1657.xml',\n",
       " 'datasets/AUS_dataset/raw/corpus/fulltext/07_1514.xml',\n",
       " 'datasets/AUS_dataset/raw/corpus/fulltext/08_1119.xml',\n",
       " 'datasets/AUS_dataset/raw/corpus/fulltext/07_2035.xml',\n",
       " 'datasets/AUS_dataset/raw/corpus/fulltext/06_540.xml',\n",
       " 'datasets/AUS_dataset/raw/corpus/fulltext/09_1119.xml',\n",
       " 'datasets/AUS_dataset/raw/corpus/fulltext/07_2021.xml',\n",
       " 'datasets/AUS_dataset/raw/corpus/fulltext/06_232.xml',\n",
       " 'datasets/AUS_dataset/raw/corpus/fulltext/07_1528.xml',\n",
       " 'datasets/AUS_dataset/raw/corpus/fulltext/06_965.xml',\n",
       " 'datasets/AUS_dataset/raw/corpus/fulltext/08_1482.xml',\n",
       " 'datasets/AUS_dataset/raw/corpus/fulltext/09_1496.xml',\n",
       " 'datasets/AUS_dataset/raw/corpus/fulltext/08_58.xml',\n",
       " 'datasets/AUS_dataset/raw/corpus/fulltext/06_61.xml',\n",
       " 'datasets/AUS_dataset/raw/corpus/fulltext/09_1482.xml',\n",
       " 'datasets/AUS_dataset/raw/corpus/fulltext/06_781.xml',\n",
       " 'datasets/AUS_dataset/raw/corpus/fulltext/08_64.xml',\n",
       " 'datasets/AUS_dataset/raw/corpus/fulltext/07_1925.xml',\n",
       " 'datasets/AUS_dataset/raw/corpus/fulltext/06_49.xml',\n",
       " 'datasets/AUS_dataset/raw/corpus/fulltext/09_466.xml',\n",
       " 'datasets/AUS_dataset/raw/corpus/fulltext/08_70.xml',\n",
       " 'datasets/AUS_dataset/raw/corpus/fulltext/07_586.xml',\n",
       " 'datasets/AUS_dataset/raw/corpus/fulltext/09_314.xml',\n",
       " 'datasets/AUS_dataset/raw/corpus/fulltext/08_107.xml',\n",
       " 'datasets/AUS_dataset/raw/corpus/fulltext/06_1716.xml',\n",
       " 'datasets/AUS_dataset/raw/corpus/fulltext/08_1441.xml',\n",
       " 'datasets/AUS_dataset/raw/corpus/fulltext/07_1702.xml',\n",
       " 'datasets/AUS_dataset/raw/corpus/fulltext/08_1327.xml',\n",
       " 'datasets/AUS_dataset/raw/corpus/fulltext/09_499.xml',\n",
       " 'datasets/AUS_dataset/raw/corpus/fulltext/06_1070.xml',\n",
       " 'datasets/AUS_dataset/raw/corpus/fulltext/09_1441.xml',\n",
       " 'datasets/AUS_dataset/raw/corpus/fulltext/08_846.xml',\n",
       " 'datasets/AUS_dataset/raw/corpus/fulltext/07_1716.xml',\n",
       " 'datasets/AUS_dataset/raw/corpus/fulltext/08_1455.xml',\n",
       " 'datasets/AUS_dataset/raw/corpus/fulltext/06_1702.xml',\n",
       " 'datasets/AUS_dataset/raw/corpus/fulltext/09_1327.xml',\n",
       " 'datasets/AUS_dataset/raw/corpus/fulltext/07_1058.xml',\n",
       " 'datasets/AUS_dataset/raw/corpus/fulltext/09_1469.xml',\n",
       " 'datasets/AUS_dataset/raw/corpus/fulltext/07_237.xml',\n",
       " 'datasets/AUS_dataset/raw/corpus/fulltext/07_223.xml',\n",
       " 'datasets/AUS_dataset/raw/corpus/fulltext/08_1469.xml',\n",
       " 'datasets/AUS_dataset/raw/corpus/fulltext/07_545.xml',\n",
       " 'datasets/AUS_dataset/raw/corpus/fulltext/06_811.xml',\n",
       " 'datasets/AUS_dataset/raw/corpus/fulltext/09_248.xml',\n",
       " 'datasets/AUS_dataset/raw/corpus/fulltext/09_1284.xml',\n",
       " 'datasets/AUS_dataset/raw/corpus/fulltext/08_1284.xml',\n",
       " 'datasets/AUS_dataset/raw/corpus/fulltext/09_1290.xml',\n",
       " 'datasets/AUS_dataset/raw/corpus/fulltext/06_805.xml',\n",
       " 'datasets/AUS_dataset/raw/corpus/fulltext/09_274.xml',\n",
       " 'datasets/AUS_dataset/raw/corpus/fulltext/08_701.xml',\n",
       " 'datasets/AUS_dataset/raw/corpus/fulltext/07_1845.xml',\n",
       " 'datasets/AUS_dataset/raw/corpus/fulltext/07_394.xml',\n",
       " 'datasets/AUS_dataset/raw/corpus/fulltext/06_1689.xml',\n",
       " 'datasets/AUS_dataset/raw/corpus/fulltext/09_260.xml',\n",
       " 'datasets/AUS_dataset/raw/corpus/fulltext/09_1247.xml',\n",
       " 'datasets/AUS_dataset/raw/corpus/fulltext/08_1535.xml',\n",
       " 'datasets/AUS_dataset/raw/corpus/fulltext/06_1104.xml',\n",
       " 'datasets/AUS_dataset/raw/corpus/fulltext/08_926.xml',\n",
       " 'datasets/AUS_dataset/raw/corpus/fulltext/09_1521.xml',\n",
       " 'datasets/AUS_dataset/raw/corpus/fulltext/06_1110.xml',\n",
       " 'datasets/AUS_dataset/raw/corpus/fulltext/08_932.xml',\n",
       " 'datasets/AUS_dataset/raw/corpus/fulltext/08_1247.xml',\n",
       " 'datasets/AUS_dataset/raw/corpus/fulltext/06_178.xml',\n",
       " 'datasets/AUS_dataset/raw/corpus/fulltext/07_1662.xml',\n",
       " 'datasets/AUS_dataset/raw/corpus/fulltext/07_1104.xml',\n",
       " 'datasets/AUS_dataset/raw/corpus/fulltext/08_1521.xml',\n",
       " 'datasets/AUS_dataset/raw/corpus/fulltext/09_1253.xml',\n",
       " 'datasets/AUS_dataset/raw/corpus/fulltext/07_425.xml',\n",
       " 'datasets/AUS_dataset/raw/corpus/fulltext/06_636.xml',\n",
       " 'datasets/AUS_dataset/raw/corpus/fulltext/08_1509.xml',\n",
       " 'datasets/AUS_dataset/raw/corpus/fulltext/07_1138.xml',\n",
       " 'datasets/AUS_dataset/raw/corpus/fulltext/07_431.xml',\n",
       " 'datasets/AUS_dataset/raw/corpus/fulltext/06_622.xml',\n",
       " 'datasets/AUS_dataset/raw/corpus/fulltext/09_30.xml',\n",
       " 'datasets/AUS_dataset/raw/corpus/fulltext/09_1086.xml',\n",
       " 'datasets/AUS_dataset/raw/corpus/fulltext/07_800.xml',\n",
       " 'datasets/AUS_dataset/raw/corpus/fulltext/08_1938.xml',\n",
       " 'datasets/AUS_dataset/raw/corpus/fulltext/09_1092.xml',\n",
       " 'datasets/AUS_dataset/raw/corpus/fulltext/09_738.xml',\n",
       " 'datasets/AUS_dataset/raw/corpus/fulltext/08_1086.xml',\n",
       " 'datasets/AUS_dataset/raw/corpus/fulltext/08_503.xml',\n",
       " 'datasets/AUS_dataset/raw/corpus/fulltext/09_710.xml',\n",
       " 'datasets/AUS_dataset/raw/corpus/fulltext/07_21.xml',\n",
       " 'datasets/AUS_dataset/raw/corpus/fulltext/07_182.xml',\n",
       " 'datasets/AUS_dataset/raw/corpus/fulltext/08_265.xml',\n",
       " 'datasets/AUS_dataset/raw/corpus/fulltext/07_35.xml',\n",
       " 'datasets/AUS_dataset/raw/corpus/fulltext/06_385.xml',\n",
       " 'datasets/AUS_dataset/raw/corpus/fulltext/09_18.xml',\n",
       " 'datasets/AUS_dataset/raw/corpus/fulltext/09_704.xml',\n",
       " 'datasets/AUS_dataset/raw/corpus/fulltext/08_1051.xml',\n",
       " 'datasets/AUS_dataset/raw/corpus/fulltext/06_408.xml',\n",
       " 'datasets/AUS_dataset/raw/corpus/fulltext/08_1737.xml',\n",
       " 'datasets/AUS_dataset/raw/corpus/fulltext/06_1474.xml',\n",
       " 'datasets/AUS_dataset/raw/corpus/fulltext/09_1051.xml',\n",
       " 'datasets/AUS_dataset/raw/corpus/fulltext/07_1460.xml',\n",
       " 'datasets/AUS_dataset/raw/corpus/fulltext/07_169.xml',\n",
       " 'datasets/AUS_dataset/raw/corpus/fulltext/07_1448.xml',\n",
       " 'datasets/AUS_dataset/raw/corpus/fulltext/06_352.xml',\n",
       " 'datasets/AUS_dataset/raw/corpus/fulltext/06_434.xml',\n",
       " 'datasets/AUS_dataset/raw/corpus/fulltext/06_420.xml',\n",
       " 'datasets/AUS_dataset/raw/corpus/fulltext/06_1448.xml',\n",
       " 'datasets/AUS_dataset/raw/corpus/fulltext/07_155.xml',\n",
       " 'datasets/AUS_dataset/raw/corpus/fulltext/08_1079.xml',\n",
       " 'datasets/AUS_dataset/raw/corpus/fulltext/06_436.xml',\n",
       " 'datasets/AUS_dataset/raw/corpus/fulltext/06_1338.xml',\n",
       " 'datasets/AUS_dataset/raw/corpus/fulltext/06_350.xml',\n",
       " 'datasets/AUS_dataset/raw/corpus/fulltext/07_143.xml',\n",
       " 'datasets/AUS_dataset/raw/corpus/fulltext/07_157.xml',\n",
       " 'datasets/AUS_dataset/raw/corpus/fulltext/07_1338.xml',\n",
       " 'datasets/AUS_dataset/raw/corpus/fulltext/07_631.xml',\n",
       " 'datasets/AUS_dataset/raw/corpus/fulltext/08_298.xml',\n",
       " 'datasets/AUS_dataset/raw/corpus/fulltext/09_1047.xml',\n",
       " 'datasets/AUS_dataset/raw/corpus/fulltext/06_1462.xml',\n",
       " 'datasets/AUS_dataset/raw/corpus/fulltext/08_1735.xml',\n",
       " 'datasets/AUS_dataset/raw/corpus/fulltext/09_935.xml',\n",
       " 'datasets/AUS_dataset/raw/corpus/fulltext/09_921.xml',\n",
       " 'datasets/AUS_dataset/raw/corpus/fulltext/06_378.xml',\n",
       " 'datasets/AUS_dataset/raw/corpus/fulltext/09_1053.xml',\n",
       " 'datasets/AUS_dataset/raw/corpus/fulltext/08_1912.xml',\n",
       " 'datasets/AUS_dataset/raw/corpus/fulltext/07_1489.xml',\n",
       " 'datasets/AUS_dataset/raw/corpus/fulltext/06_393.xml',\n",
       " 'datasets/AUS_dataset/raw/corpus/fulltext/07_23.xml',\n",
       " 'datasets/AUS_dataset/raw/corpus/fulltext/09_712.xml',\n",
       " 'datasets/AUS_dataset/raw/corpus/fulltext/08_501.xml',\n",
       " 'datasets/AUS_dataset/raw/corpus/fulltext/06_387.xml',\n",
       " 'datasets/AUS_dataset/raw/corpus/fulltext/07_37.xml',\n",
       " 'datasets/AUS_dataset/raw/corpus/fulltext/06_1489.xml',\n",
       " 'datasets/AUS_dataset/raw/corpus/fulltext/08_273.xml',\n",
       " 'datasets/AUS_dataset/raw/corpus/fulltext/07_802.xml',\n",
       " 'datasets/AUS_dataset/raw/corpus/fulltext/09_1084.xml',\n",
       " 'datasets/AUS_dataset/raw/corpus/fulltext/09_32.xml',\n",
       " 'datasets/AUS_dataset/raw/corpus/fulltext/08_1090.xml',\n",
       " 'datasets/AUS_dataset/raw/corpus/fulltext/09_26.xml',\n",
       " 'datasets/AUS_dataset/raw/corpus/fulltext/08_529.xml',\n",
       " 'datasets/AUS_dataset/raw/corpus/fulltext/09_1090.xml',\n",
       " 'datasets/AUS_dataset/raw/corpus/fulltext/07_816.xml',\n",
       " 'datasets/AUS_dataset/raw/corpus/fulltext/07_1648.xml',\n",
       " 'datasets/AUS_dataset/raw/corpus/fulltext/06_152.xml',\n",
       " 'datasets/AUS_dataset/raw/corpus/fulltext/07_433.xml',\n",
       " 'datasets/AUS_dataset/raw/corpus/fulltext/06_1648.xml',\n",
       " 'datasets/AUS_dataset/raw/corpus/fulltext/07_355.xml',\n",
       " 'datasets/AUS_dataset/raw/corpus/fulltext/06_146.xml',\n",
       " 'datasets/AUS_dataset/raw/corpus/fulltext/08_1279.xml',\n",
       " 'datasets/AUS_dataset/raw/corpus/fulltext/06_1106.xml',\n",
       " 'datasets/AUS_dataset/raw/corpus/fulltext/07_1674.xml',\n",
       " 'datasets/AUS_dataset/raw/corpus/fulltext/08_1537.xml',\n",
       " 'datasets/AUS_dataset/raw/corpus/fulltext/09_1245.xml',\n",
       " 'datasets/AUS_dataset/raw/corpus/fulltext/08_1523.xml',\n",
       " 'datasets/AUS_dataset/raw/corpus/fulltext/07_1660.xml',\n",
       " 'datasets/AUS_dataset/raw/corpus/fulltext/08_930.xml',\n",
       " 'datasets/AUS_dataset/raw/corpus/fulltext/06_1112.xml',\n",
       " 'datasets/AUS_dataset/raw/corpus/fulltext/08_703.xml',\n",
       " 'datasets/AUS_dataset/raw/corpus/fulltext/09_510.xml',\n",
       " 'datasets/AUS_dataset/raw/corpus/fulltext/07_382.xml',\n",
       " 'datasets/AUS_dataset/raw/corpus/fulltext/06_191.xml',\n",
       " 'datasets/AUS_dataset/raw/corpus/fulltext/09_276.xml',\n",
       " 'datasets/AUS_dataset/raw/corpus/fulltext/09_262.xml',\n",
       " 'datasets/AUS_dataset/raw/corpus/fulltext/07_396.xml',\n",
       " 'datasets/AUS_dataset/raw/corpus/fulltext/07_1847.xml',\n",
       " 'datasets/AUS_dataset/raw/corpus/fulltext/08_717.xml',\n",
       " 'datasets/AUS_dataset/raw/corpus/fulltext/09_504.xml',\n",
       " 'datasets/AUS_dataset/raw/corpus/fulltext/08_1292.xml',\n",
       " 'datasets/AUS_dataset/raw/corpus/fulltext/06_813.xml',\n",
       " 'datasets/AUS_dataset/raw/corpus/fulltext/06_807.xml',\n",
       " 'datasets/AUS_dataset/raw/corpus/fulltext/09_1292.xml',\n",
       " 'datasets/AUS_dataset/raw/corpus/fulltext/09_538.xml',\n",
       " 'datasets/AUS_dataset/raw/corpus/fulltext/06_88.xml',\n",
       " 'datasets/AUS_dataset/raw/corpus/fulltext/06_1728.xml',\n",
       " 'datasets/AUS_dataset/raw/corpus/fulltext/07_553.xml',\n",
       " 'datasets/AUS_dataset/raw/corpus/fulltext/06_740.xml',\n",
       " 'datasets/AUS_dataset/raw/corpus/fulltext/06_754.xml',\n",
       " 'datasets/AUS_dataset/raw/corpus/fulltext/09_1319.xml',\n",
       " 'datasets/AUS_dataset/raw/corpus/fulltext/06_1072.xml',\n",
       " 'datasets/AUS_dataset/raw/corpus/fulltext/09_1457.xml',\n",
       " 'datasets/AUS_dataset/raw/corpus/fulltext/08_688.xml',\n",
       " 'datasets/AUS_dataset/raw/corpus/fulltext/08_99.xml',\n",
       " 'datasets/AUS_dataset/raw/corpus/fulltext/07_209.xml',\n",
       " 'datasets/AUS_dataset/raw/corpus/fulltext/07_1700.xml',\n",
       " 'datasets/AUS_dataset/raw/corpus/fulltext/07_1066.xml',\n",
       " 'datasets/AUS_dataset/raw/corpus/fulltext/08_1443.xml',\n",
       " 'datasets/AUS_dataset/raw/corpus/fulltext/09_1331.xml',\n",
       " 'datasets/AUS_dataset/raw/corpus/fulltext/06_1714.xml',\n",
       " 'datasets/AUS_dataset/raw/corpus/fulltext/09_1325.xml',\n",
       " 'datasets/AUS_dataset/raw/corpus/fulltext/07_1072.xml',\n",
       " 'datasets/AUS_dataset/raw/corpus/fulltext/08_1457.xml',\n",
       " 'datasets/AUS_dataset/raw/corpus/fulltext/06_768.xml',\n",
       " 'datasets/AUS_dataset/raw/corpus/fulltext/07_1714.xml',\n",
       " 'datasets/AUS_dataset/raw/corpus/fulltext/06_1066.xml',\n",
       " 'datasets/AUS_dataset/raw/corpus/fulltext/07_1927.xml',\n",
       " 'datasets/AUS_dataset/raw/corpus/fulltext/08_66.xml',\n",
       " 'datasets/AUS_dataset/raw/corpus/fulltext/06_783.xml',\n",
       " 'datasets/AUS_dataset/raw/corpus/fulltext/09_302.xml',\n",
       " 'datasets/AUS_dataset/raw/corpus/fulltext/08_105.xml',\n",
       " 'datasets/AUS_dataset/raw/corpus/fulltext/09_316.xml',\n",
       " 'datasets/AUS_dataset/raw/corpus/fulltext/06_77.xml',\n",
       " 'datasets/AUS_dataset/raw/corpus/fulltext/09_1494.xml',\n",
       " 'datasets/AUS_dataset/raw/corpus/fulltext/08_1480.xml',\n",
       " 'datasets/AUS_dataset/raw/corpus/fulltext/06_967.xml',\n",
       " 'datasets/AUS_dataset/raw/corpus/fulltext/09_1480.xml',\n",
       " 'datasets/AUS_dataset/raw/corpus/fulltext/06_63.xml',\n",
       " 'datasets/AUS_dataset/raw/corpus/fulltext/06_224.xml',\n",
       " 'datasets/AUS_dataset/raw/corpus/fulltext/06_230.xml',\n",
       " 'datasets/AUS_dataset/raw/corpus/fulltext/08_1669.xml',\n",
       " 'datasets/AUS_dataset/raw/corpus/fulltext/08_1899.xml',\n",
       " 'datasets/AUS_dataset/raw/corpus/fulltext/06_218.xml',\n",
       " 'datasets/AUS_dataset/raw/corpus/fulltext/09_699.xml',\n",
       " 'datasets/AUS_dataset/raw/corpus/fulltext/09_841.xml',\n",
       " 'datasets/AUS_dataset/raw/corpus/fulltext/06_1270.xml',\n",
       " 'datasets/AUS_dataset/raw/corpus/fulltext/06_1264.xml',\n",
       " 'datasets/AUS_dataset/raw/corpus/fulltext/08_1133.xml',\n",
       " 'datasets/AUS_dataset/raw/corpus/fulltext/07_1270.xml',\n",
       " 'datasets/AUS_dataset/raw/corpus/fulltext/09_1127.xml',\n",
       " 'datasets/AUS_dataset/raw/corpus/fulltext/08_313.xml',\n",
       " 'datasets/AUS_dataset/raw/corpus/fulltext/08_1866.xml',\n",
       " 'datasets/AUS_dataset/raw/corpus/fulltext/08_475.xml',\n",
       " 'datasets/AUS_dataset/raw/corpus/fulltext/09_666.xml',\n",
       " 'datasets/AUS_dataset/raw/corpus/fulltext/08_461.xml',\n",
       " 'datasets/AUS_dataset/raw/corpus/fulltext/09_672.xml',\n",
       " 'datasets/AUS_dataset/raw/corpus/fulltext/08_1872.xml',\n",
       " 'datasets/AUS_dataset/raw/corpus/fulltext/08_307.xml',\n",
       " 'datasets/AUS_dataset/raw/corpus/fulltext/09_882.xml',\n",
       " 'datasets/AUS_dataset/raw/corpus/fulltext/08_449.xml',\n",
       " 'datasets/AUS_dataset/raw/corpus/fulltext/07_962.xml',\n",
       " 'datasets/AUS_dataset/raw/corpus/fulltext/09_897.xml',\n",
       " 'datasets/AUS_dataset/raw/corpus/fulltext/07_963.xml',\n",
       " 'datasets/AUS_dataset/raw/corpus/fulltext/09_129.xml',\n",
       " 'datasets/AUS_dataset/raw/corpus/fulltext/08_448.xml',\n",
       " 'datasets/AUS_dataset/raw/corpus/fulltext/09_883.xml',\n",
       " 'datasets/AUS_dataset/raw/corpus/fulltext/09_673.xml',\n",
       " 'datasets/AUS_dataset/raw/corpus/fulltext/08_460.xml',\n",
       " 'datasets/AUS_dataset/raw/corpus/fulltext/08_1867.xml',\n",
       " 'datasets/AUS_dataset/raw/corpus/fulltext/09_667.xml',\n",
       " 'datasets/AUS_dataset/raw/corpus/fulltext/08_474.xml',\n",
       " 'datasets/AUS_dataset/raw/corpus/fulltext/08_1132.xml',\n",
       " 'datasets/AUS_dataset/raw/corpus/fulltext/07_1517.xml',\n",
       " 'datasets/AUS_dataset/raw/corpus/fulltext/06_1265.xml',\n",
       " 'datasets/AUS_dataset/raw/corpus/fulltext/08_1898.xml',\n",
       " 'datasets/AUS_dataset/raw/corpus/fulltext/08_1640.xml',\n",
       " 'datasets/AUS_dataset/raw/corpus/fulltext/09_1132.xml',\n",
       " 'datasets/AUS_dataset/raw/corpus/fulltext/06_1517.xml',\n",
       " 'datasets/AUS_dataset/raw/corpus/fulltext/06_1271.xml',\n",
       " 'datasets/AUS_dataset/raw/corpus/fulltext/09_698.xml',\n",
       " 'datasets/AUS_dataset/raw/corpus/fulltext/08_1126.xml',\n",
       " 'datasets/AUS_dataset/raw/corpus/fulltext/06_219.xml',\n",
       " 'datasets/AUS_dataset/raw/corpus/fulltext/07_1503.xml',\n",
       " 'datasets/AUS_dataset/raw/corpus/fulltext/06_1259.xml',\n",
       " 'datasets/AUS_dataset/raw/corpus/fulltext/09_868.xml',\n",
       " 'datasets/AUS_dataset/raw/corpus/fulltext/07_2022.xml',\n",
       " 'datasets/AUS_dataset/raw/corpus/fulltext/06_231.xml',\n",
       " 'datasets/AUS_dataset/raw/corpus/fulltext/08_1668.xml',\n",
       " 'datasets/AUS_dataset/raw/corpus/fulltext/07_1259.xml',\n",
       " 'datasets/AUS_dataset/raw/corpus/fulltext/06_972.xml',\n",
       " 'datasets/AUS_dataset/raw/corpus/fulltext/08_886.xml',\n",
       " 'datasets/AUS_dataset/raw/corpus/fulltext/09_1481.xml',\n",
       " 'datasets/AUS_dataset/raw/corpus/fulltext/09_1495.xml',\n",
       " 'datasets/AUS_dataset/raw/corpus/fulltext/06_76.xml',\n",
       " 'datasets/AUS_dataset/raw/corpus/fulltext/06_966.xml',\n",
       " 'datasets/AUS_dataset/raw/corpus/fulltext/09_317.xml',\n",
       " 'datasets/AUS_dataset/raw/corpus/fulltext/06_1098.xml',\n",
       " 'datasets/AUS_dataset/raw/corpus/fulltext/08_67.xml',\n",
       " 'datasets/AUS_dataset/raw/corpus/fulltext/09_465.xml',\n",
       " 'datasets/AUS_dataset/raw/corpus/fulltext/07_1098.xml',\n",
       " 'datasets/AUS_dataset/raw/corpus/fulltext/06_782.xml',\n",
       " 'datasets/AUS_dataset/raw/corpus/fulltext/07_591.xml',\n",
       " 'datasets/AUS_dataset/raw/corpus/fulltext/06_769.xml',\n",
       " 'datasets/AUS_dataset/raw/corpus/fulltext/09_1442.xml',\n",
       " 'datasets/AUS_dataset/raw/corpus/fulltext/08_1330.xml',\n",
       " 'datasets/AUS_dataset/raw/corpus/fulltext/07_1701.xml',\n",
       " 'datasets/AUS_dataset/raw/corpus/fulltext/08_689.xml',\n",
       " 'datasets/AUS_dataset/raw/corpus/fulltext/09_1456.xml',\n",
       " 'datasets/AUS_dataset/raw/corpus/fulltext/06_1073.xml',\n",
       " 'datasets/AUS_dataset/raw/corpus/fulltext/09_1330.xml',\n",
       " 'datasets/AUS_dataset/raw/corpus/fulltext/06_755.xml',\n",
       " 'datasets/AUS_dataset/raw/corpus/fulltext/07_546.xml',\n",
       " 'datasets/AUS_dataset/raw/corpus/fulltext/07_220.xml',\n",
       " 'datasets/AUS_dataset/raw/corpus/fulltext/06_89.xml',\n",
       " 'datasets/AUS_dataset/raw/corpus/fulltext/06_741.xml',\n",
       " 'datasets/AUS_dataset/raw/corpus/fulltext/06_999.xml',\n",
       " 'datasets/AUS_dataset/raw/corpus/fulltext/06_1729.xml',\n",
       " 'datasets/AUS_dataset/raw/corpus/fulltext/09_1293.xml',\n",
       " 'datasets/AUS_dataset/raw/corpus/fulltext/09_539.xml',\n",
       " 'datasets/AUS_dataset/raw/corpus/fulltext/08_1293.xml',\n",
       " 'datasets/AUS_dataset/raw/corpus/fulltext/06_812.xml',\n",
       " 'datasets/AUS_dataset/raw/corpus/fulltext/08_716.xml',\n",
       " 'datasets/AUS_dataset/raw/corpus/fulltext/07_397.xml',\n",
       " 'datasets/AUS_dataset/raw/corpus/fulltext/06_190.xml',\n",
       " 'datasets/AUS_dataset/raw/corpus/fulltext/07_383.xml',\n",
       " 'datasets/AUS_dataset/raw/corpus/fulltext/08_702.xml',\n",
       " 'datasets/AUS_dataset/raw/corpus/fulltext/06_1846.xml',\n",
       " 'datasets/AUS_dataset/raw/corpus/fulltext/09_277.xml',\n",
       " 'datasets/AUS_dataset/raw/corpus/fulltext/08_1522.xml',\n",
       " 'datasets/AUS_dataset/raw/corpus/fulltext/09_1250.xml',\n",
       " 'datasets/AUS_dataset/raw/corpus/fulltext/06_1113.xml',\n",
       " 'datasets/AUS_dataset/raw/corpus/fulltext/08_931.xml',\n",
       " 'datasets/AUS_dataset/raw/corpus/fulltext/06_609.xml',\n",
       " 'datasets/AUS_dataset/raw/corpus/fulltext/08_1536.xml',\n",
       " 'datasets/AUS_dataset/raw/corpus/fulltext/08_2017.xml',\n",
       " 'datasets/AUS_dataset/raw/corpus/fulltext/07_1891.xml',\n",
       " 'datasets/AUS_dataset/raw/corpus/fulltext/07_426.xml',\n",
       " 'datasets/AUS_dataset/raw/corpus/fulltext/06_635.xml',\n",
       " 'datasets/AUS_dataset/raw/corpus/fulltext/09_1278.xml',\n",
       " 'datasets/AUS_dataset/raw/corpus/fulltext/08_528.xml',\n",
       " 'datasets/AUS_dataset/raw/corpus/fulltext/08_1085.xml',\n",
       " 'datasets/AUS_dataset/raw/corpus/fulltext/09_1085.xml',\n",
       " 'datasets/AUS_dataset/raw/corpus/fulltext/08_1091.xml',\n",
       " 'datasets/AUS_dataset/raw/corpus/fulltext/09_33.xml',\n",
       " 'datasets/AUS_dataset/raw/corpus/fulltext/07_195.xml',\n",
       " 'datasets/AUS_dataset/raw/corpus/fulltext/07_36.xml',\n",
       " 'datasets/AUS_dataset/raw/corpus/fulltext/06_386.xml',\n",
       " 'datasets/AUS_dataset/raw/corpus/fulltext/08_514.xml',\n",
       " 'datasets/AUS_dataset/raw/corpus/fulltext/08_1913.xml',\n",
       " 'datasets/AUS_dataset/raw/corpus/fulltext/08_500.xml',\n",
       " 'datasets/AUS_dataset/raw/corpus/fulltext/07_22.xml',\n",
       " 'datasets/AUS_dataset/raw/corpus/fulltext/06_392.xml',\n",
       " 'datasets/AUS_dataset/raw/corpus/fulltext/07_1463.xml',\n",
       " 'datasets/AUS_dataset/raw/corpus/fulltext/06_379.xml',\n",
       " 'datasets/AUS_dataset/raw/corpus/fulltext/09_920.xml',\n",
       " 'datasets/AUS_dataset/raw/corpus/fulltext/06_1477.xml',\n",
       " 'datasets/AUS_dataset/raw/corpus/fulltext/09_1052.xml',\n",
       " 'datasets/AUS_dataset/raw/corpus/fulltext/06_1463.xml',\n",
       " 'datasets/AUS_dataset/raw/corpus/fulltext/09_1046.xml',\n",
       " 'datasets/AUS_dataset/raw/corpus/fulltext/08_299.xml',\n",
       " 'datasets/AUS_dataset/raw/corpus/fulltext/06_1305.xml',\n",
       " 'datasets/AUS_dataset/raw/corpus/fulltext/08_1052.xml',\n",
       " 'datasets/AUS_dataset/raw/corpus/fulltext/07_630.xml',\n",
       " 'datasets/AUS_dataset/raw/corpus/fulltext/06_437.xml',\n",
       " 'datasets/AUS_dataset/raw/corpus/fulltext/07_142.xml',\n",
       " 'datasets/AUS_dataset/raw/corpus/fulltext/06_351.xml',\n",
       " 'datasets/AUS_dataset/raw/corpus/fulltext/06_1339.xml',\n",
       " 'datasets/AUS_dataset/raw/corpus/fulltext/09_908.xml',\n",
       " 'datasets/AUS_dataset/raw/corpus/fulltext/07_1376.xml',\n",
       " 'datasets/AUS_dataset/raw/corpus/fulltext/06_1404.xml',\n",
       " 'datasets/AUS_dataset/raw/corpus/fulltext/06_1362.xml',\n",
       " 'datasets/AUS_dataset/raw/corpus/fulltext/09_953.xml',\n",
       " 'datasets/AUS_dataset/raw/corpus/fulltext/08_598.xml',\n",
       " 'datasets/AUS_dataset/raw/corpus/fulltext/07_1410.xml',\n",
       " 'datasets/AUS_dataset/raw/corpus/fulltext/09_97.xml',\n",
       " 'datasets/AUS_dataset/raw/corpus/fulltext/08_1021.xml',\n",
       " 'datasets/AUS_dataset/raw/corpus/fulltext/09_83.xml',\n",
       " 'datasets/AUS_dataset/raw/corpus/fulltext/06_1376.xml',\n",
       " 'datasets/AUS_dataset/raw/corpus/fulltext/06_1410.xml',\n",
       " 'datasets/AUS_dataset/raw/corpus/fulltext/07_1362.xml',\n",
       " 'datasets/AUS_dataset/raw/corpus/fulltext/06_478.xml',\n",
       " 'datasets/AUS_dataset/raw/corpus/fulltext/06_1438.xml',\n",
       " 'datasets/AUS_dataset/raw/corpus/fulltext/06_450.xml',\n",
       " 'datasets/AUS_dataset/raw/corpus/fulltext/07_86.xml',\n",
       " 'datasets/AUS_dataset/raw/corpus/fulltext/06_336.xml',\n",
       " 'datasets/AUS_dataset/raw/corpus/fulltext/08_1009.xml',\n",
       " 'datasets/AUS_dataset/raw/corpus/fulltext/07_92.xml',\n",
       " 'datasets/AUS_dataset/raw/corpus/fulltext/06_322.xml',\n",
       " 'datasets/AUS_dataset/raw/corpus/fulltext/07_1438.xml',\n",
       " 'datasets/AUS_dataset/raw/corpus/fulltext/06_444.xml',\n",
       " 'datasets/AUS_dataset/raw/corpus/fulltext/08_1790.xml',\n",
       " 'datasets/AUS_dataset/raw/corpus/fulltext/08_1948.xml',\n",
       " 'datasets/AUS_dataset/raw/corpus/fulltext/07_864.xml',\n",
       " 'datasets/AUS_dataset/raw/corpus/fulltext/09_54.xml',\n",
       " 'datasets/AUS_dataset/raw/corpus/fulltext/07_79.xml',\n",
       " 'datasets/AUS_dataset/raw/corpus/fulltext/09_984.xml',\n",
       " 'datasets/AUS_dataset/raw/corpus/fulltext/09_40.xml',\n",
       " 'datasets/AUS_dataset/raw/corpus/fulltext/08_1784.xml',\n",
       " 'datasets/AUS_dataset/raw/corpus/fulltext/08_1974.xml',\n",
       " 'datasets/AUS_dataset/raw/corpus/fulltext/07_1389.xml',\n",
       " 'datasets/AUS_dataset/raw/corpus/fulltext/07_858.xml',\n",
       " 'datasets/AUS_dataset/raw/corpus/fulltext/09_774.xml',\n",
       " 'datasets/AUS_dataset/raw/corpus/fulltext/09_68.xml',\n",
       " 'datasets/AUS_dataset/raw/corpus/fulltext/07_45.xml',\n",
       " 'datasets/AUS_dataset/raw/corpus/fulltext/07_51.xml',\n",
       " 'datasets/AUS_dataset/raw/corpus/fulltext/08_573.xml',\n",
       " 'datasets/AUS_dataset/raw/corpus/fulltext/09_760.xml',\n",
       " 'datasets/AUS_dataset/raw/corpus/fulltext/08_215.xml',\n",
       " 'datasets/AUS_dataset/raw/corpus/fulltext/06_487.xml',\n",
       " 'datasets/AUS_dataset/raw/corpus/fulltext/08_1960.xml',\n",
       " 'datasets/AUS_dataset/raw/corpus/fulltext/07_1612.xml',\n",
       " 'datasets/AUS_dataset/raw/corpus/fulltext/08_1237.xml',\n",
       " 'datasets/AUS_dataset/raw/corpus/fulltext/09_1545.xml',\n",
       " 'datasets/AUS_dataset/raw/corpus/fulltext/09_1223.xml',\n",
       " 'datasets/AUS_dataset/raw/corpus/fulltext/08_4.xml',\n",
       " 'datasets/AUS_dataset/raw/corpus/fulltext/08_1551.xml',\n",
       " 'datasets/AUS_dataset/raw/corpus/fulltext/07_1174.xml',\n",
       " 'datasets/AUS_dataset/raw/corpus/fulltext/08_1545.xml',\n",
       " 'datasets/AUS_dataset/raw/corpus/fulltext/06_1612.xml',\n",
       " 'datasets/AUS_dataset/raw/corpus/fulltext/09_1237.xml',\n",
       " 'datasets/AUS_dataset/raw/corpus/fulltext/06_1174.xml',\n",
       " 'datasets/AUS_dataset/raw/corpus/fulltext/07_1606.xml',\n",
       " 'datasets/AUS_dataset/raw/corpus/fulltext/08_1223.xml',\n",
       " 'datasets/AUS_dataset/raw/corpus/fulltext/09_1579.xml',\n",
       " ...]"
      ]
     },
     "execution_count": 8,
     "metadata": {},
     "output_type": "execute_result"
    }
   ],
   "source": [
    "fpaths"
   ]
  },
  {
   "cell_type": "code",
   "execution_count": 9,
   "metadata": {
    "ExecuteTime": {
     "end_time": "2020-12-02T14:28:08.291753Z",
     "start_time": "2020-12-02T14:28:08.289611Z"
    }
   },
   "outputs": [],
   "source": [
    "NUMBER_FILE1=len(fpaths)"
   ]
  },
  {
   "cell_type": "code",
   "execution_count": 13,
   "metadata": {
    "ExecuteTime": {
     "end_time": "2020-12-02T14:29:35.464824Z",
     "start_time": "2020-12-02T14:29:33.270519Z"
    }
   },
   "outputs": [
    {
     "name": "stdout",
     "output_type": "stream",
     "text": [
      "'utf-8' codec can't decode byte 0xe9 in position 39: invalid continuation byte\n",
      "'utf-8' codec can't decode byte 0xe9 in position 86: invalid continuation byte\n",
      "'utf-8' codec can't decode byte 0xf6 in position 36: invalid start byte\n",
      "'utf-8' codec can't decode byte 0xd6 in position 66: invalid continuation byte\n"
     ]
    }
   ],
   "source": [
    "case_collection={}\n",
    "n=0\n",
    "fnames=os.listdir(dir_path)\n",
    "for fname in fnames:\n",
    "    fpath=dir_path+fname\n",
    "    with open(fpath,'r')as file:\n",
    "        try:\n",
    "            doc=file.read()\n",
    "            sentences=re.findall(sentence_pattern, doc)\n",
    "            catchphrases=re.findall(catchphrase_pattern, doc)\n",
    "            case_collection[fname]={}\n",
    "            case_collection[fname][\"sentences\"]=sentences\n",
    "            case_collection[fname][\"catchphrases\"]=catchphrases\n",
    "        except Exception as e:\n",
    "            print(e)\n",
    "            "
   ]
  },
  {
   "cell_type": "code",
   "execution_count": 10,
   "metadata": {
    "ExecuteTime": {
     "end_time": "2020-11-20T15:01:17.541569Z",
     "start_time": "2020-11-20T15:01:17.539081Z"
    }
   },
   "outputs": [],
   "source": [
    "NUMBER_FILE2=len(case_collection.keys())"
   ]
  },
  {
   "cell_type": "code",
   "execution_count": 36,
   "metadata": {
    "ExecuteTime": {
     "end_time": "2020-12-02T14:39:20.397280Z",
     "start_time": "2020-12-02T14:39:20.246411Z"
    }
   },
   "outputs": [],
   "source": [
    "nums_sentence=[]\n",
    "nums_catchphrase=[]\n",
    "for key in case_collection.keys():\n",
    "    case_collection[key][\"num_sentence\"]=len(case_collection[key][\"sentences\"])\n",
    "    case_collection[key][\"num_catchphrase\"]=len(case_collection[key][\"catchphrases\"])\n",
    "    case_collection[key][\"max_sent_length\"]=max([len(sent) for sent in case_collection[key][\"sentences\"]])\n",
    "    case_collection[key][\"max_catch_length\"]=max([len(sent) for sent in case_collection[key][\"catchphrases\"]])\n",
    "    \n",
    "    nums_sentence.append(len(case_collection[key][\"sentences\"]))\n",
    "    nums_catchphrase.append(len(case_collection[key][\"catchphrases\"]))"
   ]
  },
  {
   "cell_type": "code",
   "execution_count": null,
   "metadata": {},
   "outputs": [],
   "source": []
  },
  {
   "cell_type": "code",
   "execution_count": null,
   "metadata": {},
   "outputs": [],
   "source": []
  },
  {
   "cell_type": "code",
   "execution_count": null,
   "metadata": {},
   "outputs": [],
   "source": []
  },
  {
   "cell_type": "code",
   "execution_count": 12,
   "metadata": {
    "ExecuteTime": {
     "end_time": "2020-11-20T15:01:17.655262Z",
     "start_time": "2020-11-20T15:01:17.650893Z"
    }
   },
   "outputs": [],
   "source": [
    "case_collection_1={}\n",
    "for key in case_collection.keys():\n",
    "    if case_collection[key][\"num_sentence\"]<500 and case_collection[key][\"num_sentence\"]>10:\n",
    "        case_collection_1[key]=case_collection[key]"
   ]
  },
  {
   "cell_type": "code",
   "execution_count": 13,
   "metadata": {
    "ExecuteTime": {
     "end_time": "2020-11-20T15:01:17.659049Z",
     "start_time": "2020-11-20T15:01:17.656601Z"
    }
   },
   "outputs": [],
   "source": [
    "NUMBER_FILE3=len(case_collection_1.keys())"
   ]
  },
  {
   "cell_type": "code",
   "execution_count": 14,
   "metadata": {
    "ExecuteTime": {
     "end_time": "2020-11-20T15:01:17.665000Z",
     "start_time": "2020-11-20T15:01:17.660622Z"
    }
   },
   "outputs": [],
   "source": [
    "case_collection_2={}\n",
    "for key in case_collection_1.keys():\n",
    "    if case_collection_1[key][\"num_sentence\"]<500 and case_collection_1[key][\"num_sentence\"]>10:\n",
    "        case_collection_2[key]=case_collection_1[key]"
   ]
  },
  {
   "cell_type": "code",
   "execution_count": 15,
   "metadata": {
    "ExecuteTime": {
     "end_time": "2020-11-20T15:01:17.669055Z",
     "start_time": "2020-11-20T15:01:17.666427Z"
    }
   },
   "outputs": [],
   "source": [
    "NUMBER_FILE4=len(case_collection_2.keys())"
   ]
  },
  {
   "cell_type": "code",
   "execution_count": 16,
   "metadata": {
    "ExecuteTime": {
     "end_time": "2020-11-20T15:01:17.676563Z",
     "start_time": "2020-11-20T15:01:17.671581Z"
    }
   },
   "outputs": [],
   "source": [
    "case_collection_3={}\n",
    "for key in case_collection_2.keys():\n",
    "    if case_collection_2[key][\"num_catchphrase\"]<20 and case_collection_2[key][\"num_sentence\"]>2:\n",
    "        case_collection_3[key]=case_collection_2[key]"
   ]
  },
  {
   "cell_type": "code",
   "execution_count": 17,
   "metadata": {
    "ExecuteTime": {
     "end_time": "2020-11-20T15:01:17.680176Z",
     "start_time": "2020-11-20T15:01:17.678016Z"
    }
   },
   "outputs": [],
   "source": [
    "NUMBER_FILE5=len(case_collection_3.keys())"
   ]
  },
  {
   "cell_type": "code",
   "execution_count": 18,
   "metadata": {
    "ExecuteTime": {
     "end_time": "2020-11-20T15:01:17.686083Z",
     "start_time": "2020-11-20T15:01:17.681560Z"
    }
   },
   "outputs": [],
   "source": [
    "case_collection_4={}\n",
    "for key in case_collection_3.keys():\n",
    "    if case_collection_3[key][\"max_sent_length\"]<1200: \n",
    "        case_collection_4[key]=case_collection_3[key]"
   ]
  },
  {
   "cell_type": "code",
   "execution_count": 19,
   "metadata": {
    "ExecuteTime": {
     "end_time": "2020-11-20T15:01:17.690569Z",
     "start_time": "2020-11-20T15:01:17.687952Z"
    }
   },
   "outputs": [],
   "source": [
    "NUMBER_FILE6=len(case_collection_4.keys())"
   ]
  },
  {
   "cell_type": "code",
   "execution_count": 20,
   "metadata": {
    "ExecuteTime": {
     "end_time": "2020-11-20T15:01:17.699026Z",
     "start_time": "2020-11-20T15:01:17.691932Z"
    }
   },
   "outputs": [
    {
     "data": {
      "text/plain": [
       "0.9002570694087404"
      ]
     },
     "execution_count": 20,
     "metadata": {},
     "output_type": "execute_result"
    }
   ],
   "source": [
    "NUMBER_FILE6/NUMBER_FILE1"
   ]
  },
  {
   "cell_type": "code",
   "execution_count": 21,
   "metadata": {
    "ExecuteTime": {
     "end_time": "2020-11-20T15:01:17.705461Z",
     "start_time": "2020-11-20T15:01:17.700849Z"
    }
   },
   "outputs": [],
   "source": [
    "fname=sorted(list(case_collection_4.keys()))\n",
    "item_to_n=dict(zip(fname,range(len(fname))))\n",
    "n_to_item={v:k for k,v in item_to_n.items()}"
   ]
  },
  {
   "cell_type": "code",
   "execution_count": 22,
   "metadata": {
    "ExecuteTime": {
     "end_time": "2020-11-20T15:01:18.564478Z",
     "start_time": "2020-11-20T15:01:17.707403Z"
    }
   },
   "outputs": [
    {
     "name": "stdout",
     "output_type": "stream",
     "text": [
      "Number of train reviews: 2802 / 2801\n",
      "Number of val reviews: 350 / 350\n",
      "Number of test reviews: 350 / 350\n"
     ]
    }
   ],
   "source": [
    "# Construct splits\n",
    "n=NUMBER_FILE6\n",
    "n_tr, n_val, n_te = int(0.8 * n), int(0.1 * n), int(0.1 * n)\n",
    "cur_n_tr, cur_n_val, cur_n_te = 0, 0, 0\n",
    "split_to_item_to_nreviews = {'train': {}, 'val': {}, 'test': {}}\n",
    "# In descending order of number of reviews per item\n",
    "for i, (item, n) in enumerate(sorted(item_to_n.items())):\n",
    "    # once every ten items, save to val / test if we haven't yet hit the target number\n",
    "    if (i % 10 == 8) and (cur_n_val < n_val):\n",
    "        split = 'val'\n",
    "        cur_n_val += 1\n",
    "    elif (i % 10 == 9) and (cur_n_te < n_te):\n",
    "        split = 'test'\n",
    "        cur_n_te += 1\n",
    "    else:\n",
    "        split = 'train'\n",
    "        cur_n_tr += 1\n",
    "\n",
    "    out_fp = os.path.join(datasetConfig.processed_path, '{}/{}'.format(split, item))\n",
    "    in_fp=os.path.join(datasetConfig.raw_path, '{}'.format(item))\n",
    "    copy_file(in_fp, out_fp, verbose=False)\n",
    "\n",
    "    split_to_item_to_nreviews[split][item] = n\n",
    "print('Number of train reviews: {} / {}'.format(cur_n_tr, n_tr))\n",
    "print('Number of val reviews: {} / {}'.format(cur_n_val, n_val))\n",
    "print('Number of test reviews: {} / {}'.format(cur_n_te, n_te))\n",
    "\n",
    "# This file is used by AmazonPytorchDataset\n",
    "for split, item_to_nreviews in split_to_item_to_nreviews.items():\n",
    "    out_fp = os.path.join(datasetConfig.processed_path, '{}/item-to-nreviews.json'.format(split))\n",
    "    save_file(item_to_nreviews, out_fp)"
   ]
  },
  {
   "cell_type": "code",
   "execution_count": null,
   "metadata": {},
   "outputs": [],
   "source": []
  },
  {
   "cell_type": "code",
   "execution_count": null,
   "metadata": {},
   "outputs": [],
   "source": []
  },
  {
   "cell_type": "code",
   "execution_count": 13,
   "metadata": {
    "ExecuteTime": {
     "end_time": "2020-11-20T15:46:09.330356Z",
     "start_time": "2020-11-20T15:46:09.322569Z"
    }
   },
   "outputs": [],
   "source": [
    "class AUSPytorchDataset():\n",
    "    \"\"\"\n",
    "    Implements Pytorch Dataset\n",
    "    One data point for model is n_docs reviews for one item. When training, we want to have batch_size items and\n",
    "    sample n_docs reviews for each item. If a item has less than n_docs reviews, we sample with replacement\n",
    "    (sampling with replacement as then you'll be summarizing repeated reviews, but this shouldn't happen right now\n",
    "    as only items with a minimum number of reviews is used (50). These items and theiR reviews are selected\n",
    "    in AmazonDataset.save_processed_splits().\n",
    "    \"\"\"\n",
    "    def __init__(self, split=None, n_docs=None,\n",
    "                 subset=None,\n",
    "                 seed=0,\n",
    "                 sample_reviews=True,\n",
    "                 category=None,\n",
    "                 item_max_reviews=None):\n",
    "        \"\"\"\n",
    "        Args:\n",
    "            split: str ('train', val', 'test')\n",
    "            n_docs: int\n",
    "            subset: float (Value in [0.0, 1.0]. If given, then dataset is truncated to subset of the businesses\n",
    "            seed: int (set seed because we will be using np.random.choice to sample reviews if sample_reviews=True)\n",
    "            sample_reviews: boolean\n",
    "                - When True, __getitem_ will sample n_docs reviews for each item. The number of times a item appears\n",
    "                in the dataset is dependent on uniform_items.\n",
    "                - When False, each item will appear math.floor(number of reviews item has / n_docs) times\n",
    "                so that almost every review is seen (with up to n_docs - 1 reviews not seen).\n",
    "                    - Setting False is useful for (a) validation / test, and (b) simply iterating over all the reviews\n",
    "                    (e.g. to build the vocabulary).\n",
    "            item_max_reviews: int (maximum number of reviews a item can have)\n",
    "                - This is used to remove outliers from the data. This is especially important if uniform_items=False,\n",
    "                as there may be a large number of reviews in a training epoch coming from a single item. This also\n",
    "                still matters when uniform_items=True, as items an outlier number of reviews will have reviews\n",
    "                that are never sampled.\n",
    "                - For the Amazon dataset, there are 11,870 items in the training set with at least 50 reviews\n",
    "                no longer than 150 subtokens. The breakdown of the distribution in the training set is:\n",
    "                    Percentile  |  percentile_n_reviews  |  n_items  |  total_revs\n",
    "                    TODO?\n",
    "        \"\"\"\n",
    "        self.split = split\n",
    "        self.subset = subset\n",
    "        self.sample_reviews = sample_reviews\n",
    "\n",
    "        self.ds_conf = DatasetConfig('AUS')\n",
    "\n",
    "        # Set random seed so that choice is always the same across experiments\n",
    "        # Especially necessary for test set (along with shuffle=False in the DataLoader)\n",
    "        np.random.seed(seed)\n",
    "        item_to_nreviews = load_file(\n",
    "            os.path.join(self.ds_conf.processed_path, '{}/item-to-nreviews.json'.format(split)))\n",
    "        self.idx_to_item = {}\n",
    "        \n",
    "        idx = 0\n",
    "        for item, n_reviews in item_to_nreviews.items():\n",
    "            self.idx_to_item[idx] = item\n",
    "            idx += 1\n",
    "\n",
    "\n",
    "#     def __getitem__(self, idx):\n",
    "#             # Map idx to item and load reviews\n",
    "#             item = self.idx_to_item[idx]\n",
    "#             fp = os.path.join(self.ds_conf.processed_path, '{}/{}'.format(self.split, item))\n",
    "#             case_text = load_file(fp)\n",
    "\n",
    "#             # Get reviews from item\n",
    "#             if self.sample_reviews:\n",
    "#                 if len(reviews) < self.n_docs:\n",
    "#                     reviews = np.random.choice(reviews, size=self.n_docs, replace=True)\n",
    "#                 else:\n",
    "#                     reviews = np.random.choice(reviews, size=self.n_docs, replace=False)\n",
    "#             else:\n",
    "#                 start_idx = self.idx_to_item_startidx[idx]\n",
    "#                 reviews = reviews[start_idx:start_idx + self.n_docs]\n",
    "\n",
    "#             return texts, "
   ]
  },
  {
   "cell_type": "code",
   "execution_count": 52,
   "metadata": {
    "ExecuteTime": {
     "end_time": "2020-11-20T16:00:01.193002Z",
     "start_time": "2020-11-20T16:00:01.167970Z"
    }
   },
   "outputs": [],
   "source": [
    "class AUSDataset():\n",
    "    def __init__(self):\n",
    "        self.name = 'AUS'\n",
    "        self.conf = DatasetConfig('AUS')\n",
    "        self.case_collection = None\n",
    "#         self.subwordenc = load_file(self.conf.subwordenc_path)\n",
    "\n",
    "#     @staticmethod\n",
    "    def load_all_reviews(self):\n",
    "        \"\"\"\n",
    "        Returns:\n",
    "            reviews: list of dicts\n",
    "            item_to_reviews: dict, key=str (item id), value=list of dicts\n",
    "        \"\"\"\n",
    "        case_collection={}\n",
    "        n=0\n",
    "        fnames=os.listdir(self.conf.raw_path)\n",
    "        for fname in fnames:\n",
    "            fpath=self.conf.raw_path+fname\n",
    "            try:\n",
    "                case_collection[fname]=load_file(fpath)\n",
    "            except Exception as e:\n",
    "                print(e)\n",
    "\n",
    "        return case_collection,len(fnames)\n",
    "\n",
    "    def get_data_loader(self, split='train', subset=None,\n",
    "                        batch_size=64, shuffle=True, num_workers=4):\n",
    "        \"\"\"\n",
    "        Return iterator over specific split in dataset\n",
    "        \"\"\"\n",
    "        ds = AUSPytorchDataset(split=split, subset=subset)\n",
    "        loader = DataLoader(ds, batch_size=batch_size, shuffle=shuffle, num_workers=num_workers)\n",
    "        return loader\n",
    "\n",
    "    ####################################\n",
    "    #\n",
    "    # One off functions\n",
    "    #\n",
    "    ####################################\n",
    "    def save_processed_splits(self):\n",
    "        \"\"\"\n",
    "        Save train, val, and test splits. Splits are across items (e.g. a item is either in train, val, or test).\n",
    "        Iterates over all reviews in the original dataset. Tries to get close to a 80-10-10 split.\n",
    "        Args:\n",
    "            review_max_len: int (maximum length in subtokens a review can be)\n",
    "            item_min_reviews: int (min number of reviews a item must have)\n",
    "            out_dir: str (path to save splits to, e.g. datasets/amazon_dataset/proccessed/)\n",
    "        \"\"\"\n",
    "        sent_max_len = self.conf.sent_max_len\n",
    "        item_min_sent=self.conf.item_min_sent  \n",
    "        item_max_sent=self.conf.item_max_sent \n",
    "        item_min_catch=self.conf.item_min_catch  \n",
    "        item_max_catch=self.conf.item_max_catch  \n",
    "\n",
    "        print('Saving processed splits')\n",
    "        if self.case_collection is None:\n",
    "            self.case_collection,num_file = self.load_all_reviews()\n",
    "        \n",
    "        case_collection_len=num_file\n",
    "        \n",
    "        for key in self.case_collection.keys():\n",
    "            self.case_collection[key][\"num_sentence\"]=len(self.case_collection[key][\"sentences\"])\n",
    "            self.case_collection[key][\"num_catchphrase\"]=len(self.case_collection[key][\"catchphrases\"])\n",
    "            self.case_collection[key][\"max_sent_length\"]=max([len(sent) for sent in self.case_collection[key][\"sentences\"]])\n",
    "            self.case_collection[key][\"max_catch_length\"]=max([len(sent) for sent in self.case_collection[key][\"catchphrases\"]])\n",
    "    \n",
    "        \n",
    "        print('Filtering case having more than {} sentence or less than {} sentence '.format(item_max_sent,item_min_sent))\n",
    "        case_collection_1={}\n",
    "        for key in self.case_collection.keys():\n",
    "            if self.case_collection[key][\"num_sentence\"]<item_max_sent and self.case_collection[key][\"num_sentence\"]>item_min_sent:\n",
    "                case_collection_1[key]=self.case_collection[key]\n",
    "        case_collection_len_1=len(case_collection_1)\n",
    "        \n",
    "        \n",
    "        print('Filtering case having more than {} catchphrase or less than {} catchphrase '.format(item_max_catch,item_min_catch))\n",
    "        case_collection_2={}\n",
    "        for key in case_collection_1.keys():\n",
    "            if case_collection_1[key][\"num_catchphrase\"]<item_max_catch and case_collection_1[key][\"num_sentence\"]>item_min_catch:\n",
    "                case_collection_2[key]=case_collection_1[key]\n",
    "                \n",
    "        case_collection_len_2=len(case_collection_2)\n",
    "\n",
    "        # # Note: we actually do more filtering in the Pytorch dataset class\n",
    "        print('Filtering case having sentence longer than: {}'.format(sent_max_len))\n",
    "        case_collection_3={}\n",
    "        for key in case_collection_2.keys():\n",
    "            if case_collection_2[key][\"max_sent_length\"]<sent_max_len: \n",
    "                case_collection_3[key]=case_collection_2[key]\n",
    "        \n",
    "        case_collection_len_3=len(case_collection_3)\n",
    "        self.case_collection_len_final=case_collection_len_3\n",
    "\n",
    "        # Calculate target amount of reviews per item\n",
    "        print('Total number of reviews before filtering: {}'.format(case_collection_len))\n",
    "        print('Total number of reviews after filtering: {}'.format(self.case_collection_len_final))\n",
    "\n",
    "\n",
    "        \n",
    "        self.case_collection=case_collection_3\n",
    "        \n",
    "        fname=sorted(list(self.case_collection.keys()))\n",
    "        item_to_n=dict(zip(fname,range(len(fname))))\n",
    "        n_to_item={v:k for k,v in item_to_n.items()}\n",
    "        \n",
    "        # Construct splits\n",
    "        n=self.case_collection_len_final\n",
    "        n_tr, n_val, n_te = int(0.8 * n), int(0.1 * n), int(0.1 * n)\n",
    "        cur_n_tr, cur_n_val, cur_n_te = 0, 0, 0\n",
    "        split_to_item_to_nreviews = {'train': {}, 'val': {}, 'test': {}}\n",
    "        # In descending order of number of reviews per item\n",
    "        for i, (item, n) in enumerate(sorted(item_to_n.items())):\n",
    "            # once every ten items, save to val / test if we haven't yet hit the target number\n",
    "            if (i % 10 == 8) and (cur_n_val < n_val):\n",
    "                split = 'val'\n",
    "                cur_n_val += 1\n",
    "            elif (i % 10 == 9) and (cur_n_te < n_te):\n",
    "                split = 'test'\n",
    "                cur_n_te += 1\n",
    "            else:\n",
    "                split = 'train'\n",
    "                cur_n_tr += 1\n",
    "\n",
    "            out_fp = os.path.join(datasetConfig.processed_path, '{}/{}'.format(split, item))\n",
    "            in_fp=os.path.join(datasetConfig.raw_path, '{}'.format(item))\n",
    "            copy_file(in_fp, out_fp, verbose=False)\n",
    "\n",
    "            split_to_item_to_nreviews[split][item] = n\n",
    "        print('Number of train reviews: {} / {}'.format(cur_n_tr, n_tr))\n",
    "        print('Number of val reviews: {} / {}'.format(cur_n_val, n_val))\n",
    "        print('Number of test reviews: {} / {}'.format(cur_n_te, n_te))\n",
    "\n",
    "        # This file is used by AmazonPytorchDataset\n",
    "        for split, item_to_nreviews in split_to_item_to_nreviews.items():\n",
    "            out_fp = os.path.join(datasetConfig.processed_path, '{}/item-to-nreviews.json'.format(split))\n",
    "            save_file(item_to_nreviews, out_fp)\n"
   ]
  },
  {
   "cell_type": "markdown",
   "metadata": {},
   "source": [
    "## Test"
   ]
  },
  {
   "cell_type": "code",
   "execution_count": 53,
   "metadata": {
    "ExecuteTime": {
     "end_time": "2020-11-20T16:00:02.048411Z",
     "start_time": "2020-11-20T16:00:02.045138Z"
    }
   },
   "outputs": [],
   "source": [
    "ds=AUSDataset()\n",
    "\n",
    "ds.save_processed_splits()"
   ]
  },
  {
   "cell_type": "code",
   "execution_count": 24,
   "metadata": {
    "ExecuteTime": {
     "end_time": "2020-11-20T15:01:19.331883Z",
     "start_time": "2020-11-20T15:01:19.327354Z"
    }
   },
   "outputs": [
    {
     "data": {
      "text/plain": [
       "3502"
      ]
     },
     "execution_count": 24,
     "metadata": {},
     "output_type": "execute_result"
    }
   ],
   "source": [
    "NUMBER_FILE6"
   ]
  },
  {
   "cell_type": "code",
   "execution_count": 208,
   "metadata": {
    "ExecuteTime": {
     "end_time": "2020-11-20T13:32:53.190071Z",
     "start_time": "2020-11-20T13:32:53.184583Z"
    }
   },
   "outputs": [
    {
     "data": {
      "text/plain": [
       "(2801, 350, 350)"
      ]
     },
     "execution_count": 208,
     "metadata": {},
     "output_type": "execute_result"
    }
   ],
   "source": [
    "n_tr,n_val,n_te"
   ]
  },
  {
   "cell_type": "code",
   "execution_count": 204,
   "metadata": {
    "ExecuteTime": {
     "end_time": "2020-11-20T13:32:09.608239Z",
     "start_time": "2020-11-20T13:32:09.603553Z"
    }
   },
   "outputs": [
    {
     "data": {
      "text/plain": [
       "2802"
      ]
     },
     "execution_count": 204,
     "metadata": {},
     "output_type": "execute_result"
    }
   ],
   "source": [
    "len(split_to_item_to_nreviews['train'])"
   ]
  },
  {
   "cell_type": "code",
   "execution_count": 205,
   "metadata": {
    "ExecuteTime": {
     "end_time": "2020-11-20T13:32:10.159019Z",
     "start_time": "2020-11-20T13:32:10.154672Z"
    }
   },
   "outputs": [
    {
     "data": {
      "text/plain": [
       "350"
      ]
     },
     "execution_count": 205,
     "metadata": {},
     "output_type": "execute_result"
    }
   ],
   "source": [
    "len(split_to_item_to_nreviews['test'])"
   ]
  },
  {
   "cell_type": "code",
   "execution_count": 206,
   "metadata": {
    "ExecuteTime": {
     "end_time": "2020-11-20T13:32:10.724197Z",
     "start_time": "2020-11-20T13:32:10.719246Z"
    }
   },
   "outputs": [
    {
     "data": {
      "text/plain": [
       "350"
      ]
     },
     "execution_count": 206,
     "metadata": {},
     "output_type": "execute_result"
    }
   ],
   "source": [
    "len(split_to_item_to_nreviews['val'])"
   ]
  },
  {
   "cell_type": "markdown",
   "metadata": {},
   "source": [
    "## Data analysis"
   ]
  },
  {
   "cell_type": "code",
   "execution_count": 14,
   "metadata": {
    "ExecuteTime": {
     "end_time": "2020-12-02T14:29:48.101195Z",
     "start_time": "2020-12-02T14:29:46.742121Z"
    }
   },
   "outputs": [
    {
     "name": "stdout",
     "output_type": "stream",
     "text": [
      "'utf-8' codec can't decode byte 0xe9 in position 39: invalid continuation byte\n",
      "'utf-8' codec can't decode byte 0xe9 in position 86: invalid continuation byte\n",
      "'utf-8' codec can't decode byte 0xf6 in position 36: invalid start byte\n",
      "'utf-8' codec can't decode byte 0xd6 in position 66: invalid continuation byte\n"
     ]
    }
   ],
   "source": [
    "case_collection={}\n",
    "n=0\n",
    "fnames=os.listdir(dir_path)\n",
    "for fname in fnames:\n",
    "    fpath=dir_path+fname\n",
    "    with open(fpath,'r')as file:\n",
    "        try:\n",
    "            doc=file.read()\n",
    "            sentences=re.findall(sentence_pattern, doc)\n",
    "            catchphrases=re.findall(catchphrase_pattern, doc)\n",
    "            case_collection[fname]={}\n",
    "            case_collection[fname][\"sentences\"]=sentences\n",
    "            case_collection[fname][\"catchphrases\"]=catchphrases\n",
    "        except Exception as e:\n",
    "            print(e)"
   ]
  },
  {
   "cell_type": "code",
   "execution_count": 15,
   "metadata": {
    "ExecuteTime": {
     "end_time": "2020-12-02T14:29:48.910141Z",
     "start_time": "2020-12-02T14:29:48.733515Z"
    }
   },
   "outputs": [],
   "source": [
    "sent_length=[]\n",
    "catch_length=[]\n",
    "for key in case_collection.keys():\n",
    "    sent_length.append([  len(sent)  for sent in case_collection[key][\"sentences\"]])\n",
    "    catch_length.append([  len(sent)  for sent in case_collection[key][\"catchphrases\"]])"
   ]
  },
  {
   "cell_type": "code",
   "execution_count": 16,
   "metadata": {
    "ExecuteTime": {
     "end_time": "2020-12-02T14:29:49.896057Z",
     "start_time": "2020-12-02T14:29:49.866253Z"
    }
   },
   "outputs": [],
   "source": [
    "sent_length_flat=[l for sents in sent_length for l in sents]\n",
    "max_sent_length=[max(sents) for sents in sent_length]\n",
    "catch_length_flat=[l for sents in catch_length for l in sents ]"
   ]
  },
  {
   "cell_type": "code",
   "execution_count": 27,
   "metadata": {
    "ExecuteTime": {
     "end_time": "2020-12-02T14:37:19.601435Z",
     "start_time": "2020-12-02T14:37:18.989531Z"
    }
   },
   "outputs": [
    {
     "data": {
      "image/png": "[encoded data removed]",
      "text/plain": [
       "<Figure size 432x288 with 1 Axes>"
      ]
     },
     "metadata": {
      "needs_background": "light"
     },
     "output_type": "display_data"
    }
   ],
   "source": [
    "sns_plot=sns.histplot(sent_length_flat,bins=30).set_title(\"sentence length dist\")\n",
    "fig = sns_plot.get_figure()\n",
    "savepath=\"./img/sentence_length_dist.png\"\n",
    "if not os.path.exists(savepath):\n",
    "    fig.savefig(savepath)\n",
    "    print(\"fig saved\")"
   ]
  },
  {
   "cell_type": "code",
   "execution_count": 147,
   "metadata": {
    "ExecuteTime": {
     "end_time": "2020-11-20T12:56:24.170458Z",
     "start_time": "2020-11-20T12:56:24.155366Z"
    }
   },
   "outputs": [
    {
     "data": {
      "text/plain": [
       "0.9791559444158517"
      ]
     },
     "execution_count": 147,
     "metadata": {},
     "output_type": "execute_result"
    }
   ],
   "source": [
    "sum(np.array(max_sent_length)<1200)/len(max_sent_length)"
   ]
  },
  {
   "cell_type": "code",
   "execution_count": 46,
   "metadata": {
    "ExecuteTime": {
     "end_time": "2020-12-02T14:40:45.287349Z",
     "start_time": "2020-12-02T14:40:45.108134Z"
    }
   },
   "outputs": [
    {
     "data": {
      "image/png": "[encoded data removed]",
      "text/plain": [
       "<Figure size 432x288 with 1 Axes>"
      ]
     },
     "metadata": {
      "needs_background": "light"
     },
     "output_type": "display_data"
    }
   ],
   "source": [
    "sns_plot=sns.histplot(max_sent_length,bins=30).set_title(\"max_single_sentence_length_dist\")\n",
    "fig = sns_plot.get_figure()\n",
    "savepath=\"./img/max_single_sentence_length_dist.png\"\n",
    "if not os.path.exists(savepath):\n",
    "    fig.savefig(savepath)\n",
    "    print(\"fig saved\")"
   ]
  },
  {
   "cell_type": "code",
   "execution_count": 31,
   "metadata": {
    "ExecuteTime": {
     "end_time": "2020-12-02T14:38:11.040538Z",
     "start_time": "2020-12-02T14:38:10.856675Z"
    }
   },
   "outputs": [
    {
     "data": {
      "image/png": "[encoded data removed]",
      "text/plain": [
       "<Figure size 432x288 with 1 Axes>"
      ]
     },
     "metadata": {
      "needs_background": "light"
     },
     "output_type": "display_data"
    }
   ],
   "source": [
    "sns_plot=sns.histplot(catch_length_flat,bins=30).set_title(\"catchphrase length dist\")\n",
    "fig = sns_plot.get_figure()\n",
    "savepath=\"./img/catchphrase_length_dist.png\"\n",
    "if not os.path.exists(savepath):\n",
    "    fig.savefig(savepath)\n",
    "    print(\"fig saved\")"
   ]
  },
  {
   "cell_type": "code",
   "execution_count": 37,
   "metadata": {
    "ExecuteTime": {
     "end_time": "2020-12-02T14:39:41.613986Z",
     "start_time": "2020-12-02T14:39:41.609875Z"
    }
   },
   "outputs": [],
   "source": [
    "import numpy as np\n",
    "nums_catchphrase=np.array(nums_catchphrase)\n",
    "nums_sentence=np.array(nums_sentence)"
   ]
  },
  {
   "cell_type": "code",
   "execution_count": null,
   "metadata": {},
   "outputs": [],
   "source": []
  },
  {
   "cell_type": "code",
   "execution_count": 38,
   "metadata": {
    "ExecuteTime": {
     "end_time": "2020-12-02T14:39:42.504761Z",
     "start_time": "2020-12-02T14:39:42.500793Z"
    }
   },
   "outputs": [
    {
     "data": {
      "text/plain": [
       "7.986618630983016"
      ]
     },
     "execution_count": 38,
     "metadata": {},
     "output_type": "execute_result"
    }
   ],
   "source": [
    "np.mean(nums_catchphrase)"
   ]
  },
  {
   "cell_type": "code",
   "execution_count": 39,
   "metadata": {
    "ExecuteTime": {
     "end_time": "2020-12-02T14:39:42.932323Z",
     "start_time": "2020-12-02T14:39:42.928921Z"
    }
   },
   "outputs": [
    {
     "data": {
      "text/plain": [
       "175.28769943386516"
      ]
     },
     "execution_count": 39,
     "metadata": {},
     "output_type": "execute_result"
    }
   ],
   "source": [
    "np.mean(nums_sentence)"
   ]
  },
  {
   "cell_type": "code",
   "execution_count": 40,
   "metadata": {
    "ExecuteTime": {
     "end_time": "2020-12-02T14:39:43.410765Z",
     "start_time": "2020-12-02T14:39:43.408405Z"
    }
   },
   "outputs": [],
   "source": [
    "import numpy as np\n",
    "import matplotlib.pyplot as plt\n",
    "import seaborn as sns"
   ]
  },
  {
   "cell_type": "code",
   "execution_count": 43,
   "metadata": {
    "ExecuteTime": {
     "end_time": "2020-12-02T14:40:21.549970Z",
     "start_time": "2020-12-02T14:40:21.374634Z"
    }
   },
   "outputs": [
    {
     "data": {
      "image/png": "[encoded data removed]",
      "text/plain": [
       "<Figure size 432x288 with 1 Axes>"
      ]
     },
     "metadata": {
      "needs_background": "light"
     },
     "output_type": "display_data"
    }
   ],
   "source": [
    "sns_plot=sns.histplot(nums_catchphrase,bins=30).set_title(\"#catchphrase_per_case_dist\")\n",
    "fig = sns_plot.get_figure()\n",
    "savepath=\"./img/#catchphrase_per_case_dist.png\"\n",
    "if not os.path.exists(savepath):\n",
    "    fig.savefig(savepath)\n",
    "    print(\"fig saved\")"
   ]
  },
  {
   "cell_type": "code",
   "execution_count": 50,
   "metadata": {
    "ExecuteTime": {
     "end_time": "2020-12-02T14:42:38.141398Z",
     "start_time": "2020-12-02T14:42:37.846325Z"
    },
    "scrolled": true
   },
   "outputs": [
    {
     "data": {
      "image/png": "[encoded data removed]",
      "text/plain": [
       "<Figure size 432x288 with 1 Axes>"
      ]
     },
     "metadata": {
      "needs_background": "light"
     },
     "output_type": "display_data"
    }
   ],
   "source": [
    "sns_plot=sns.histplot(nums_sentence,bins=100).set_title(\"#sentence per case dist\")\n",
    "fig = sns_plot.get_figure()\n",
    "plt.xlim(0, 2000)\n",
    "savepath=\"./img/#sentence_per_case_dist.png\"\n",
    "if not os.path.exists(savepath):\n",
    "    fig.savefig(savepath)\n",
    "    print(\"fig saved\")"
   ]
  },
  {
   "cell_type": "code",
   "execution_count": 115,
   "metadata": {
    "ExecuteTime": {
     "end_time": "2020-11-20T10:28:01.590973Z",
     "start_time": "2020-11-20T10:28:01.575510Z"
    }
   },
   "outputs": [
    {
     "data": {
      "text/plain": [
       "0.9554812146165723"
      ]
     },
     "execution_count": 115,
     "metadata": {},
     "output_type": "execute_result"
    }
   ],
   "source": [
    "sum((nums_catchphrase<20) & (nums_catchphrase>=2))/len(nums_catchphrase)"
   ]
  },
  {
   "cell_type": "code",
   "execution_count": 112,
   "metadata": {
    "ExecuteTime": {
     "end_time": "2020-11-20T10:17:46.904633Z",
     "start_time": "2020-11-20T10:17:46.886306Z"
    },
    "scrolled": true
   },
   "outputs": [
    {
     "data": {
      "text/plain": [
       "0.9433865156973752"
      ]
     },
     "execution_count": 112,
     "metadata": {},
     "output_type": "execute_result"
    }
   ],
   "source": [
    "sum((nums_sentence<500) & (nums_sentence>=10))/len(nums_sentence)"
   ]
  },
  {
   "cell_type": "code",
   "execution_count": 116,
   "metadata": {
    "ExecuteTime": {
     "end_time": "2020-11-20T11:02:00.613895Z",
     "start_time": "2020-11-20T11:02:00.602987Z"
    }
   },
   "outputs": [
    {
     "data": {
      "text/plain": [
       "3886"
      ]
     },
     "execution_count": 116,
     "metadata": {},
     "output_type": "execute_result"
    }
   ],
   "source": [
    "len(nums_catchphrase)"
   ]
  },
  {
   "cell_type": "markdown",
   "metadata": {},
   "source": [
    "Plot case description length"
   ]
  },
  {
   "cell_type": "code",
   "execution_count": 57,
   "metadata": {
    "ExecuteTime": {
     "end_time": "2020-12-02T14:46:28.530240Z",
     "start_time": "2020-12-02T14:46:28.481370Z"
    }
   },
   "outputs": [],
   "source": [
    "case_descriptions=[]\n",
    "for key in case_collection.keys():\n",
    "    case_descriptions.append(len(\" \".join(case_collection[key][\"sentences\"])))"
   ]
  },
  {
   "cell_type": "code",
   "execution_count": 62,
   "metadata": {
    "ExecuteTime": {
     "end_time": "2020-12-02T14:48:34.088608Z",
     "start_time": "2020-12-02T14:48:34.077167Z"
    }
   },
   "outputs": [
    {
     "data": {
      "text/html": [
       "<div>\n",
       "<style scoped>\n",
       "    .dataframe tbody tr th:only-of-type {\n",
       "        vertical-align: middle;\n",
       "    }\n",
       "\n",
       "    .dataframe tbody tr th {\n",
       "        vertical-align: top;\n",
       "    }\n",
       "\n",
       "    .dataframe thead th {\n",
       "        text-align: right;\n",
       "    }\n",
       "</style>\n",
       "<table border=\"1\" class=\"dataframe\">\n",
       "  <thead>\n",
       "    <tr style=\"text-align: right;\">\n",
       "      <th></th>\n",
       "      <th>case description length</th>\n",
       "    </tr>\n",
       "  </thead>\n",
       "  <tbody>\n",
       "    <tr>\n",
       "      <th>count</th>\n",
       "      <td>3.886000e+03</td>\n",
       "    </tr>\n",
       "    <tr>\n",
       "      <th>mean</th>\n",
       "      <td>2.766677e+04</td>\n",
       "    </tr>\n",
       "    <tr>\n",
       "      <th>std</th>\n",
       "      <td>4.937713e+04</td>\n",
       "    </tr>\n",
       "    <tr>\n",
       "      <th>min</th>\n",
       "      <td>1.420000e+02</td>\n",
       "    </tr>\n",
       "    <tr>\n",
       "      <th>25%</th>\n",
       "      <td>8.921250e+03</td>\n",
       "    </tr>\n",
       "    <tr>\n",
       "      <th>50%</th>\n",
       "      <td>1.659550e+04</td>\n",
       "    </tr>\n",
       "    <tr>\n",
       "      <th>75%</th>\n",
       "      <td>3.122175e+04</td>\n",
       "    </tr>\n",
       "    <tr>\n",
       "      <th>max</th>\n",
       "      <td>1.671482e+06</td>\n",
       "    </tr>\n",
       "  </tbody>\n",
       "</table>\n",
       "</div>"
      ],
      "text/plain": [
       "       case description length\n",
       "count             3.886000e+03\n",
       "mean              2.766677e+04\n",
       "std               4.937713e+04\n",
       "min               1.420000e+02\n",
       "25%               8.921250e+03\n",
       "50%               1.659550e+04\n",
       "75%               3.122175e+04\n",
       "max               1.671482e+06"
      ]
     },
     "execution_count": 62,
     "metadata": {},
     "output_type": "execute_result"
    }
   ],
   "source": [
    "pd.DataFrame(case_descriptions,columns=[\"case description length\"]).describe()"
   ]
  },
  {
   "cell_type": "markdown",
   "metadata": {},
   "source": [
    "# Data Analysis"
   ]
  },
  {
   "cell_type": "code",
   "execution_count": 2,
   "metadata": {
    "ExecuteTime": {
     "end_time": "2020-11-19T14:45:25.075699Z",
     "start_time": "2020-11-19T14:45:24.180455Z"
    }
   },
   "outputs": [],
   "source": [
    "import pandas as pd"
   ]
  },
  {
   "cell_type": "code",
   "execution_count": 7,
   "metadata": {
    "ExecuteTime": {
     "end_time": "2020-11-19T14:46:24.598507Z",
     "start_time": "2020-11-19T14:46:23.899165Z"
    }
   },
   "outputs": [],
   "source": [
    "summ=pd.read_csv(output_fn,sep='\\t',header=None,names=[\"text\",\"summ\"])"
   ]
  },
  {
   "cell_type": "code",
   "execution_count": 8,
   "metadata": {
    "ExecuteTime": {
     "end_time": "2020-11-19T14:46:25.138696Z",
     "start_time": "2020-11-19T14:46:25.133745Z"
    }
   },
   "outputs": [
    {
     "data": {
      "text/plain": [
       "3886"
      ]
     },
     "execution_count": 8,
     "metadata": {},
     "output_type": "execute_result"
    }
   ],
   "source": [
    "len(summ)"
   ]
  },
  {
   "cell_type": "code",
   "execution_count": 21,
   "metadata": {
    "ExecuteTime": {
     "end_time": "2020-11-19T15:01:34.814174Z",
     "start_time": "2020-11-19T15:01:34.799251Z"
    }
   },
   "outputs": [
    {
     "data": {
      "text/plain": [
       "count    3.886000e+03\n",
       "mean     2.766677e+04\n",
       "std      4.937713e+04\n",
       "min      1.420000e+02\n",
       "25%      8.921250e+03\n",
       "50%      1.659550e+04\n",
       "75%      3.122175e+04\n",
       "max      1.671482e+06\n",
       "Name: text, dtype: float64"
      ]
     },
     "execution_count": 21,
     "metadata": {},
     "output_type": "execute_result"
    }
   ],
   "source": [
    "summ[\"text\"].apply(len).describe()"
   ]
  },
  {
   "cell_type": "code",
   "execution_count": 22,
   "metadata": {
    "ExecuteTime": {
     "end_time": "2020-11-19T15:01:43.707555Z",
     "start_time": "2020-11-19T15:01:43.697650Z"
    }
   },
   "outputs": [
    {
     "data": {
      "text/plain": [
       "count    3886.000000\n",
       "mean      438.872105\n",
       "std       405.346827\n",
       "min        14.000000\n",
       "25%       194.000000\n",
       "50%       328.000000\n",
       "75%       557.750000\n",
       "max      6687.000000\n",
       "Name: summ, dtype: float64"
      ]
     },
     "execution_count": 22,
     "metadata": {},
     "output_type": "execute_result"
    }
   ],
   "source": [
    "summ[\"summ\"].apply(len).describecribe()"
   ]
  },
  {
   "cell_type": "code",
   "execution_count": 68,
   "metadata": {
    "ExecuteTime": {
     "end_time": "2020-12-02T15:04:43.246777Z",
     "start_time": "2020-12-02T15:04:43.228839Z"
    }
   },
   "outputs": [],
   "source": [
    "with open(\"/Users/saibo/tmp/vocab.txt\",\"r\") as file:\n",
    "    l=file.read().splitlines()"
   ]
  },
  {
   "cell_type": "code",
   "execution_count": 72,
   "metadata": {
    "ExecuteTime": {
     "end_time": "2020-12-02T15:05:30.475957Z",
     "start_time": "2020-12-02T15:05:30.465227Z"
    }
   },
   "outputs": [],
   "source": [
    "vocab=pd.DataFrame([len(token) for token in l])"
   ]
  },
  {
   "cell_type": "code",
   "execution_count": 73,
   "metadata": {
    "ExecuteTime": {
     "end_time": "2020-12-02T15:05:35.619261Z",
     "start_time": "2020-12-02T15:05:35.602657Z"
    }
   },
   "outputs": [
    {
     "data": {
      "text/html": [
       "<div>\n",
       "<style scoped>\n",
       "    .dataframe tbody tr th:only-of-type {\n",
       "        vertical-align: middle;\n",
       "    }\n",
       "\n",
       "    .dataframe tbody tr th {\n",
       "        vertical-align: top;\n",
       "    }\n",
       "\n",
       "    .dataframe thead th {\n",
       "        text-align: right;\n",
       "    }\n",
       "</style>\n",
       "<table border=\"1\" class=\"dataframe\">\n",
       "  <thead>\n",
       "    <tr style=\"text-align: right;\">\n",
       "      <th></th>\n",
       "      <th>0</th>\n",
       "    </tr>\n",
       "  </thead>\n",
       "  <tbody>\n",
       "    <tr>\n",
       "      <th>count</th>\n",
       "      <td>30522.000000</td>\n",
       "    </tr>\n",
       "    <tr>\n",
       "      <th>mean</th>\n",
       "      <td>6.584955</td>\n",
       "    </tr>\n",
       "    <tr>\n",
       "      <th>std</th>\n",
       "      <td>2.483049</td>\n",
       "    </tr>\n",
       "    <tr>\n",
       "      <th>min</th>\n",
       "      <td>1.000000</td>\n",
       "    </tr>\n",
       "    <tr>\n",
       "      <th>25%</th>\n",
       "      <td>5.000000</td>\n",
       "    </tr>\n",
       "    <tr>\n",
       "      <th>50%</th>\n",
       "      <td>6.000000</td>\n",
       "    </tr>\n",
       "    <tr>\n",
       "      <th>75%</th>\n",
       "      <td>8.000000</td>\n",
       "    </tr>\n",
       "    <tr>\n",
       "      <th>max</th>\n",
       "      <td>18.000000</td>\n",
       "    </tr>\n",
       "  </tbody>\n",
       "</table>\n",
       "</div>"
      ],
      "text/plain": [
       "                  0\n",
       "count  30522.000000\n",
       "mean       6.584955\n",
       "std        2.483049\n",
       "min        1.000000\n",
       "25%        5.000000\n",
       "50%        6.000000\n",
       "75%        8.000000\n",
       "max       18.000000"
      ]
     },
     "execution_count": 73,
     "metadata": {},
     "output_type": "execute_result"
    }
   ],
   "source": [
    "vocab.describe()"
   ]
  },
  {
   "cell_type": "code",
   "execution_count": 74,
   "metadata": {
    "ExecuteTime": {
     "end_time": "2020-12-02T15:05:51.563307Z",
     "start_time": "2020-12-02T15:05:51.557486Z"
    }
   },
   "outputs": [
    {
     "data": {
      "text/plain": [
       "6.0"
      ]
     },
     "execution_count": 74,
     "metadata": {},
     "output_type": "execute_result"
    }
   ],
   "source": [
    "np.median(vocab)"
   ]
  },
  {
   "cell_type": "code",
   "execution_count": null,
   "metadata": {},
   "outputs": [],
   "source": []
  }
 ],
 "metadata": {
  "kernelspec": {
   "display_name": "Python 3",
   "language": "python",
   "name": "python3"
  },
  "language_info": {
   "codemirror_mode": {
    "name": "ipython",
    "version": 3
   },
   "file_extension": ".py",
   "mimetype": "text/x-python",
   "name": "python",
   "nbconvert_exporter": "python",
   "pygments_lexer": "ipython3",
   "version": "3.7.9"
  }
 },
 "nbformat": 4,
 "nbformat_minor": 2
}
