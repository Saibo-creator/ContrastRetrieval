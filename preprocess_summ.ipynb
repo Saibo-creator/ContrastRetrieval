{
 "cells": [
  {
   "cell_type": "code",
   "execution_count": 5,
   "metadata": {
    "ExecuteTime": {
     "end_time": "2020-12-16T20:54:43.545925Z",
     "start_time": "2020-12-16T20:54:42.732588Z"
    }
   },
   "outputs": [],
   "source": [
    "# import xmltodict\n",
    "# import xml.etree.ElementTree as ET\n",
    "from project_settings import ExpConfig, DatasetConfig\n",
    "from utils import copy_file,save_file,load_file,list_all_files\n",
    "import re\n",
    "import os\n",
    "import numpy as np\n",
    "import seaborn as sns\n",
    "import pandas as pd"
   ]
  },
  {
   "cell_type": "code",
   "execution_count": 6,
   "metadata": {
    "ExecuteTime": {
     "end_time": "2020-12-16T20:54:44.104186Z",
     "start_time": "2020-12-16T20:54:44.101449Z"
    }
   },
   "outputs": [],
   "source": [
    "datasetConfig=DatasetConfig(\"AUSmini\")"
   ]
  },
  {
   "cell_type": "code",
   "execution_count": 7,
   "metadata": {
    "ExecuteTime": {
     "end_time": "2020-12-16T20:54:45.981308Z",
     "start_time": "2020-12-16T20:54:45.979280Z"
    }
   },
   "outputs": [],
   "source": [
    "dir_path=datasetConfig.raw_path\n",
    "# output_fn=\"datasets/summarization/summ.tsv\""
   ]
  },
  {
   "cell_type": "code",
   "execution_count": 9,
   "metadata": {
    "ExecuteTime": {
     "end_time": "2020-12-16T20:54:57.363120Z",
     "start_time": "2020-12-16T20:54:57.360316Z"
    }
   },
   "outputs": [],
   "source": [
    "sentence_pattern='<sentence id=\"s[0-9]*\">(.*)</sentence>'\n",
    "catchphrase_pattern='<catchphrase \"id=c[0-9]*\">(.*)</catchphrase>'"
   ]
  },
  {
   "cell_type": "code",
   "execution_count": null,
   "metadata": {},
   "outputs": [],
   "source": []
  },
  {
   "cell_type": "code",
   "execution_count": 10,
   "metadata": {
    "ExecuteTime": {
     "end_time": "2020-12-16T20:54:58.259149Z",
     "start_time": "2020-12-16T20:54:58.255985Z"
    }
   },
   "outputs": [],
   "source": [
    "\n",
    "fpaths=list_all_files(dir_path)\n",
    "\n",
    "# output_tsv(output_fn,fpaths,sentence_pattern,catchphrase_pattern)"
   ]
  },
  {
   "cell_type": "code",
   "execution_count": 11,
   "metadata": {
    "ExecuteTime": {
     "end_time": "2020-12-16T20:54:58.838565Z",
     "start_time": "2020-12-16T20:54:58.831068Z"
    }
   },
   "outputs": [
    {
     "data": {
      "text/plain": [
       "['../datasets/AUSmini_dataset/raw/corpus/fulltext/06_1473.xml',\n",
       " '../datasets/AUSmini_dataset/raw/corpus/fulltext/07_634.xml',\n",
       " '../datasets/AUSmini_dataset/raw/corpus/fulltext/06_396.xml',\n",
       " '../datasets/AUSmini_dataset/raw/corpus/fulltext/06_157.xml',\n",
       " '../datasets/AUSmini_dataset/raw/corpus/fulltext/06_143.xml',\n",
       " '../datasets/AUSmini_dataset/raw/corpus/fulltext/06_66.xml',\n",
       " '../datasets/AUSmini_dataset/raw/corpus/fulltext/06_1275.xml',\n",
       " '../datasets/AUSmini_dataset/raw/corpus/fulltext/06_1261.xml',\n",
       " '../datasets/AUSmini_dataset/raw/corpus/fulltext/07_1512.xml',\n",
       " '../datasets/AUSmini_dataset/raw/corpus/fulltext/06_1274.xml',\n",
       " '../datasets/AUSmini_dataset/raw/corpus/fulltext/06_67.xml',\n",
       " '../datasets/AUSmini_dataset/raw/corpus/fulltext/06_98.xml',\n",
       " '../datasets/AUSmini_dataset/raw/corpus/fulltext/06_195.xml',\n",
       " '../datasets/AUSmini_dataset/raw/corpus/fulltext/09_1533.xml',\n",
       " '../datasets/AUSmini_dataset/raw/corpus/fulltext/06_1670.xml',\n",
       " '../datasets/AUSmini_dataset/raw/corpus/fulltext/06_1102.xml',\n",
       " '../datasets/AUSmini_dataset/raw/corpus/fulltext/06_426.xml',\n",
       " '../datasets/AUSmini_dataset/raw/corpus/fulltext/06_395.xml',\n",
       " '../datasets/AUSmini_dataset/raw/corpus/fulltext/06_626.xml',\n",
       " '../datasets/AUSmini_dataset/raw/corpus/fulltext/06_140.xml',\n",
       " '../datasets/AUSmini_dataset/raw/corpus/fulltext/06_1048.xml',\n",
       " '../datasets/AUSmini_dataset/raw/corpus/fulltext/06_59.xml',\n",
       " '../datasets/AUSmini_dataset/raw/corpus/fulltext/09_304.xml',\n",
       " '../datasets/AUSmini_dataset/raw/corpus/fulltext/06_1510.xml',\n",
       " '../datasets/AUSmini_dataset/raw/corpus/fulltext/06_1049.xml',\n",
       " '../datasets/AUSmini_dataset/raw/corpus/fulltext/06_1707.xml',\n",
       " '../datasets/AUSmini_dataset/raw/corpus/fulltext/09_1518.xml',\n",
       " '../datasets/AUSmini_dataset/raw/corpus/fulltext/06_1115.xml',\n",
       " '../datasets/AUSmini_dataset/raw/corpus/fulltext/06_1303.xml',\n",
       " '../datasets/AUSmini_dataset/raw/corpus/fulltext/06_419.xml',\n",
       " '../datasets/AUSmini_dataset/raw/corpus/fulltext/06_384.xml',\n",
       " '../datasets/AUSmini_dataset/raw/corpus/fulltext/06_192.xml',\n",
       " '../datasets/AUSmini_dataset/raw/corpus/fulltext/09_249.xml',\n",
       " '../datasets/AUSmini_dataset/raw/corpus/fulltext/09_1483.xml',\n",
       " '../datasets/AUSmini_dataset/raw/corpus/fulltext/06_74.xml',\n",
       " '../datasets/AUSmini_dataset/raw/corpus/fulltext/06_555.xml',\n",
       " '../datasets/AUSmini_dataset/raw/corpus/fulltext/.DS_Store',\n",
       " '../datasets/AUSmini_dataset/raw/corpus/fulltext/07_752.xml',\n",
       " '../datasets/AUSmini_dataset/raw/corpus/fulltext/07_1058.xml',\n",
       " '../datasets/AUSmini_dataset/raw/corpus/fulltext/09_1469.xml',\n",
       " '../datasets/AUSmini_dataset/raw/corpus/fulltext/06_811.xml',\n",
       " '../datasets/AUSmini_dataset/raw/corpus/fulltext/06_1689.xml',\n",
       " '../datasets/AUSmini_dataset/raw/corpus/fulltext/09_260.xml',\n",
       " '../datasets/AUSmini_dataset/raw/corpus/fulltext/09_1521.xml',\n",
       " '../datasets/AUSmini_dataset/raw/corpus/fulltext/07_169.xml',\n",
       " '../datasets/AUSmini_dataset/raw/corpus/fulltext/08_1079.xml',\n",
       " '../datasets/AUSmini_dataset/raw/corpus/fulltext/06_1338.xml',\n",
       " '../datasets/AUSmini_dataset/raw/corpus/fulltext/06_1106.xml',\n",
       " '../datasets/AUSmini_dataset/raw/corpus/fulltext/06_191.xml',\n",
       " '../datasets/AUSmini_dataset/raw/corpus/fulltext/06_88.xml',\n",
       " '../datasets/AUSmini_dataset/raw/corpus/fulltext/06_1072.xml',\n",
       " '../datasets/AUSmini_dataset/raw/corpus/fulltext/09_1457.xml',\n",
       " '../datasets/AUSmini_dataset/raw/corpus/fulltext/06_783.xml',\n",
       " '../datasets/AUSmini_dataset/raw/corpus/fulltext/09_1494.xml',\n",
       " '../datasets/AUSmini_dataset/raw/corpus/fulltext/09_1480.xml',\n",
       " '../datasets/AUSmini_dataset/raw/corpus/fulltext/06_63.xml',\n",
       " '../datasets/AUSmini_dataset/raw/corpus/fulltext/06_231.xml',\n",
       " '../datasets/AUSmini_dataset/raw/corpus/fulltext/09_1495.xml',\n",
       " '../datasets/AUSmini_dataset/raw/corpus/fulltext/06_76.xml',\n",
       " '../datasets/AUSmini_dataset/raw/corpus/fulltext/06_1073.xml',\n",
       " '../datasets/AUSmini_dataset/raw/corpus/fulltext/06_89.xml',\n",
       " '../datasets/AUSmini_dataset/raw/corpus/fulltext/06_392.xml',\n",
       " '../datasets/AUSmini_dataset/raw/corpus/fulltext/06_1305.xml',\n",
       " '../datasets/AUSmini_dataset/raw/corpus/fulltext/06_437.xml',\n",
       " '../datasets/AUSmini_dataset/raw/corpus/fulltext/06_1339.xml',\n",
       " '../datasets/AUSmini_dataset/raw/corpus/fulltext/06_1438.xml',\n",
       " '../datasets/AUSmini_dataset/raw/corpus/fulltext/06_450.xml',\n",
       " '../datasets/AUSmini_dataset/raw/corpus/fulltext/06_487.xml',\n",
       " '../datasets/AUSmini_dataset/raw/corpus/fulltext/06_1612.xml',\n",
       " '../datasets/AUSmini_dataset/raw/corpus/fulltext/06_646.xml',\n",
       " '../datasets/AUSmini_dataset/raw/corpus/fulltext/09_199.xml',\n",
       " '../datasets/AUSmini_dataset/raw/corpus/fulltext/06_1216.xml',\n",
       " '../datasets/AUSmini_dataset/raw/corpus/fulltext/06_280.xml',\n",
       " '../datasets/AUSmini_dataset/raw/corpus/fulltext/06_1203.xml',\n",
       " '../datasets/AUSmini_dataset/raw/corpus/fulltext/07_1571.xml',\n",
       " '../datasets/AUSmini_dataset/raw/corpus/fulltext/08_29.xml',\n",
       " '../datasets/AUSmini_dataset/raw/corpus/fulltext/06_733.xml',\n",
       " '../datasets/AUSmini_dataset/raw/corpus/fulltext/06_1015.xml',\n",
       " '../datasets/AUSmini_dataset/raw/corpus/fulltext/06_1820.xml',\n",
       " '../datasets/AUSmini_dataset/raw/corpus/fulltext/06_121.xml',\n",
       " '../datasets/AUSmini_dataset/raw/corpus/fulltext/09_1550.xml',\n",
       " '../datasets/AUSmini_dataset/raw/corpus/fulltext/06_451.xml',\n",
       " '../datasets/AUSmini_dataset/raw/corpus/fulltext/08_1020.xml',\n",
       " '../datasets/AUSmini_dataset/raw/corpus/fulltext/06_1411.xml',\n",
       " '../datasets/AUSmini_dataset/raw/corpus/fulltext/06_1611.xml',\n",
       " '../datasets/AUSmini_dataset/raw/corpus/fulltext/09_1591.xml',\n",
       " '../datasets/AUSmini_dataset/raw/corpus/fulltext/06_8.xml',\n",
       " '../datasets/AUSmini_dataset/raw/corpus/fulltext/06_269.xml',\n",
       " '../datasets/AUSmini_dataset/raw/corpus/fulltext/06_1201.xml',\n",
       " '../datasets/AUSmini_dataset/raw/corpus/fulltext/06_1228.xml',\n",
       " '../datasets/AUSmini_dataset/raw/corpus/fulltext/06_13.xml',\n",
       " '../datasets/AUSmini_dataset/raw/corpus/fulltext/06_693.xml',\n",
       " '../datasets/AUSmini_dataset/raw/corpus/fulltext/06_9.xml',\n",
       " '../datasets/AUSmini_dataset/raw/corpus/fulltext/06_334.xml',\n",
       " '../datasets/AUSmini_dataset/raw/corpus/fulltext/06_330.xml',\n",
       " '../datasets/AUSmini_dataset/raw/corpus/fulltext/06_1370.xml',\n",
       " '../datasets/AUSmini_dataset/raw/corpus/fulltext/06_481.xml',\n",
       " '../datasets/AUSmini_dataset/raw/corpus/fulltext/09_1557.xml',\n",
       " '../datasets/AUSmini_dataset/raw/corpus/fulltext/06_1172.xml',\n",
       " '../datasets/AUSmini_dataset/raw/corpus/fulltext/09_1580.xml',\n",
       " '../datasets/AUSmini_dataset/raw/corpus/fulltext/06_734.xml',\n",
       " '../datasets/AUSmini_dataset/raw/corpus/fulltext/06_1748.xml',\n",
       " '../datasets/AUSmini_dataset/raw/corpus/fulltext/06_907.xml',\n",
       " '../datasets/AUSmini_dataset/raw/corpus/fulltext/07_1946.xml',\n",
       " '../datasets/AUSmini_dataset/raw/corpus/fulltext/09_1595.xml',\n",
       " '../datasets/AUSmini_dataset/raw/corpus/fulltext/06_133.xml',\n",
       " '../datasets/AUSmini_dataset/raw/corpus/fulltext/06_1401.xml',\n",
       " '../datasets/AUSmini_dataset/raw/corpus/fulltext/08_1024.xml',\n",
       " '../datasets/AUSmini_dataset/raw/corpus/fulltext/06_1398.xml',\n",
       " '../datasets/AUSmini_dataset/raw/corpus/fulltext/06_657.xml',\n",
       " '../datasets/AUSmini_dataset/raw/corpus/fulltext/06_1171.xml',\n",
       " '../datasets/AUSmini_dataset/raw/corpus/fulltext/06_14.xml',\n",
       " '../datasets/AUSmini_dataset/raw/corpus/fulltext/06_1575.xml',\n",
       " '../datasets/AUSmini_dataset/raw/corpus/fulltext/06_1561.xml',\n",
       " '../datasets/AUSmini_dataset/raw/corpus/fulltext/06_905.xml',\n",
       " '../datasets/AUSmini_dataset/raw/corpus/fulltext/06_939.xml',\n",
       " '../datasets/AUSmini_dataset/raw/corpus/fulltext/06_722.xml',\n",
       " '../datasets/AUSmini_dataset/raw/corpus/fulltext/09_228.xml',\n",
       " '../datasets/AUSmini_dataset/raw/corpus/fulltext/06_695.xml',\n",
       " '../datasets/AUSmini_dataset/raw/corpus/fulltext/06_118.xml',\n",
       " '../datasets/AUSmini_dataset/raw/corpus/fulltext/06_1170.xml',\n",
       " '../datasets/AUSmini_dataset/raw/corpus/fulltext/09_1541.xml',\n",
       " '../datasets/AUSmini_dataset/raw/corpus/fulltext/06_656.xml',\n",
       " '../datasets/AUSmini_dataset/raw/corpus/fulltext/06_1357.xml',\n",
       " '../datasets/AUSmini_dataset/raw/corpus/fulltext/06_465.xml',\n",
       " '../datasets/AUSmini_dataset/raw/corpus/fulltext/06_1141.xml',\n",
       " '../datasets/AUSmini_dataset/raw/corpus/fulltext/06_129.xml',\n",
       " '../datasets/AUSmini_dataset/raw/corpus/fulltext/06_1021.xml',\n",
       " '../datasets/AUSmini_dataset/raw/corpus/fulltext/06_18.xml',\n",
       " '../datasets/AUSmini_dataset/raw/corpus/fulltext/06_31.xml',\n",
       " '../datasets/AUSmini_dataset/raw/corpus/fulltext/06_706.xml',\n",
       " '../datasets/AUSmini_dataset/raw/corpus/fulltext/06_3.xml',\n",
       " '../datasets/AUSmini_dataset/raw/corpus/fulltext/06_1183.xml',\n",
       " '../datasets/AUSmini_dataset/raw/corpus/fulltext/06_100.xml',\n",
       " '../datasets/AUSmini_dataset/raw/corpus/fulltext/06_128.xml',\n",
       " '../datasets/AUSmini_dataset/raw/corpus/fulltext/06_896.xml',\n",
       " '../datasets/AUSmini_dataset/raw/corpus/fulltext/06_1418.xml',\n",
       " '../datasets/AUSmini_dataset/raw/corpus/fulltext/06_499.xml',\n",
       " '../datasets/AUSmini_dataset/raw/corpus/fulltext/09_1567.xml',\n",
       " '../datasets/AUSmini_dataset/raw/corpus/fulltext/06_1142.xml',\n",
       " '../datasets/AUSmini_dataset/raw/corpus/fulltext/06_102.xml',\n",
       " '../datasets/AUSmini_dataset/raw/corpus/fulltext/06_1.xml',\n",
       " '../datasets/AUSmini_dataset/raw/corpus/fulltext/06_937.xml',\n",
       " '../datasets/AUSmini_dataset/raw/corpus/fulltext/06_1234.xml',\n",
       " '../datasets/AUSmini_dataset/raw/corpus/fulltext/07_1976.xml',\n",
       " '../datasets/AUSmini_dataset/raw/corpus/fulltext/06_1792.xml',\n",
       " '../datasets/AUSmini_dataset/raw/corpus/fulltext/06_26.xml',\n",
       " '../datasets/AUSmini_dataset/raw/corpus/fulltext/06_1751.xml',\n",
       " '../datasets/AUSmini_dataset/raw/corpus/fulltext/09_227.xml',\n",
       " '../datasets/AUSmini_dataset/raw/corpus/fulltext/09_1566.xml',\n",
       " '../datasets/AUSmini_dataset/raw/corpus/fulltext/06_315.xml',\n",
       " '../datasets/AUSmini_dataset/raw/corpus/fulltext/06_1369.xml',\n",
       " '../datasets/AUSmini_dataset/raw/corpus/fulltext/06_1355.xml',\n",
       " '../datasets/AUSmini_dataset/raw/corpus/fulltext/06_463.xml',\n",
       " '../datasets/AUSmini_dataset/raw/corpus/fulltext/06_1386.xml',\n",
       " '../datasets/AUSmini_dataset/raw/corpus/fulltext/06_1147.xml',\n",
       " '../datasets/AUSmini_dataset/raw/corpus/fulltext/06_1184.xml',\n",
       " '../datasets/AUSmini_dataset/raw/corpus/fulltext/06_852.xml',\n",
       " '../datasets/AUSmini_dataset/raw/corpus/fulltext/06_22.xml',\n",
       " '../datasets/AUSmini_dataset/raw/corpus/fulltext/06_36.xml',\n",
       " '../datasets/AUSmini_dataset/raw/corpus/fulltext/06_1543.xml',\n",
       " '../datasets/AUSmini_dataset/raw/corpus/fulltext/06_1542.xml',\n",
       " '../datasets/AUSmini_dataset/raw/corpus/fulltext/06_516.xml',\n",
       " '../datasets/AUSmini_dataset/raw/corpus/fulltext/06_884.xml',\n",
       " '../datasets/AUSmini_dataset/raw/corpus/fulltext/06_1408.xml',\n",
       " '../datasets/AUSmini_dataset/raw/corpus/fulltext/06_1434.xml',\n",
       " '../datasets/AUSmini_dataset/raw/corpus/fulltext/06_1391.xml',\n",
       " '../datasets/AUSmini_dataset/raw/corpus/fulltext/06_110.xml',\n",
       " '../datasets/AUSmini_dataset/raw/corpus/fulltext/09_1575.xml',\n",
       " '../datasets/AUSmini_dataset/raw/corpus/fulltext/06_851.xml',\n",
       " '../datasets/AUSmini_dataset/raw/corpus/fulltext/06_1193.xml',\n",
       " '../datasets/AUSmini_dataset/raw/corpus/fulltext/06_35.xml',\n",
       " '../datasets/AUSmini_dataset/raw/corpus/fulltext/06_21.xml',\n",
       " '../datasets/AUSmini_dataset/raw/corpus/fulltext/06_500.xml',\n",
       " '../datasets/AUSmini_dataset/raw/corpus/fulltext/07_1226.xml',\n",
       " '../datasets/AUSmini_dataset/raw/corpus/fulltext/06_1227.xml',\n",
       " '../datasets/AUSmini_dataset/raw/corpus/fulltext/06_267.xml',\n",
       " '../datasets/AUSmini_dataset/raw/corpus/fulltext/06_34.xml',\n",
       " '../datasets/AUSmini_dataset/raw/corpus/fulltext/06_139.xml',\n",
       " '../datasets/AUSmini_dataset/raw/corpus/fulltext/07_74.xml',\n",
       " '../datasets/AUSmini_dataset/raw/corpus/fulltext/06_1421.xml',\n",
       " '../datasets/AUSmini_dataset/raw/corpus/fulltext/06_406.xml',\n",
       " '../datasets/AUSmini_dataset/raw/corpus/fulltext/06_1644.xml',\n",
       " '../datasets/AUSmini_dataset/raw/corpus/fulltext/06_610.xml',\n",
       " '../datasets/AUSmini_dataset/raw/corpus/fulltext/06_176.xml',\n",
       " '../datasets/AUSmini_dataset/raw/corpus/fulltext/06_162.xml',\n",
       " '../datasets/AUSmini_dataset/raw/corpus/fulltext/06_823.xml',\n",
       " '../datasets/AUSmini_dataset/raw/corpus/fulltext/09_1467.xml',\n",
       " '../datasets/AUSmini_dataset/raw/corpus/fulltext/06_994.xml',\n",
       " '../datasets/AUSmini_dataset/raw/corpus/fulltext/06_1254.xml',\n",
       " '../datasets/AUSmini_dataset/raw/corpus/fulltext/06_228.xml',\n",
       " '../datasets/AUSmini_dataset/raw/corpus/fulltext/06_1255.xml',\n",
       " '../datasets/AUSmini_dataset/raw/corpus/fulltext/06_1080.xml',\n",
       " '../datasets/AUSmini_dataset/raw/corpus/fulltext/06_52.xml',\n",
       " '../datasets/AUSmini_dataset/raw/corpus/fulltext/06_1043.xml',\n",
       " '../datasets/AUSmini_dataset/raw/corpus/fulltext/06_163.xml',\n",
       " '../datasets/AUSmini_dataset/raw/corpus/fulltext/06_1451.xml',\n",
       " '../datasets/AUSmini_dataset/raw/corpus/fulltext/06_1323.xml',\n",
       " '../datasets/AUSmini_dataset/raw/corpus/fulltext/06_1492.xml',\n",
       " '../datasets/AUSmini_dataset/raw/corpus/fulltext/06_1121.xml',\n",
       " '../datasets/AUSmini_dataset/raw/corpus/fulltext/06_87.xml',\n",
       " '../datasets/AUSmini_dataset/raw/corpus/fulltext/06_1069.xml',\n",
       " '../datasets/AUSmini_dataset/raw/corpus/fulltext/06_954.xml',\n",
       " '../datasets/AUSmini_dataset/raw/corpus/fulltext/06_44.xml',\n",
       " '../datasets/AUSmini_dataset/raw/corpus/fulltext/06_50.xml',\n",
       " '../datasets/AUSmini_dataset/raw/corpus/fulltext/08_1114.xml',\n",
       " '../datasets/AUSmini_dataset/raw/corpus/fulltext/06_1243.xml',\n",
       " '../datasets/AUSmini_dataset/raw/corpus/fulltext/06_1519.xml',\n",
       " '../datasets/AUSmini_dataset/raw/corpus/fulltext/06_1242.xml',\n",
       " '../datasets/AUSmini_dataset/raw/corpus/fulltext/06_79.xml',\n",
       " '../datasets/AUSmini_dataset/raw/corpus/fulltext/06_51.xml',\n",
       " '../datasets/AUSmini_dataset/raw/corpus/fulltext/06_1097.xml',\n",
       " '../datasets/AUSmini_dataset/raw/corpus/fulltext/06_45.xml',\n",
       " '../datasets/AUSmini_dataset/raw/corpus/fulltext/06_766.xml',\n",
       " '../datasets/AUSmini_dataset/raw/corpus/fulltext/06_772.xml',\n",
       " '../datasets/AUSmini_dataset/raw/corpus/fulltext/06_92.xml',\n",
       " '../datasets/AUSmini_dataset/raw/corpus/fulltext/06_1120.xml',\n",
       " '../datasets/AUSmini_dataset/raw/corpus/fulltext/09_1505.xml',\n",
       " '../datasets/AUSmini_dataset/raw/corpus/fulltext/06_438.xml',\n",
       " '../datasets/AUSmini_dataset/raw/corpus/fulltext/06_1450.xml',\n",
       " '../datasets/AUSmini_dataset/raw/corpus/fulltext/06_366.xml',\n",
       " '../datasets/AUSmini_dataset/raw/corpus/fulltext/08_1071.xml',\n",
       " '../datasets/AUSmini_dataset/raw/corpus/fulltext/09_283.xml',\n",
       " '../datasets/AUSmini_dataset/raw/corpus/fulltext/06_616.xml',\n",
       " '../datasets/AUSmini_dataset/raw/corpus/fulltext/06_819.xml',\n",
       " '../datasets/AUSmini_dataset/raw/corpus/fulltext/06_82.xml',\n",
       " '../datasets/AUSmini_dataset/raw/corpus/fulltext/08_44.xml',\n",
       " '../datasets/AUSmini_dataset/raw/corpus/fulltext/06_41.xml',\n",
       " '../datasets/AUSmini_dataset/raw/corpus/fulltext/06_574.xml',\n",
       " '../datasets/AUSmini_dataset/raw/corpus/fulltext/06_1291.xml',\n",
       " '../datasets/AUSmini_dataset/raw/corpus/fulltext/06_1247.xml',\n",
       " '../datasets/AUSmini_dataset/raw/corpus/fulltext/06_213.xml',\n",
       " '../datasets/AUSmini_dataset/raw/corpus/fulltext/06_40.xml',\n",
       " '../datasets/AUSmini_dataset/raw/corpus/fulltext/06_171.xml',\n",
       " '../datasets/AUSmini_dataset/raw/corpus/fulltext/09_282.xml',\n",
       " '../datasets/AUSmini_dataset/raw/corpus/fulltext/06_367.xml',\n",
       " '../datasets/AUSmini_dataset/raw/corpus/fulltext/06_403.xml',\n",
       " '../datasets/AUSmini_dataset/raw/corpus/fulltext/06_1325.xml',\n",
       " '../datasets/AUSmini_dataset/raw/corpus/fulltext/06_173.xml',\n",
       " '../datasets/AUSmini_dataset/raw/corpus/fulltext/06_1084.xml',\n",
       " '../datasets/AUSmini_dataset/raw/corpus/fulltext/06_1292.xml',\n",
       " '../datasets/AUSmini_dataset/raw/corpus/fulltext/06_1085.xml',\n",
       " '../datasets/AUSmini_dataset/raw/corpus/fulltext/06_57.xml',\n",
       " '../datasets/AUSmini_dataset/raw/corpus/fulltext/06_94.xml',\n",
       " '../datasets/AUSmini_dataset/raw/corpus/fulltext/06_1708.xml',\n",
       " '../datasets/AUSmini_dataset/raw/corpus/fulltext/09_1503.xml',\n",
       " '../datasets/AUSmini_dataset/raw/corpus/fulltext/06_1640.xml',\n",
       " '../datasets/AUSmini_dataset/raw/corpus/fulltext/06_172.xml']"
      ]
     },
     "execution_count": 11,
     "metadata": {},
     "output_type": "execute_result"
    }
   ],
   "source": [
    "fpaths"
   ]
  },
  {
   "cell_type": "code",
   "execution_count": 12,
   "metadata": {
    "ExecuteTime": {
     "end_time": "2020-12-16T20:54:59.440652Z",
     "start_time": "2020-12-16T20:54:59.437498Z"
    }
   },
   "outputs": [],
   "source": [
    "NUMBER_FILE1=len(fpaths)"
   ]
  },
  {
   "cell_type": "code",
   "execution_count": 13,
   "metadata": {
    "ExecuteTime": {
     "end_time": "2020-12-16T20:55:00.775696Z",
     "start_time": "2020-12-16T20:55:00.609587Z"
    }
   },
   "outputs": [
    {
     "name": "stdout",
     "output_type": "stream",
     "text": [
      "'utf-8' codec can't decode byte 0xe9 in position 39: invalid continuation byte\n",
      "'utf-8' codec can't decode byte 0xf7 in position 79: invalid start byte\n"
     ]
    }
   ],
   "source": [
    "case_collection={}\n",
    "n=0\n",
    "fnames=os.listdir(dir_path)\n",
    "for fname in fnames:\n",
    "    fpath=dir_path+fname\n",
    "    with open(fpath,'r')as file:\n",
    "        try:\n",
    "            doc=file.read()\n",
    "            sentences=re.findall(sentence_pattern, doc)\n",
    "            catchphrases=re.findall(catchphrase_pattern, doc)\n",
    "            case_collection[fname]={}\n",
    "            case_collection[fname][\"sentences\"]=sentences\n",
    "            case_collection[fname][\"catchphrases\"]=catchphrases\n",
    "        except Exception as e:\n",
    "            print(e)\n",
    "            "
   ]
  },
  {
   "cell_type": "code",
   "execution_count": 14,
   "metadata": {
    "ExecuteTime": {
     "end_time": "2020-12-16T20:55:01.310314Z",
     "start_time": "2020-12-16T20:55:01.307502Z"
    }
   },
   "outputs": [],
   "source": [
    "NUMBER_FILE2=len(case_collection.keys())"
   ]
  },
  {
   "cell_type": "code",
   "execution_count": 15,
   "metadata": {
    "ExecuteTime": {
     "end_time": "2020-12-16T20:55:01.981985Z",
     "start_time": "2020-12-16T20:55:01.971779Z"
    }
   },
   "outputs": [],
   "source": [
    "nums_sentence=[]\n",
    "nums_catchphrase=[]\n",
    "for key in case_collection.keys():\n",
    "    case_collection[key][\"num_sentence\"]=len(case_collection[key][\"sentences\"])\n",
    "    case_collection[key][\"num_catchphrase\"]=len(case_collection[key][\"catchphrases\"])\n",
    "    case_collection[key][\"max_sent_length\"]=max([len(sent) for sent in case_collection[key][\"sentences\"]])\n",
    "    case_collection[key][\"max_catch_length\"]=max([len(sent) for sent in case_collection[key][\"catchphrases\"]])\n",
    "    \n",
    "    nums_sentence.append(len(case_collection[key][\"sentences\"]))\n",
    "    nums_catchphrase.append(len(case_collection[key][\"catchphrases\"]))"
   ]
  },
  {
   "cell_type": "code",
   "execution_count": null,
   "metadata": {},
   "outputs": [],
   "source": []
  },
  {
   "cell_type": "code",
   "execution_count": null,
   "metadata": {},
   "outputs": [],
   "source": []
  },
  {
   "cell_type": "code",
   "execution_count": null,
   "metadata": {},
   "outputs": [],
   "source": []
  },
  {
   "cell_type": "code",
   "execution_count": 16,
   "metadata": {
    "ExecuteTime": {
     "end_time": "2020-12-16T20:55:03.578889Z",
     "start_time": "2020-12-16T20:55:03.575073Z"
    }
   },
   "outputs": [],
   "source": [
    "case_collection_1={}\n",
    "for key in case_collection.keys():\n",
    "    if case_collection[key][\"num_sentence\"]<500 and case_collection[key][\"num_sentence\"]>10:\n",
    "        case_collection_1[key]=case_collection[key]"
   ]
  },
  {
   "cell_type": "code",
   "execution_count": 17,
   "metadata": {
    "ExecuteTime": {
     "end_time": "2020-12-16T20:55:04.060027Z",
     "start_time": "2020-12-16T20:55:04.057325Z"
    }
   },
   "outputs": [],
   "source": [
    "NUMBER_FILE3=len(case_collection_1.keys())"
   ]
  },
  {
   "cell_type": "code",
   "execution_count": 18,
   "metadata": {
    "ExecuteTime": {
     "end_time": "2020-12-16T20:55:04.425830Z",
     "start_time": "2020-12-16T20:55:04.422583Z"
    }
   },
   "outputs": [],
   "source": [
    "case_collection_2={}\n",
    "for key in case_collection_1.keys():\n",
    "    if case_collection_1[key][\"num_sentence\"]<500 and case_collection_1[key][\"num_sentence\"]>10:\n",
    "        case_collection_2[key]=case_collection_1[key]"
   ]
  },
  {
   "cell_type": "code",
   "execution_count": 19,
   "metadata": {
    "ExecuteTime": {
     "end_time": "2020-12-16T20:55:04.859907Z",
     "start_time": "2020-12-16T20:55:04.857220Z"
    }
   },
   "outputs": [],
   "source": [
    "NUMBER_FILE4=len(case_collection_2.keys())"
   ]
  },
  {
   "cell_type": "code",
   "execution_count": 20,
   "metadata": {
    "ExecuteTime": {
     "end_time": "2020-12-16T20:55:05.192309Z",
     "start_time": "2020-12-16T20:55:05.189467Z"
    }
   },
   "outputs": [],
   "source": [
    "case_collection_3={}\n",
    "for key in case_collection_2.keys():\n",
    "    if case_collection_2[key][\"num_catchphrase\"]<20 and case_collection_2[key][\"num_sentence\"]>2:\n",
    "        case_collection_3[key]=case_collection_2[key]"
   ]
  },
  {
   "cell_type": "code",
   "execution_count": 21,
   "metadata": {
    "ExecuteTime": {
     "end_time": "2020-12-16T20:55:05.386324Z",
     "start_time": "2020-12-16T20:55:05.383961Z"
    }
   },
   "outputs": [],
   "source": [
    "NUMBER_FILE5=len(case_collection_3.keys())"
   ]
  },
  {
   "cell_type": "code",
   "execution_count": 22,
   "metadata": {
    "ExecuteTime": {
     "end_time": "2020-12-16T20:55:05.555853Z",
     "start_time": "2020-12-16T20:55:05.552846Z"
    }
   },
   "outputs": [],
   "source": [
    "case_collection_4={}\n",
    "for key in case_collection_3.keys():\n",
    "    if case_collection_3[key][\"max_sent_length\"]<1200: \n",
    "        case_collection_4[key]=case_collection_3[key]"
   ]
  },
  {
   "cell_type": "code",
   "execution_count": 23,
   "metadata": {
    "ExecuteTime": {
     "end_time": "2020-12-16T20:55:05.857844Z",
     "start_time": "2020-12-16T20:55:05.855623Z"
    }
   },
   "outputs": [],
   "source": [
    "NUMBER_FILE6=len(case_collection_4.keys())"
   ]
  },
  {
   "cell_type": "code",
   "execution_count": 24,
   "metadata": {
    "ExecuteTime": {
     "end_time": "2020-12-16T20:55:06.177172Z",
     "start_time": "2020-12-16T20:55:06.173392Z"
    }
   },
   "outputs": [
    {
     "data": {
      "text/plain": [
       "0.8991935483870968"
      ]
     },
     "execution_count": 24,
     "metadata": {},
     "output_type": "execute_result"
    }
   ],
   "source": [
    "NUMBER_FILE6/NUMBER_FILE1"
   ]
  },
  {
   "cell_type": "code",
   "execution_count": 25,
   "metadata": {
    "ExecuteTime": {
     "end_time": "2020-12-16T20:55:06.634755Z",
     "start_time": "2020-12-16T20:55:06.631172Z"
    }
   },
   "outputs": [],
   "source": [
    "fname=sorted(list(case_collection_4.keys()))\n",
    "item_to_n=dict(zip(fname,range(len(fname))))\n",
    "n_to_item={v:k for k,v in item_to_n.items()}"
   ]
  },
  {
   "cell_type": "code",
   "execution_count": 30,
   "metadata": {
    "ExecuteTime": {
     "end_time": "2020-12-16T21:03:11.112962Z",
     "start_time": "2020-12-16T21:03:10.956009Z"
    }
   },
   "outputs": [
    {
     "name": "stdout",
     "output_type": "stream",
     "text": [
      "Number of train reviews: 179 / 178\n",
      "Number of val reviews: 22 / 22\n",
      "Number of test reviews: 22 / 22\n"
     ]
    }
   ],
   "source": [
    "# Construct splits\n",
    "n=NUMBER_FILE6\n",
    "n_tr, n_val, n_te = int(0.8 * n), int(0.1 * n), int(0.1 * n)\n",
    "cur_n_tr, cur_n_val, cur_n_te = 0, 0, 0\n",
    "split_to_item_to_nreviews = {'train': {}, 'val': {}, 'test': {}}\n",
    "# In descending order of number of reviews per item\n",
    "for i, (item, n) in enumerate(sorted(item_to_n.items())):\n",
    "    # once every ten items, save to val / test if we haven't yet hit the target number\n",
    "    if (i % 10 == 8) and (cur_n_val < n_val):\n",
    "        split = 'val'\n",
    "        cur_n_val += 1\n",
    "    elif (i % 10 == 9) and (cur_n_te < n_te):\n",
    "        split = 'test'\n",
    "        cur_n_te += 1\n",
    "    else:\n",
    "        split = 'train'\n",
    "        cur_n_tr += 1\n",
    "\n",
    "    out_fp = os.path.join(datasetConfig.processed_path, '{}/{}'.format(split, item))\n",
    "    in_fp=os.path.join(datasetConfig.raw_path, '{}'.format(item))\n",
    "    copy_file(in_fp, out_fp, verbose=False)\n",
    "\n",
    "    split_to_item_to_nreviews[split][item] = n\n",
    "print('Number of train reviews: {} / {}'.format(cur_n_tr, n_tr))\n",
    "print('Number of val reviews: {} / {}'.format(cur_n_val, n_val))\n",
    "print('Number of test reviews: {} / {}'.format(cur_n_te, n_te))\n",
    "\n",
    "# This file is used by AmazonPytorchDataset\n",
    "for split, item_to_nreviews in split_to_item_to_nreviews.items():\n",
    "    out_fp = os.path.join(datasetConfig.processed_path, '{}/item-to-n.json'.format(split))\n",
    "    save_file(item_to_nreviews, out_fp)"
   ]
  },
  {
   "cell_type": "code",
   "execution_count": null,
   "metadata": {},
   "outputs": [],
   "source": []
  },
  {
   "cell_type": "code",
   "execution_count": null,
   "metadata": {},
   "outputs": [],
   "source": []
  },
  {
   "cell_type": "code",
   "execution_count": 27,
   "metadata": {
    "ExecuteTime": {
     "end_time": "2020-12-16T20:55:09.159428Z",
     "start_time": "2020-12-16T20:55:09.154277Z"
    }
   },
   "outputs": [],
   "source": [
    "class AUSPytorchDataset():\n",
    "    \"\"\"\n",
    "    Implements Pytorch Dataset\n",
    "    One data point for model is n_docs reviews for one item. When training, we want to have batch_size items and\n",
    "    sample n_docs reviews for each item. If a item has less than n_docs reviews, we sample with replacement\n",
    "    (sampling with replacement as then you'll be summarizing repeated reviews, but this shouldn't happen right now\n",
    "    as only items with a minimum number of reviews is used (50). These items and theiR reviews are selected\n",
    "    in AmazonDataset.save_processed_splits().\n",
    "    \"\"\"\n",
    "    def __init__(self, split=None, n_docs=None,\n",
    "                 subset=None,\n",
    "                 seed=0,\n",
    "                 sample_reviews=True,\n",
    "                 category=None,\n",
    "                 item_max_reviews=None):\n",
    "        \"\"\"\n",
    "        Args:\n",
    "            split: str ('train', val', 'test')\n",
    "            n_docs: int\n",
    "            subset: float (Value in [0.0, 1.0]. If given, then dataset is truncated to subset of the businesses\n",
    "            seed: int (set seed because we will be using np.random.choice to sample reviews if sample_reviews=True)\n",
    "            sample_reviews: boolean\n",
    "                - When True, __getitem_ will sample n_docs reviews for each item. The number of times a item appears\n",
    "                in the dataset is dependent on uniform_items.\n",
    "                - When False, each item will appear math.floor(number of reviews item has / n_docs) times\n",
    "                so that almost every review is seen (with up to n_docs - 1 reviews not seen).\n",
    "                    - Setting False is useful for (a) validation / test, and (b) simply iterating over all the reviews\n",
    "                    (e.g. to build the vocabulary).\n",
    "            item_max_reviews: int (maximum number of reviews a item can have)\n",
    "                - This is used to remove outliers from the data. This is especially important if uniform_items=False,\n",
    "                as there may be a large number of reviews in a training epoch coming from a single item. This also\n",
    "                still matters when uniform_items=True, as items an outlier number of reviews will have reviews\n",
    "                that are never sampled.\n",
    "                - For the Amazon dataset, there are 11,870 items in the training set with at least 50 reviews\n",
    "                no longer than 150 subtokens. The breakdown of the distribution in the training set is:\n",
    "                    Percentile  |  percentile_n_reviews  |  n_items  |  total_revs\n",
    "                    TODO?\n",
    "        \"\"\"\n",
    "        self.split = split\n",
    "        self.subset = subset\n",
    "        self.sample_reviews = sample_reviews\n",
    "\n",
    "        self.ds_conf = DatasetConfig('AUS')\n",
    "\n",
    "        # Set random seed so that choice is always the same across experiments\n",
    "        # Especially necessary for test set (along with shuffle=False in the DataLoader)\n",
    "        np.random.seed(seed)\n",
    "        item_to_nreviews = load_file(\n",
    "            os.path.join(self.ds_conf.processed_path, '{}/item-to-nreviews.json'.format(split)))\n",
    "        self.idx_to_item = {}\n",
    "        \n",
    "        idx = 0\n",
    "        for item, n_reviews in item_to_nreviews.items():\n",
    "            self.idx_to_item[idx] = item\n",
    "            idx += 1\n",
    "\n",
    "\n",
    "#     def __getitem__(self, idx):\n",
    "#             # Map idx to item and load reviews\n",
    "#             item = self.idx_to_item[idx]\n",
    "#             fp = os.path.join(self.ds_conf.processed_path, '{}/{}'.format(self.split, item))\n",
    "#             case_text = load_file(fp)\n",
    "\n",
    "#             # Get reviews from item\n",
    "#             if self.sample_reviews:\n",
    "#                 if len(reviews) < self.n_docs:\n",
    "#                     reviews = np.random.choice(reviews, size=self.n_docs, replace=True)\n",
    "#                 else:\n",
    "#                     reviews = np.random.choice(reviews, size=self.n_docs, replace=False)\n",
    "#             else:\n",
    "#                 start_idx = self.idx_to_item_startidx[idx]\n",
    "#                 reviews = reviews[start_idx:start_idx + self.n_docs]\n",
    "\n",
    "#             return texts, "
   ]
  },
  {
   "cell_type": "code",
   "execution_count": 28,
   "metadata": {
    "ExecuteTime": {
     "end_time": "2020-12-16T20:55:09.776747Z",
     "start_time": "2020-12-16T20:55:09.757231Z"
    }
   },
   "outputs": [],
   "source": [
    "class AUSDataset():\n",
    "    def __init__(self):\n",
    "        self.name = 'AUS'\n",
    "        self.conf = DatasetConfig('AUS')\n",
    "        self.case_collection = None\n",
    "#         self.subwordenc = load_file(self.conf.subwordenc_path)\n",
    "\n",
    "#     @staticmethod\n",
    "    def load_all_reviews(self):\n",
    "        \"\"\"\n",
    "        Returns:\n",
    "            reviews: list of dicts\n",
    "            item_to_reviews: dict, key=str (item id), value=list of dicts\n",
    "        \"\"\"\n",
    "        case_collection={}\n",
    "        n=0\n",
    "        fnames=os.listdir(self.conf.raw_path)\n",
    "        for fname in fnames:\n",
    "            fpath=self.conf.raw_path+fname\n",
    "            try:\n",
    "                case_collection[fname]=load_file(fpath)\n",
    "            except Exception as e:\n",
    "                print(e)\n",
    "\n",
    "        return case_collection,len(fnames)\n",
    "\n",
    "    def get_data_loader(self, split='train', subset=None,\n",
    "                        batch_size=64, shuffle=True, num_workers=4):\n",
    "        \"\"\"\n",
    "        Return iterator over specific split in dataset\n",
    "        \"\"\"\n",
    "        ds = AUSPytorchDataset(split=split, subset=subset)\n",
    "        loader = DataLoader(ds, batch_size=batch_size, shuffle=shuffle, num_workers=num_workers)\n",
    "        return loader\n",
    "\n",
    "    ####################################\n",
    "    #\n",
    "    # One off functions\n",
    "    #\n",
    "    ####################################\n",
    "    def save_processed_splits(self):\n",
    "        \"\"\"\n",
    "        Save train, val, and test splits. Splits are across items (e.g. a item is either in train, val, or test).\n",
    "        Iterates over all reviews in the original dataset. Tries to get close to a 80-10-10 split.\n",
    "        Args:\n",
    "            review_max_len: int (maximum length in subtokens a review can be)\n",
    "            item_min_reviews: int (min number of reviews a item must have)\n",
    "            out_dir: str (path to save splits to, e.g. datasets/amazon_dataset/proccessed/)\n",
    "        \"\"\"\n",
    "        sent_max_len = self.conf.sent_max_len\n",
    "        item_min_sent=self.conf.item_min_sent  \n",
    "        item_max_sent=self.conf.item_max_sent \n",
    "        item_min_catch=self.conf.item_min_catch  \n",
    "        item_max_catch=self.conf.item_max_catch  \n",
    "\n",
    "        print('Saving processed splits')\n",
    "        if self.case_collection is None:\n",
    "            self.case_collection,num_file = self.load_all_reviews()\n",
    "        \n",
    "        case_collection_len=num_file\n",
    "        \n",
    "        for key in self.case_collection.keys():\n",
    "            self.case_collection[key][\"num_sentence\"]=len(self.case_collection[key][\"sentences\"])\n",
    "            self.case_collection[key][\"num_catchphrase\"]=len(self.case_collection[key][\"catchphrases\"])\n",
    "            self.case_collection[key][\"max_sent_length\"]=max([len(sent) for sent in self.case_collection[key][\"sentences\"]])\n",
    "            self.case_collection[key][\"max_catch_length\"]=max([len(sent) for sent in self.case_collection[key][\"catchphrases\"]])\n",
    "    \n",
    "        \n",
    "        print('Filtering case having more than {} sentence or less than {} sentence '.format(item_max_sent,item_min_sent))\n",
    "        case_collection_1={}\n",
    "        for key in self.case_collection.keys():\n",
    "            if self.case_collection[key][\"num_sentence\"]<item_max_sent and self.case_collection[key][\"num_sentence\"]>item_min_sent:\n",
    "                case_collection_1[key]=self.case_collection[key]\n",
    "        case_collection_len_1=len(case_collection_1)\n",
    "        \n",
    "        \n",
    "        print('Filtering case having more than {} catchphrase or less than {} catchphrase '.format(item_max_catch,item_min_catch))\n",
    "        case_collection_2={}\n",
    "        for key in case_collection_1.keys():\n",
    "            if case_collection_1[key][\"num_catchphrase\"]<item_max_catch and case_collection_1[key][\"num_sentence\"]>item_min_catch:\n",
    "                case_collection_2[key]=case_collection_1[key]\n",
    "                \n",
    "        case_collection_len_2=len(case_collection_2)\n",
    "\n",
    "        # # Note: we actually do more filtering in the Pytorch dataset class\n",
    "        print('Filtering case having sentence longer than: {}'.format(sent_max_len))\n",
    "        case_collection_3={}\n",
    "        for key in case_collection_2.keys():\n",
    "            if case_collection_2[key][\"max_sent_length\"]<sent_max_len: \n",
    "                case_collection_3[key]=case_collection_2[key]\n",
    "        \n",
    "        case_collection_len_3=len(case_collection_3)\n",
    "        self.case_collection_len_final=case_collection_len_3\n",
    "\n",
    "        # Calculate target amount of reviews per item\n",
    "        print('Total number of reviews before filtering: {}'.format(case_collection_len))\n",
    "        print('Total number of reviews after filtering: {}'.format(self.case_collection_len_final))\n",
    "\n",
    "\n",
    "        \n",
    "        self.case_collection=case_collection_3\n",
    "        \n",
    "        fname=sorted(list(self.case_collection.keys()))\n",
    "        item_to_n=dict(zip(fname,range(len(fname))))\n",
    "        n_to_item={v:k for k,v in item_to_n.items()}\n",
    "        \n",
    "        # Construct splits\n",
    "        n=self.case_collection_len_final\n",
    "        n_tr, n_val, n_te = int(0.8 * n), int(0.1 * n), int(0.1 * n)\n",
    "        cur_n_tr, cur_n_val, cur_n_te = 0, 0, 0\n",
    "        split_to_item_to_nreviews = {'train': {}, 'val': {}, 'test': {}}\n",
    "        # In descending order of number of reviews per item\n",
    "        for i, (item, n) in enumerate(sorted(item_to_n.items())):\n",
    "            # once every ten items, save to val / test if we haven't yet hit the target number\n",
    "            if (i % 10 == 8) and (cur_n_val < n_val):\n",
    "                split = 'val'\n",
    "                cur_n_val += 1\n",
    "            elif (i % 10 == 9) and (cur_n_te < n_te):\n",
    "                split = 'test'\n",
    "                cur_n_te += 1\n",
    "            else:\n",
    "                split = 'train'\n",
    "                cur_n_tr += 1\n",
    "\n",
    "            out_fp = os.path.join(datasetConfig.processed_path, '{}/{}'.format(split, item))\n",
    "            in_fp=os.path.join(datasetConfig.raw_path, '{}'.format(item))\n",
    "            copy_file(in_fp, out_fp, verbose=False)\n",
    "\n",
    "            split_to_item_to_nreviews[split][item] = n\n",
    "        print('Number of train reviews: {} / {}'.format(cur_n_tr, n_tr))\n",
    "        print('Number of val reviews: {} / {}'.format(cur_n_val, n_val))\n",
    "        print('Number of test reviews: {} / {}'.format(cur_n_te, n_te))\n",
    "\n",
    "        # This file is used by AmazonPytorchDataset\n",
    "        for split, item_to_nreviews in split_to_item_to_nreviews.items():\n",
    "            out_fp = os.path.join(datasetConfig.processed_path, '{}/item-to-n.json'.format(split))\n",
    "            save_file(item_to_nreviews, out_fp)\n"
   ]
  },
  {
   "cell_type": "markdown",
   "metadata": {},
   "source": [
    "## Test"
   ]
  },
  {
   "cell_type": "code",
   "execution_count": 53,
   "metadata": {
    "ExecuteTime": {
     "end_time": "2020-11-20T16:00:02.048411Z",
     "start_time": "2020-11-20T16:00:02.045138Z"
    }
   },
   "outputs": [],
   "source": [
    "ds=AUSDataset()\n",
    "\n",
    "ds.save_processed_splits()"
   ]
  },
  {
   "cell_type": "code",
   "execution_count": 24,
   "metadata": {
    "ExecuteTime": {
     "end_time": "2020-11-20T15:01:19.331883Z",
     "start_time": "2020-11-20T15:01:19.327354Z"
    }
   },
   "outputs": [
    {
     "data": {
      "text/plain": [
       "3502"
      ]
     },
     "execution_count": 24,
     "metadata": {},
     "output_type": "execute_result"
    }
   ],
   "source": [
    "NUMBER_FILE6"
   ]
  },
  {
   "cell_type": "code",
   "execution_count": 208,
   "metadata": {
    "ExecuteTime": {
     "end_time": "2020-11-20T13:32:53.190071Z",
     "start_time": "2020-11-20T13:32:53.184583Z"
    }
   },
   "outputs": [
    {
     "data": {
      "text/plain": [
       "(2801, 350, 350)"
      ]
     },
     "execution_count": 208,
     "metadata": {},
     "output_type": "execute_result"
    }
   ],
   "source": [
    "n_tr,n_val,n_te"
   ]
  },
  {
   "cell_type": "code",
   "execution_count": 204,
   "metadata": {
    "ExecuteTime": {
     "end_time": "2020-11-20T13:32:09.608239Z",
     "start_time": "2020-11-20T13:32:09.603553Z"
    }
   },
   "outputs": [
    {
     "data": {
      "text/plain": [
       "2802"
      ]
     },
     "execution_count": 204,
     "metadata": {},
     "output_type": "execute_result"
    }
   ],
   "source": [
    "len(split_to_item_to_nreviews['train'])"
   ]
  },
  {
   "cell_type": "code",
   "execution_count": 205,
   "metadata": {
    "ExecuteTime": {
     "end_time": "2020-11-20T13:32:10.159019Z",
     "start_time": "2020-11-20T13:32:10.154672Z"
    }
   },
   "outputs": [
    {
     "data": {
      "text/plain": [
       "350"
      ]
     },
     "execution_count": 205,
     "metadata": {},
     "output_type": "execute_result"
    }
   ],
   "source": [
    "len(split_to_item_to_nreviews['test'])"
   ]
  },
  {
   "cell_type": "code",
   "execution_count": 206,
   "metadata": {
    "ExecuteTime": {
     "end_time": "2020-11-20T13:32:10.724197Z",
     "start_time": "2020-11-20T13:32:10.719246Z"
    }
   },
   "outputs": [
    {
     "data": {
      "text/plain": [
       "350"
      ]
     },
     "execution_count": 206,
     "metadata": {},
     "output_type": "execute_result"
    }
   ],
   "source": [
    "len(split_to_item_to_nreviews['val'])"
   ]
  },
  {
   "cell_type": "markdown",
   "metadata": {},
   "source": [
    "## Data analysis"
   ]
  },
  {
   "cell_type": "code",
   "execution_count": 14,
   "metadata": {
    "ExecuteTime": {
     "end_time": "2020-12-02T14:29:48.101195Z",
     "start_time": "2020-12-02T14:29:46.742121Z"
    }
   },
   "outputs": [
    {
     "name": "stdout",
     "output_type": "stream",
     "text": [
      "'utf-8' codec can't decode byte 0xe9 in position 39: invalid continuation byte\n",
      "'utf-8' codec can't decode byte 0xe9 in position 86: invalid continuation byte\n",
      "'utf-8' codec can't decode byte 0xf6 in position 36: invalid start byte\n",
      "'utf-8' codec can't decode byte 0xd6 in position 66: invalid continuation byte\n"
     ]
    }
   ],
   "source": [
    "case_collection={}\n",
    "n=0\n",
    "fnames=os.listdir(dir_path)\n",
    "for fname in fnames:\n",
    "    fpath=dir_path+fname\n",
    "    with open(fpath,'r')as file:\n",
    "        try:\n",
    "            doc=file.read()\n",
    "            sentences=re.findall(sentence_pattern, doc)\n",
    "            catchphrases=re.findall(catchphrase_pattern, doc)\n",
    "            case_collection[fname]={}\n",
    "            case_collection[fname][\"sentences\"]=sentences\n",
    "            case_collection[fname][\"catchphrases\"]=catchphrases\n",
    "        except Exception as e:\n",
    "            print(e)"
   ]
  },
  {
   "cell_type": "code",
   "execution_count": 15,
   "metadata": {
    "ExecuteTime": {
     "end_time": "2020-12-02T14:29:48.910141Z",
     "start_time": "2020-12-02T14:29:48.733515Z"
    }
   },
   "outputs": [],
   "source": [
    "sent_length=[]\n",
    "catch_length=[]\n",
    "for key in case_collection.keys():\n",
    "    sent_length.append([  len(sent)  for sent in case_collection[key][\"sentences\"]])\n",
    "    catch_length.append([  len(sent)  for sent in case_collection[key][\"catchphrases\"]])"
   ]
  },
  {
   "cell_type": "code",
   "execution_count": 16,
   "metadata": {
    "ExecuteTime": {
     "end_time": "2020-12-02T14:29:49.896057Z",
     "start_time": "2020-12-02T14:29:49.866253Z"
    }
   },
   "outputs": [],
   "source": [
    "sent_length_flat=[l for sents in sent_length for l in sents]\n",
    "max_sent_length=[max(sents) for sents in sent_length]\n",
    "catch_length_flat=[l for sents in catch_length for l in sents ]"
   ]
  },
  {
   "cell_type": "code",
   "execution_count": 27,
   "metadata": {
    "ExecuteTime": {
     "end_time": "2020-12-02T14:37:19.601435Z",
     "start_time": "2020-12-02T14:37:18.989531Z"
    }
   },
   "outputs": [
    {
     "data": {
      "image/png": "[encoded data removed]",
      "text/plain": [
       "<Figure size 432x288 with 1 Axes>"
      ]
     },
     "metadata": {
      "needs_background": "light"
     },
     "output_type": "display_data"
    }
   ],
   "source": [
    "sns_plot=sns.histplot(sent_length_flat,bins=30).set_title(\"sentence length dist\")\n",
    "fig = sns_plot.get_figure()\n",
    "savepath=\"./img/sentence_length_dist.png\"\n",
    "if not os.path.exists(savepath):\n",
    "    fig.savefig(savepath)\n",
    "    print(\"fig saved\")"
   ]
  },
  {
   "cell_type": "code",
   "execution_count": 147,
   "metadata": {
    "ExecuteTime": {
     "end_time": "2020-11-20T12:56:24.170458Z",
     "start_time": "2020-11-20T12:56:24.155366Z"
    }
   },
   "outputs": [
    {
     "data": {
      "text/plain": [
       "0.9791559444158517"
      ]
     },
     "execution_count": 147,
     "metadata": {},
     "output_type": "execute_result"
    }
   ],
   "source": [
    "sum(np.array(max_sent_length)<1200)/len(max_sent_length)"
   ]
  },
  {
   "cell_type": "code",
   "execution_count": 46,
   "metadata": {
    "ExecuteTime": {
     "end_time": "2020-12-02T14:40:45.287349Z",
     "start_time": "2020-12-02T14:40:45.108134Z"
    }
   },
   "outputs": [
    {
     "data": {
      "image/png": "[encoded data removed]",
      "text/plain": [
       "<Figure size 432x288 with 1 Axes>"
      ]
     },
     "metadata": {
      "needs_background": "light"
     },
     "output_type": "display_data"
    }
   ],
   "source": [
    "sns_plot=sns.histplot(max_sent_length,bins=30).set_title(\"max_single_sentence_length_dist\")\n",
    "fig = sns_plot.get_figure()\n",
    "savepath=\"./img/max_single_sentence_length_dist.png\"\n",
    "if not os.path.exists(savepath):\n",
    "    fig.savefig(savepath)\n",
    "    print(\"fig saved\")"
   ]
  },
  {
   "cell_type": "code",
   "execution_count": 31,
   "metadata": {
    "ExecuteTime": {
     "end_time": "2020-12-02T14:38:11.040538Z",
     "start_time": "2020-12-02T14:38:10.856675Z"
    }
   },
   "outputs": [
    {
     "data": {
      "image/png": "[encoded data removed]",
      "text/plain": [
       "<Figure size 432x288 with 1 Axes>"
      ]
     },
     "metadata": {
      "needs_background": "light"
     },
     "output_type": "display_data"
    }
   ],
   "source": [
    "sns_plot=sns.histplot(catch_length_flat,bins=30).set_title(\"catchphrase length dist\")\n",
    "fig = sns_plot.get_figure()\n",
    "savepath=\"./img/catchphrase_length_dist.png\"\n",
    "if not os.path.exists(savepath):\n",
    "    fig.savefig(savepath)\n",
    "    print(\"fig saved\")"
   ]
  },
  {
   "cell_type": "code",
   "execution_count": 37,
   "metadata": {
    "ExecuteTime": {
     "end_time": "2020-12-02T14:39:41.613986Z",
     "start_time": "2020-12-02T14:39:41.609875Z"
    }
   },
   "outputs": [],
   "source": [
    "import numpy as np\n",
    "nums_catchphrase=np.array(nums_catchphrase)\n",
    "nums_sentence=np.array(nums_sentence)"
   ]
  },
  {
   "cell_type": "code",
   "execution_count": null,
   "metadata": {},
   "outputs": [],
   "source": []
  },
  {
   "cell_type": "code",
   "execution_count": 38,
   "metadata": {
    "ExecuteTime": {
     "end_time": "2020-12-02T14:39:42.504761Z",
     "start_time": "2020-12-02T14:39:42.500793Z"
    }
   },
   "outputs": [
    {
     "data": {
      "text/plain": [
       "7.986618630983016"
      ]
     },
     "execution_count": 38,
     "metadata": {},
     "output_type": "execute_result"
    }
   ],
   "source": [
    "np.mean(nums_catchphrase)"
   ]
  },
  {
   "cell_type": "code",
   "execution_count": 39,
   "metadata": {
    "ExecuteTime": {
     "end_time": "2020-12-02T14:39:42.932323Z",
     "start_time": "2020-12-02T14:39:42.928921Z"
    }
   },
   "outputs": [
    {
     "data": {
      "text/plain": [
       "175.28769943386516"
      ]
     },
     "execution_count": 39,
     "metadata": {},
     "output_type": "execute_result"
    }
   ],
   "source": [
    "np.mean(nums_sentence)"
   ]
  },
  {
   "cell_type": "code",
   "execution_count": 40,
   "metadata": {
    "ExecuteTime": {
     "end_time": "2020-12-02T14:39:43.410765Z",
     "start_time": "2020-12-02T14:39:43.408405Z"
    }
   },
   "outputs": [],
   "source": [
    "import numpy as np\n",
    "import matplotlib.pyplot as plt\n",
    "import seaborn as sns"
   ]
  },
  {
   "cell_type": "code",
   "execution_count": 43,
   "metadata": {
    "ExecuteTime": {
     "end_time": "2020-12-02T14:40:21.549970Z",
     "start_time": "2020-12-02T14:40:21.374634Z"
    }
   },
   "outputs": [
    {
     "data": {
      "image/png": "[encoded data removed]",
      "text/plain": [
       "<Figure size 432x288 with 1 Axes>"
      ]
     },
     "metadata": {
      "needs_background": "light"
     },
     "output_type": "display_data"
    }
   ],
   "source": [
    "sns_plot=sns.histplot(nums_catchphrase,bins=30).set_title(\"#catchphrase_per_case_dist\")\n",
    "fig = sns_plot.get_figure()\n",
    "savepath=\"./img/#catchphrase_per_case_dist.png\"\n",
    "if not os.path.exists(savepath):\n",
    "    fig.savefig(savepath)\n",
    "    print(\"fig saved\")"
   ]
  },
  {
   "cell_type": "code",
   "execution_count": 50,
   "metadata": {
    "ExecuteTime": {
     "end_time": "2020-12-02T14:42:38.141398Z",
     "start_time": "2020-12-02T14:42:37.846325Z"
    },
    "scrolled": true
   },
   "outputs": [
    {
     "data": {
      "image/png": "[encoded data removed]",
      "text/plain": [
       "<Figure size 432x288 with 1 Axes>"
      ]
     },
     "metadata": {
      "needs_background": "light"
     },
     "output_type": "display_data"
    }
   ],
   "source": [
    "sns_plot=sns.histplot(nums_sentence,bins=100).set_title(\"#sentence per case dist\")\n",
    "fig = sns_plot.get_figure()\n",
    "plt.xlim(0, 2000)\n",
    "savepath=\"./img/#sentence_per_case_dist.png\"\n",
    "if not os.path.exists(savepath):\n",
    "    fig.savefig(savepath)\n",
    "    print(\"fig saved\")"
   ]
  },
  {
   "cell_type": "code",
   "execution_count": 115,
   "metadata": {
    "ExecuteTime": {
     "end_time": "2020-11-20T10:28:01.590973Z",
     "start_time": "2020-11-20T10:28:01.575510Z"
    }
   },
   "outputs": [
    {
     "data": {
      "text/plain": [
       "0.9554812146165723"
      ]
     },
     "execution_count": 115,
     "metadata": {},
     "output_type": "execute_result"
    }
   ],
   "source": [
    "sum((nums_catchphrase<20) & (nums_catchphrase>=2))/len(nums_catchphrase)"
   ]
  },
  {
   "cell_type": "code",
   "execution_count": 112,
   "metadata": {
    "ExecuteTime": {
     "end_time": "2020-11-20T10:17:46.904633Z",
     "start_time": "2020-11-20T10:17:46.886306Z"
    },
    "scrolled": true
   },
   "outputs": [
    {
     "data": {
      "text/plain": [
       "0.9433865156973752"
      ]
     },
     "execution_count": 112,
     "metadata": {},
     "output_type": "execute_result"
    }
   ],
   "source": [
    "sum((nums_sentence<500) & (nums_sentence>=10))/len(nums_sentence)"
   ]
  },
  {
   "cell_type": "code",
   "execution_count": 116,
   "metadata": {
    "ExecuteTime": {
     "end_time": "2020-11-20T11:02:00.613895Z",
     "start_time": "2020-11-20T11:02:00.602987Z"
    }
   },
   "outputs": [
    {
     "data": {
      "text/plain": [
       "3886"
      ]
     },
     "execution_count": 116,
     "metadata": {},
     "output_type": "execute_result"
    }
   ],
   "source": [
    "len(nums_catchphrase)"
   ]
  },
  {
   "cell_type": "markdown",
   "metadata": {},
   "source": [
    "Plot case description length"
   ]
  },
  {
   "cell_type": "code",
   "execution_count": 57,
   "metadata": {
    "ExecuteTime": {
     "end_time": "2020-12-02T14:46:28.530240Z",
     "start_time": "2020-12-02T14:46:28.481370Z"
    }
   },
   "outputs": [],
   "source": [
    "case_descriptions=[]\n",
    "for key in case_collection.keys():\n",
    "    case_descriptions.append(len(\" \".join(case_collection[key][\"sentences\"])))"
   ]
  },
  {
   "cell_type": "code",
   "execution_count": 62,
   "metadata": {
    "ExecuteTime": {
     "end_time": "2020-12-02T14:48:34.088608Z",
     "start_time": "2020-12-02T14:48:34.077167Z"
    }
   },
   "outputs": [
    {
     "data": {
      "text/html": [
       "<div>\n",
       "<style scoped>\n",
       "    .dataframe tbody tr th:only-of-type {\n",
       "        vertical-align: middle;\n",
       "    }\n",
       "\n",
       "    .dataframe tbody tr th {\n",
       "        vertical-align: top;\n",
       "    }\n",
       "\n",
       "    .dataframe thead th {\n",
       "        text-align: right;\n",
       "    }\n",
       "</style>\n",
       "<table border=\"1\" class=\"dataframe\">\n",
       "  <thead>\n",
       "    <tr style=\"text-align: right;\">\n",
       "      <th></th>\n",
       "      <th>case description length</th>\n",
       "    </tr>\n",
       "  </thead>\n",
       "  <tbody>\n",
       "    <tr>\n",
       "      <th>count</th>\n",
       "      <td>3.886000e+03</td>\n",
       "    </tr>\n",
       "    <tr>\n",
       "      <th>mean</th>\n",
       "      <td>2.766677e+04</td>\n",
       "    </tr>\n",
       "    <tr>\n",
       "      <th>std</th>\n",
       "      <td>4.937713e+04</td>\n",
       "    </tr>\n",
       "    <tr>\n",
       "      <th>min</th>\n",
       "      <td>1.420000e+02</td>\n",
       "    </tr>\n",
       "    <tr>\n",
       "      <th>25%</th>\n",
       "      <td>8.921250e+03</td>\n",
       "    </tr>\n",
       "    <tr>\n",
       "      <th>50%</th>\n",
       "      <td>1.659550e+04</td>\n",
       "    </tr>\n",
       "    <tr>\n",
       "      <th>75%</th>\n",
       "      <td>3.122175e+04</td>\n",
       "    </tr>\n",
       "    <tr>\n",
       "      <th>max</th>\n",
       "      <td>1.671482e+06</td>\n",
       "    </tr>\n",
       "  </tbody>\n",
       "</table>\n",
       "</div>"
      ],
      "text/plain": [
       "       case description length\n",
       "count             3.886000e+03\n",
       "mean              2.766677e+04\n",
       "std               4.937713e+04\n",
       "min               1.420000e+02\n",
       "25%               8.921250e+03\n",
       "50%               1.659550e+04\n",
       "75%               3.122175e+04\n",
       "max               1.671482e+06"
      ]
     },
     "execution_count": 62,
     "metadata": {},
     "output_type": "execute_result"
    }
   ],
   "source": [
    "pd.DataFrame(case_descriptions,columns=[\"case description length\"]).describe()"
   ]
  },
  {
   "cell_type": "markdown",
   "metadata": {},
   "source": [
    "# Data Analysis"
   ]
  },
  {
   "cell_type": "code",
   "execution_count": 2,
   "metadata": {
    "ExecuteTime": {
     "end_time": "2020-11-19T14:45:25.075699Z",
     "start_time": "2020-11-19T14:45:24.180455Z"
    }
   },
   "outputs": [],
   "source": [
    "import pandas as pd"
   ]
  },
  {
   "cell_type": "code",
   "execution_count": 7,
   "metadata": {
    "ExecuteTime": {
     "end_time": "2020-11-19T14:46:24.598507Z",
     "start_time": "2020-11-19T14:46:23.899165Z"
    }
   },
   "outputs": [],
   "source": [
    "summ=pd.read_csv(output_fn,sep='\\t',header=None,names=[\"text\",\"summ\"])"
   ]
  },
  {
   "cell_type": "code",
   "execution_count": 8,
   "metadata": {
    "ExecuteTime": {
     "end_time": "2020-11-19T14:46:25.138696Z",
     "start_time": "2020-11-19T14:46:25.133745Z"
    }
   },
   "outputs": [
    {
     "data": {
      "text/plain": [
       "3886"
      ]
     },
     "execution_count": 8,
     "metadata": {},
     "output_type": "execute_result"
    }
   ],
   "source": [
    "len(summ)"
   ]
  },
  {
   "cell_type": "code",
   "execution_count": 21,
   "metadata": {
    "ExecuteTime": {
     "end_time": "2020-11-19T15:01:34.814174Z",
     "start_time": "2020-11-19T15:01:34.799251Z"
    }
   },
   "outputs": [
    {
     "data": {
      "text/plain": [
       "count    3.886000e+03\n",
       "mean     2.766677e+04\n",
       "std      4.937713e+04\n",
       "min      1.420000e+02\n",
       "25%      8.921250e+03\n",
       "50%      1.659550e+04\n",
       "75%      3.122175e+04\n",
       "max      1.671482e+06\n",
       "Name: text, dtype: float64"
      ]
     },
     "execution_count": 21,
     "metadata": {},
     "output_type": "execute_result"
    }
   ],
   "source": [
    "summ[\"text\"].apply(len).describe()"
   ]
  },
  {
   "cell_type": "code",
   "execution_count": 22,
   "metadata": {
    "ExecuteTime": {
     "end_time": "2020-11-19T15:01:43.707555Z",
     "start_time": "2020-11-19T15:01:43.697650Z"
    }
   },
   "outputs": [
    {
     "data": {
      "text/plain": [
       "count    3886.000000\n",
       "mean      438.872105\n",
       "std       405.346827\n",
       "min        14.000000\n",
       "25%       194.000000\n",
       "50%       328.000000\n",
       "75%       557.750000\n",
       "max      6687.000000\n",
       "Name: summ, dtype: float64"
      ]
     },
     "execution_count": 22,
     "metadata": {},
     "output_type": "execute_result"
    }
   ],
   "source": [
    "summ[\"summ\"].apply(len).describecribe()"
   ]
  },
  {
   "cell_type": "code",
   "execution_count": 68,
   "metadata": {
    "ExecuteTime": {
     "end_time": "2020-12-02T15:04:43.246777Z",
     "start_time": "2020-12-02T15:04:43.228839Z"
    }
   },
   "outputs": [],
   "source": [
    "with open(\"/Users/saibo/tmp/vocab.txt\",\"r\") as file:\n",
    "    l=file.read().splitlines()"
   ]
  },
  {
   "cell_type": "code",
   "execution_count": 72,
   "metadata": {
    "ExecuteTime": {
     "end_time": "2020-12-02T15:05:30.475957Z",
     "start_time": "2020-12-02T15:05:30.465227Z"
    }
   },
   "outputs": [],
   "source": [
    "vocab=pd.DataFrame([len(token) for token in l])"
   ]
  },
  {
   "cell_type": "code",
   "execution_count": 73,
   "metadata": {
    "ExecuteTime": {
     "end_time": "2020-12-02T15:05:35.619261Z",
     "start_time": "2020-12-02T15:05:35.602657Z"
    }
   },
   "outputs": [
    {
     "data": {
      "text/html": [
       "<div>\n",
       "<style scoped>\n",
       "    .dataframe tbody tr th:only-of-type {\n",
       "        vertical-align: middle;\n",
       "    }\n",
       "\n",
       "    .dataframe tbody tr th {\n",
       "        vertical-align: top;\n",
       "    }\n",
       "\n",
       "    .dataframe thead th {\n",
       "        text-align: right;\n",
       "    }\n",
       "</style>\n",
       "<table border=\"1\" class=\"dataframe\">\n",
       "  <thead>\n",
       "    <tr style=\"text-align: right;\">\n",
       "      <th></th>\n",
       "      <th>0</th>\n",
       "    </tr>\n",
       "  </thead>\n",
       "  <tbody>\n",
       "    <tr>\n",
       "      <th>count</th>\n",
       "      <td>30522.000000</td>\n",
       "    </tr>\n",
       "    <tr>\n",
       "      <th>mean</th>\n",
       "      <td>6.584955</td>\n",
       "    </tr>\n",
       "    <tr>\n",
       "      <th>std</th>\n",
       "      <td>2.483049</td>\n",
       "    </tr>\n",
       "    <tr>\n",
       "      <th>min</th>\n",
       "      <td>1.000000</td>\n",
       "    </tr>\n",
       "    <tr>\n",
       "      <th>25%</th>\n",
       "      <td>5.000000</td>\n",
       "    </tr>\n",
       "    <tr>\n",
       "      <th>50%</th>\n",
       "      <td>6.000000</td>\n",
       "    </tr>\n",
       "    <tr>\n",
       "      <th>75%</th>\n",
       "      <td>8.000000</td>\n",
       "    </tr>\n",
       "    <tr>\n",
       "      <th>max</th>\n",
       "      <td>18.000000</td>\n",
       "    </tr>\n",
       "  </tbody>\n",
       "</table>\n",
       "</div>"
      ],
      "text/plain": [
       "                  0\n",
       "count  30522.000000\n",
       "mean       6.584955\n",
       "std        2.483049\n",
       "min        1.000000\n",
       "25%        5.000000\n",
       "50%        6.000000\n",
       "75%        8.000000\n",
       "max       18.000000"
      ]
     },
     "execution_count": 73,
     "metadata": {},
     "output_type": "execute_result"
    }
   ],
   "source": [
    "vocab.describe()"
   ]
  },
  {
   "cell_type": "code",
   "execution_count": 74,
   "metadata": {
    "ExecuteTime": {
     "end_time": "2020-12-02T15:05:51.563307Z",
     "start_time": "2020-12-02T15:05:51.557486Z"
    }
   },
   "outputs": [
    {
     "data": {
      "text/plain": [
       "6.0"
      ]
     },
     "execution_count": 74,
     "metadata": {},
     "output_type": "execute_result"
    }
   ],
   "source": [
    "np.median(vocab)"
   ]
  },
  {
   "cell_type": "code",
   "execution_count": null,
   "metadata": {},
   "outputs": [],
   "source": []
  }
 ],
 "metadata": {
  "kernelspec": {
   "display_name": "Python 3",
   "language": "python",
   "name": "python3"
  },
  "language_info": {
   "codemirror_mode": {
    "name": "ipython",
    "version": 3
   },
   "file_extension": ".py",
   "mimetype": "text/x-python",
   "name": "python",
   "nbconvert_exporter": "python",
   "pygments_lexer": "ipython3",
   "version": "3.7.9"
  }
 },
 "nbformat": 4,
 "nbformat_minor": 2
}